{
 "cells": [
  {
   "cell_type": "markdown",
   "metadata": {},
   "source": [
    "# Logistic Regression with a Neural Network mindset\n",
    "\n",
    "Welcome to your first (required) programming assignment! You will build a logistic regression classifier to recognize  cats. This assignment will step you through how to do this with a Neural Network mindset, and so will also hone your intuitions about deep learning.\n",
    "\n",
    "**Instructions:**\n",
    "- Do not use loops (for/while) in your code, unless the instructions explicitly ask you to do so.\n",
    "\n",
    "**You will learn to:**\n",
    "- Build the general architecture of a learning algorithm, including:\n",
    "    - Initializing parameters\n",
    "    - Calculating the cost function and its gradient\n",
    "    - Using an optimization algorithm (gradient descent) \n",
    "- Gather all three functions above into a main model function, in the right order."
   ]
  },
  {
   "cell_type": "markdown",
   "metadata": {},
   "source": [
    "## <font color='darkblue'>Updates</font>\n",
    "This notebook has been updated over the past few months.  The prior version was named \"v5\", and the current versionis now named '6a'\n",
    "\n",
    "#### If you were working on a previous version:\n",
    "* You can find your prior work by looking in the file directory for the older files (named by version name).\n",
    "* To view the file directory, click on the \"Coursera\" icon in the top left corner of this notebook.\n",
    "* Please copy your work from the older versions to the new version, in order to submit your work for grading.\n",
    "\n",
    "#### List of Updates\n",
    "* Forward propagation formula, indexing now starts at 1 instead of 0.\n",
    "* Optimization function comment now says \"print cost every 100 training iterations\" instead of \"examples\".\n",
    "* Fixed grammar in the comments.\n",
    "* Y_prediction_test variable name is used consistently.\n",
    "* Plot's axis label now says \"iterations (hundred)\" instead of \"iterations\".\n",
    "* When testing the model, the test image is normalized by dividing by 255."
   ]
  },
  {
   "cell_type": "markdown",
   "metadata": {},
   "source": [
    "## 1 - Packages ##\n",
    "\n",
    "First, let's run the cell below to import all the packages that you will need during this assignment. \n",
    "- [numpy](www.numpy.org) is the fundamental package for scientific computing with Python.\n",
    "- [h5py](http://www.h5py.org) is a common package to interact with a dataset that is stored on an H5 file.\n",
    "- [matplotlib](http://matplotlib.org) is a famous library to plot graphs in Python.\n",
    "- [PIL](http://www.pythonware.com/products/pil/) and [scipy](https://www.scipy.org/) are used here to test your model with your own picture at the end."
   ]
  },
  {
   "cell_type": "code",
   "execution_count": 1,
   "metadata": {
    "collapsed": true
   },
   "outputs": [
    {
     "output_type": "stream",
     "name": "stderr",
     "text": [
      "Matplotlib is building the font cache; this may take a moment.\n"
     ]
    }
   ],
   "source": [
    "import numpy as np\n",
    "import matplotlib.pyplot as plt\n",
    "import h5py\n",
    "import scipy\n",
    "from PIL import Image\n",
    "from scipy import ndimage\n",
    "from lr_utils import load_dataset\n",
    "\n",
    "%matplotlib inline"
   ]
  },
  {
   "cell_type": "markdown",
   "metadata": {},
   "source": [
    "## 2 - Overview of the Problem set ##\n",
    "\n",
    "**Problem Statement**: You are given a dataset (\"data.h5\") containing:\n",
    "    - a training set of m_train images labeled as cat (y=1) or non-cat (y=0)\n",
    "    - a test set of m_test images labeled as cat or non-cat\n",
    "    - each image is of shape (num_px, num_px, 3) where 3 is for the 3 channels (RGB). Thus, each image is square (height = num_px) and (width = num_px).\n",
    "\n",
    "You will build a simple image-recognition algorithm that can correctly classify pictures as cat or non-cat.\n",
    "\n",
    "Let's get more familiar with the dataset. Load the data by running the following code."
   ]
  },
  {
   "cell_type": "code",
   "execution_count": 2,
   "metadata": {
    "collapsed": true
   },
   "outputs": [],
   "source": [
    "# Loading the data (cat/non-cat)\n",
    "train_set_x_orig, train_set_y, test_set_x_orig, test_set_y, classes = load_dataset()"
   ]
  },
  {
   "cell_type": "markdown",
   "metadata": {},
   "source": [
    "We added \"_orig\" at the end of image datasets (train and test) because we are going to preprocess them. After preprocessing, we will end up with train_set_x and test_set_x (the labels train_set_y and test_set_y don't need any preprocessing).\n",
    "\n",
    "Each line of your train_set_x_orig and test_set_x_orig is an array representing an image. You can visualize an example by running the following code. Feel free also to change the `index` value and re-run to see other images. "
   ]
  },
  {
   "cell_type": "code",
   "execution_count": 8,
   "metadata": {
    "collapsed": true
   },
   "outputs": [
    {
     "output_type": "stream",
     "name": "stdout",
     "text": [
      "y = [0], it's a 'non-cat' picture.\n"
     ]
    },
    {
     "output_type": "display_data",
     "data": {
      "text/plain": "<Figure size 432x288 with 1 Axes>",
      "image/svg+xml": "<?xml version=\"1.0\" encoding=\"utf-8\" standalone=\"no\"?>\r\n<!DOCTYPE svg PUBLIC \"-//W3C//DTD SVG 1.1//EN\"\r\n  \"http://www.w3.org/Graphics/SVG/1.1/DTD/svg11.dtd\">\r\n<svg height=\"250.618594pt\" version=\"1.1\" viewBox=\"0 0 251.565 250.618594\" width=\"251.565pt\" xmlns=\"http://www.w3.org/2000/svg\" xmlns:xlink=\"http://www.w3.org/1999/xlink\">\r\n <metadata>\r\n  <rdf:RDF xmlns:cc=\"http://creativecommons.org/ns#\" xmlns:dc=\"http://purl.org/dc/elements/1.1/\" xmlns:rdf=\"http://www.w3.org/1999/02/22-rdf-syntax-ns#\">\r\n   <cc:Work>\r\n    <dc:type rdf:resource=\"http://purl.org/dc/dcmitype/StillImage\"/>\r\n    <dc:date>2021-07-03T21:15:54.188468</dc:date>\r\n    <dc:format>image/svg+xml</dc:format>\r\n    <dc:creator>\r\n     <cc:Agent>\r\n      <dc:title>Matplotlib v3.4.2, https://matplotlib.org/</dc:title>\r\n     </cc:Agent>\r\n    </dc:creator>\r\n   </cc:Work>\r\n  </rdf:RDF>\r\n </metadata>\r\n <defs>\r\n  <style type=\"text/css\">*{stroke-linecap:butt;stroke-linejoin:round;}</style>\r\n </defs>\r\n <g id=\"figure_1\">\r\n  <g id=\"patch_1\">\r\n   <path d=\"M 0 250.618594 \r\nL 251.565 250.618594 \r\nL 251.565 0 \r\nL 0 0 \r\nz\r\n\" style=\"fill:none;\"/>\r\n  </g>\r\n  <g id=\"axes_1\">\r\n   <g id=\"patch_2\">\r\n    <path d=\"M 26.925 226.740469 \r\nL 244.365 226.740469 \r\nL 244.365 9.300469 \r\nL 26.925 9.300469 \r\nz\r\n\" style=\"fill:#ffffff;\"/>\r\n   </g>\r\n   <g clip-path=\"url(#pb53347b914)\">\r\n    <image height=\"218\" id=\"imageaa1d6d3340\" transform=\"scale(1 -1)translate(0 -218)\" width=\"218\" x=\"26.925\" xlink:href=\"data:image/png;base64,\r\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\" y=\"-8.740469\"/>\r\n   </g>\r\n   <g id=\"matplotlib.axis_1\">\r\n    <g id=\"xtick_1\">\r\n     <g id=\"line2d_1\">\r\n      <defs>\r\n       <path d=\"M 0 0 \r\nL 0 3.5 \r\n\" id=\"m730dcc1c8b\" style=\"stroke:#000000;stroke-width:0.8;\"/>\r\n      </defs>\r\n      <g>\r\n       <use style=\"stroke:#000000;stroke-width:0.8;\" x=\"28.62375\" xlink:href=\"#m730dcc1c8b\" y=\"226.740469\"/>\r\n      </g>\r\n     </g>\r\n     <g id=\"text_1\">\r\n      <!-- 0 -->\r\n      <g transform=\"translate(25.4425 241.338906)scale(0.1 -0.1)\">\r\n       <defs>\r\n        <path d=\"M 2034 4250 \r\nQ 1547 4250 1301 3770 \r\nQ 1056 3291 1056 2328 \r\nQ 1056 1369 1301 889 \r\nQ 1547 409 2034 409 \r\nQ 2525 409 2770 889 \r\nQ 3016 1369 3016 2328 \r\nQ 3016 3291 2770 3770 \r\nQ 2525 4250 2034 4250 \r\nz\r\nM 2034 4750 \r\nQ 2819 4750 3233 4129 \r\nQ 3647 3509 3647 2328 \r\nQ 3647 1150 3233 529 \r\nQ 2819 -91 2034 -91 \r\nQ 1250 -91 836 529 \r\nQ 422 1150 422 2328 \r\nQ 422 3509 836 4129 \r\nQ 1250 4750 2034 4750 \r\nz\r\n\" id=\"DejaVuSans-30\" transform=\"scale(0.015625)\"/>\r\n       </defs>\r\n       <use xlink:href=\"#DejaVuSans-30\"/>\r\n      </g>\r\n     </g>\r\n    </g>\r\n    <g id=\"xtick_2\">\r\n     <g id=\"line2d_2\">\r\n      <g>\r\n       <use style=\"stroke:#000000;stroke-width:0.8;\" x=\"62.59875\" xlink:href=\"#m730dcc1c8b\" y=\"226.740469\"/>\r\n      </g>\r\n     </g>\r\n     <g id=\"text_2\">\r\n      <!-- 10 -->\r\n      <g transform=\"translate(56.23625 241.338906)scale(0.1 -0.1)\">\r\n       <defs>\r\n        <path d=\"M 794 531 \r\nL 1825 531 \r\nL 1825 4091 \r\nL 703 3866 \r\nL 703 4441 \r\nL 1819 4666 \r\nL 2450 4666 \r\nL 2450 531 \r\nL 3481 531 \r\nL 3481 0 \r\nL 794 0 \r\nL 794 531 \r\nz\r\n\" id=\"DejaVuSans-31\" transform=\"scale(0.015625)\"/>\r\n       </defs>\r\n       <use xlink:href=\"#DejaVuSans-31\"/>\r\n       <use x=\"63.623047\" xlink:href=\"#DejaVuSans-30\"/>\r\n      </g>\r\n     </g>\r\n    </g>\r\n    <g id=\"xtick_3\">\r\n     <g id=\"line2d_3\">\r\n      <g>\r\n       <use style=\"stroke:#000000;stroke-width:0.8;\" x=\"96.57375\" xlink:href=\"#m730dcc1c8b\" y=\"226.740469\"/>\r\n      </g>\r\n     </g>\r\n     <g id=\"text_3\">\r\n      <!-- 20 -->\r\n      <g transform=\"translate(90.21125 241.338906)scale(0.1 -0.1)\">\r\n       <defs>\r\n        <path d=\"M 1228 531 \r\nL 3431 531 \r\nL 3431 0 \r\nL 469 0 \r\nL 469 531 \r\nQ 828 903 1448 1529 \r\nQ 2069 2156 2228 2338 \r\nQ 2531 2678 2651 2914 \r\nQ 2772 3150 2772 3378 \r\nQ 2772 3750 2511 3984 \r\nQ 2250 4219 1831 4219 \r\nQ 1534 4219 1204 4116 \r\nQ 875 4013 500 3803 \r\nL 500 4441 \r\nQ 881 4594 1212 4672 \r\nQ 1544 4750 1819 4750 \r\nQ 2544 4750 2975 4387 \r\nQ 3406 4025 3406 3419 \r\nQ 3406 3131 3298 2873 \r\nQ 3191 2616 2906 2266 \r\nQ 2828 2175 2409 1742 \r\nQ 1991 1309 1228 531 \r\nz\r\n\" id=\"DejaVuSans-32\" transform=\"scale(0.015625)\"/>\r\n       </defs>\r\n       <use xlink:href=\"#DejaVuSans-32\"/>\r\n       <use x=\"63.623047\" xlink:href=\"#DejaVuSans-30\"/>\r\n      </g>\r\n     </g>\r\n    </g>\r\n    <g id=\"xtick_4\">\r\n     <g id=\"line2d_4\">\r\n      <g>\r\n       <use style=\"stroke:#000000;stroke-width:0.8;\" x=\"130.54875\" xlink:href=\"#m730dcc1c8b\" y=\"226.740469\"/>\r\n      </g>\r\n     </g>\r\n     <g id=\"text_4\">\r\n      <!-- 30 -->\r\n      <g transform=\"translate(124.18625 241.338906)scale(0.1 -0.1)\">\r\n       <defs>\r\n        <path d=\"M 2597 2516 \r\nQ 3050 2419 3304 2112 \r\nQ 3559 1806 3559 1356 \r\nQ 3559 666 3084 287 \r\nQ 2609 -91 1734 -91 \r\nQ 1441 -91 1130 -33 \r\nQ 819 25 488 141 \r\nL 488 750 \r\nQ 750 597 1062 519 \r\nQ 1375 441 1716 441 \r\nQ 2309 441 2620 675 \r\nQ 2931 909 2931 1356 \r\nQ 2931 1769 2642 2001 \r\nQ 2353 2234 1838 2234 \r\nL 1294 2234 \r\nL 1294 2753 \r\nL 1863 2753 \r\nQ 2328 2753 2575 2939 \r\nQ 2822 3125 2822 3475 \r\nQ 2822 3834 2567 4026 \r\nQ 2313 4219 1838 4219 \r\nQ 1578 4219 1281 4162 \r\nQ 984 4106 628 3988 \r\nL 628 4550 \r\nQ 988 4650 1302 4700 \r\nQ 1616 4750 1894 4750 \r\nQ 2613 4750 3031 4423 \r\nQ 3450 4097 3450 3541 \r\nQ 3450 3153 3228 2886 \r\nQ 3006 2619 2597 2516 \r\nz\r\n\" id=\"DejaVuSans-33\" transform=\"scale(0.015625)\"/>\r\n       </defs>\r\n       <use xlink:href=\"#DejaVuSans-33\"/>\r\n       <use x=\"63.623047\" xlink:href=\"#DejaVuSans-30\"/>\r\n      </g>\r\n     </g>\r\n    </g>\r\n    <g id=\"xtick_5\">\r\n     <g id=\"line2d_5\">\r\n      <g>\r\n       <use style=\"stroke:#000000;stroke-width:0.8;\" x=\"164.52375\" xlink:href=\"#m730dcc1c8b\" y=\"226.740469\"/>\r\n      </g>\r\n     </g>\r\n     <g id=\"text_5\">\r\n      <!-- 40 -->\r\n      <g transform=\"translate(158.16125 241.338906)scale(0.1 -0.1)\">\r\n       <defs>\r\n        <path d=\"M 2419 4116 \r\nL 825 1625 \r\nL 2419 1625 \r\nL 2419 4116 \r\nz\r\nM 2253 4666 \r\nL 3047 4666 \r\nL 3047 1625 \r\nL 3713 1625 \r\nL 3713 1100 \r\nL 3047 1100 \r\nL 3047 0 \r\nL 2419 0 \r\nL 2419 1100 \r\nL 313 1100 \r\nL 313 1709 \r\nL 2253 4666 \r\nz\r\n\" id=\"DejaVuSans-34\" transform=\"scale(0.015625)\"/>\r\n       </defs>\r\n       <use xlink:href=\"#DejaVuSans-34\"/>\r\n       <use x=\"63.623047\" xlink:href=\"#DejaVuSans-30\"/>\r\n      </g>\r\n     </g>\r\n    </g>\r\n    <g id=\"xtick_6\">\r\n     <g id=\"line2d_6\">\r\n      <g>\r\n       <use style=\"stroke:#000000;stroke-width:0.8;\" x=\"198.49875\" xlink:href=\"#m730dcc1c8b\" y=\"226.740469\"/>\r\n      </g>\r\n     </g>\r\n     <g id=\"text_6\">\r\n      <!-- 50 -->\r\n      <g transform=\"translate(192.13625 241.338906)scale(0.1 -0.1)\">\r\n       <defs>\r\n        <path d=\"M 691 4666 \r\nL 3169 4666 \r\nL 3169 4134 \r\nL 1269 4134 \r\nL 1269 2991 \r\nQ 1406 3038 1543 3061 \r\nQ 1681 3084 1819 3084 \r\nQ 2600 3084 3056 2656 \r\nQ 3513 2228 3513 1497 \r\nQ 3513 744 3044 326 \r\nQ 2575 -91 1722 -91 \r\nQ 1428 -91 1123 -41 \r\nQ 819 9 494 109 \r\nL 494 744 \r\nQ 775 591 1075 516 \r\nQ 1375 441 1709 441 \r\nQ 2250 441 2565 725 \r\nQ 2881 1009 2881 1497 \r\nQ 2881 1984 2565 2268 \r\nQ 2250 2553 1709 2553 \r\nQ 1456 2553 1204 2497 \r\nQ 953 2441 691 2322 \r\nL 691 4666 \r\nz\r\n\" id=\"DejaVuSans-35\" transform=\"scale(0.015625)\"/>\r\n       </defs>\r\n       <use xlink:href=\"#DejaVuSans-35\"/>\r\n       <use x=\"63.623047\" xlink:href=\"#DejaVuSans-30\"/>\r\n      </g>\r\n     </g>\r\n    </g>\r\n    <g id=\"xtick_7\">\r\n     <g id=\"line2d_7\">\r\n      <g>\r\n       <use style=\"stroke:#000000;stroke-width:0.8;\" x=\"232.47375\" xlink:href=\"#m730dcc1c8b\" y=\"226.740469\"/>\r\n      </g>\r\n     </g>\r\n     <g id=\"text_7\">\r\n      <!-- 60 -->\r\n      <g transform=\"translate(226.11125 241.338906)scale(0.1 -0.1)\">\r\n       <defs>\r\n        <path d=\"M 2113 2584 \r\nQ 1688 2584 1439 2293 \r\nQ 1191 2003 1191 1497 \r\nQ 1191 994 1439 701 \r\nQ 1688 409 2113 409 \r\nQ 2538 409 2786 701 \r\nQ 3034 994 3034 1497 \r\nQ 3034 2003 2786 2293 \r\nQ 2538 2584 2113 2584 \r\nz\r\nM 3366 4563 \r\nL 3366 3988 \r\nQ 3128 4100 2886 4159 \r\nQ 2644 4219 2406 4219 \r\nQ 1781 4219 1451 3797 \r\nQ 1122 3375 1075 2522 \r\nQ 1259 2794 1537 2939 \r\nQ 1816 3084 2150 3084 \r\nQ 2853 3084 3261 2657 \r\nQ 3669 2231 3669 1497 \r\nQ 3669 778 3244 343 \r\nQ 2819 -91 2113 -91 \r\nQ 1303 -91 875 529 \r\nQ 447 1150 447 2328 \r\nQ 447 3434 972 4092 \r\nQ 1497 4750 2381 4750 \r\nQ 2619 4750 2861 4703 \r\nQ 3103 4656 3366 4563 \r\nz\r\n\" id=\"DejaVuSans-36\" transform=\"scale(0.015625)\"/>\r\n       </defs>\r\n       <use xlink:href=\"#DejaVuSans-36\"/>\r\n       <use x=\"63.623047\" xlink:href=\"#DejaVuSans-30\"/>\r\n      </g>\r\n     </g>\r\n    </g>\r\n   </g>\r\n   <g id=\"matplotlib.axis_2\">\r\n    <g id=\"ytick_1\">\r\n     <g id=\"line2d_8\">\r\n      <defs>\r\n       <path d=\"M 0 0 \r\nL -3.5 0 \r\n\" id=\"m5df15522d7\" style=\"stroke:#000000;stroke-width:0.8;\"/>\r\n      </defs>\r\n      <g>\r\n       <use style=\"stroke:#000000;stroke-width:0.8;\" x=\"26.925\" xlink:href=\"#m5df15522d7\" y=\"10.999219\"/>\r\n      </g>\r\n     </g>\r\n     <g id=\"text_8\">\r\n      <!-- 0 -->\r\n      <g transform=\"translate(13.5625 14.798437)scale(0.1 -0.1)\">\r\n       <use xlink:href=\"#DejaVuSans-30\"/>\r\n      </g>\r\n     </g>\r\n    </g>\r\n    <g id=\"ytick_2\">\r\n     <g id=\"line2d_9\">\r\n      <g>\r\n       <use style=\"stroke:#000000;stroke-width:0.8;\" x=\"26.925\" xlink:href=\"#m5df15522d7\" y=\"44.974219\"/>\r\n      </g>\r\n     </g>\r\n     <g id=\"text_9\">\r\n      <!-- 10 -->\r\n      <g transform=\"translate(7.2 48.773437)scale(0.1 -0.1)\">\r\n       <use xlink:href=\"#DejaVuSans-31\"/>\r\n       <use x=\"63.623047\" xlink:href=\"#DejaVuSans-30\"/>\r\n      </g>\r\n     </g>\r\n    </g>\r\n    <g id=\"ytick_3\">\r\n     <g id=\"line2d_10\">\r\n      <g>\r\n       <use style=\"stroke:#000000;stroke-width:0.8;\" x=\"26.925\" xlink:href=\"#m5df15522d7\" y=\"78.949219\"/>\r\n      </g>\r\n     </g>\r\n     <g id=\"text_10\">\r\n      <!-- 20 -->\r\n      <g transform=\"translate(7.2 82.748437)scale(0.1 -0.1)\">\r\n       <use xlink:href=\"#DejaVuSans-32\"/>\r\n       <use x=\"63.623047\" xlink:href=\"#DejaVuSans-30\"/>\r\n      </g>\r\n     </g>\r\n    </g>\r\n    <g id=\"ytick_4\">\r\n     <g id=\"line2d_11\">\r\n      <g>\r\n       <use style=\"stroke:#000000;stroke-width:0.8;\" x=\"26.925\" xlink:href=\"#m5df15522d7\" y=\"112.924219\"/>\r\n      </g>\r\n     </g>\r\n     <g id=\"text_11\">\r\n      <!-- 30 -->\r\n      <g transform=\"translate(7.2 116.723437)scale(0.1 -0.1)\">\r\n       <use xlink:href=\"#DejaVuSans-33\"/>\r\n       <use x=\"63.623047\" xlink:href=\"#DejaVuSans-30\"/>\r\n      </g>\r\n     </g>\r\n    </g>\r\n    <g id=\"ytick_5\">\r\n     <g id=\"line2d_12\">\r\n      <g>\r\n       <use style=\"stroke:#000000;stroke-width:0.8;\" x=\"26.925\" xlink:href=\"#m5df15522d7\" y=\"146.899219\"/>\r\n      </g>\r\n     </g>\r\n     <g id=\"text_12\">\r\n      <!-- 40 -->\r\n      <g transform=\"translate(7.2 150.698437)scale(0.1 -0.1)\">\r\n       <use xlink:href=\"#DejaVuSans-34\"/>\r\n       <use x=\"63.623047\" xlink:href=\"#DejaVuSans-30\"/>\r\n      </g>\r\n     </g>\r\n    </g>\r\n    <g id=\"ytick_6\">\r\n     <g id=\"line2d_13\">\r\n      <g>\r\n       <use style=\"stroke:#000000;stroke-width:0.8;\" x=\"26.925\" xlink:href=\"#m5df15522d7\" y=\"180.874219\"/>\r\n      </g>\r\n     </g>\r\n     <g id=\"text_13\">\r\n      <!-- 50 -->\r\n      <g transform=\"translate(7.2 184.673437)scale(0.1 -0.1)\">\r\n       <use xlink:href=\"#DejaVuSans-35\"/>\r\n       <use x=\"63.623047\" xlink:href=\"#DejaVuSans-30\"/>\r\n      </g>\r\n     </g>\r\n    </g>\r\n    <g id=\"ytick_7\">\r\n     <g id=\"line2d_14\">\r\n      <g>\r\n       <use style=\"stroke:#000000;stroke-width:0.8;\" x=\"26.925\" xlink:href=\"#m5df15522d7\" y=\"214.849219\"/>\r\n      </g>\r\n     </g>\r\n     <g id=\"text_14\">\r\n      <!-- 60 -->\r\n      <g transform=\"translate(7.2 218.648437)scale(0.1 -0.1)\">\r\n       <use xlink:href=\"#DejaVuSans-36\"/>\r\n       <use x=\"63.623047\" xlink:href=\"#DejaVuSans-30\"/>\r\n      </g>\r\n     </g>\r\n    </g>\r\n   </g>\r\n   <g id=\"patch_3\">\r\n    <path d=\"M 26.925 226.740469 \r\nL 26.925 9.300469 \r\n\" style=\"fill:none;stroke:#000000;stroke-linecap:square;stroke-linejoin:miter;stroke-width:0.8;\"/>\r\n   </g>\r\n   <g id=\"patch_4\">\r\n    <path d=\"M 244.365 226.740469 \r\nL 244.365 9.300469 \r\n\" style=\"fill:none;stroke:#000000;stroke-linecap:square;stroke-linejoin:miter;stroke-width:0.8;\"/>\r\n   </g>\r\n   <g id=\"patch_5\">\r\n    <path d=\"M 26.925 226.740469 \r\nL 244.365 226.740469 \r\n\" style=\"fill:none;stroke:#000000;stroke-linecap:square;stroke-linejoin:miter;stroke-width:0.8;\"/>\r\n   </g>\r\n   <g id=\"patch_6\">\r\n    <path d=\"M 26.925 9.300469 \r\nL 244.365 9.300469 \r\n\" style=\"fill:none;stroke:#000000;stroke-linecap:square;stroke-linejoin:miter;stroke-width:0.8;\"/>\r\n   </g>\r\n  </g>\r\n </g>\r\n <defs>\r\n  <clipPath id=\"pb53347b914\">\r\n   <rect height=\"217.44\" width=\"217.44\" x=\"26.925\" y=\"9.300469\"/>\r\n  </clipPath>\r\n </defs>\r\n</svg>\r\n",
      "image/png": "[encoded data removed]"
     },
     "metadata": {
      "needs_background": "light"
     }
    }
   ],
   "source": [
    "# Example of a picture\n",
    "index = 30\n",
    "plt.imshow(train_set_x_orig[index])\n",
    "print (\"y = \" + str(train_set_y[:, index]) + \", it's a '\" + classes[np.squeeze(train_set_y[:, index])].decode(\"utf-8\") +  \"' picture.\")"
   ]
  },
  {
   "cell_type": "markdown",
   "metadata": {},
   "source": [
    "Many software bugs in deep learning come from having matrix/vector dimensions that don't fit. If you can keep your matrix/vector dimensions straight you will go a long way toward eliminating many bugs. \n",
    "\n",
    "**Exercise:** Find the values for:\n",
    "    - m_train (number of training examples)\n",
    "    - m_test (number of test examples)\n",
    "    - num_px (= height = width of a training image)\n",
    "Remember that `train_set_x_orig` is a numpy-array of shape (m_train, num_px, num_px, 3). For instance, you can access `m_train` by writing `train_set_x_orig.shape[0]`."
   ]
  },
  {
   "cell_type": "code",
   "execution_count": 6,
   "metadata": {},
   "outputs": [
    {
     "output_type": "stream",
     "name": "stdout",
     "text": [
      "train_set_x shape: (209, 64, 64, 3)\ntrain_set_y shape: (1, 209)\ntest_set_x shape: (50, 64, 64, 3)\ntest_set_y shape: (1, 50)\n"
     ]
    }
   ],
   "source": [
    "print (\"train_set_x shape: \" + str(train_set_x_orig.shape))\n",
    "print (\"train_set_y shape: \" + str(train_set_y.shape))\n",
    "print (\"test_set_x shape: \" + str(test_set_x_orig.shape))\n",
    "print (\"test_set_y shape: \" + str(test_set_y.shape))"
   ]
  },
  {
   "cell_type": "code",
   "execution_count": 9,
   "metadata": {
    "collapsed": true,
    "scrolled": true
   },
   "outputs": [
    {
     "output_type": "stream",
     "name": "stdout",
     "text": [
      "Number of training examples: m_train = 209\nNumber of testing examples: m_test = 50\nHeight/Width of each image: num_px = 64\nEach image is of size: (64, 64, 3)\ntrain_set_x shape: (209, 64, 64, 3)\ntrain_set_y shape: (1, 209)\ntest_set_x shape: (50, 64, 64, 3)\ntest_set_y shape: (1, 50)\n"
     ]
    }
   ],
   "source": [
    "### START CODE HERE ### (≈ 3 lines of code)\n",
    "m_train = train_set_x_orig.shape[0]\n",
    "m_test = test_set_x_orig.shape[0]\n",
    "num_px = test_set_x_orig.shape[1]\n",
    "### END CODE HERE ###\n",
    "\n",
    "print (\"Number of training examples: m_train = \" + str(m_train))\n",
    "print (\"Number of testing examples: m_test = \" + str(m_test))\n",
    "print (\"Height/Width of each image: num_px = \" + str(num_px))\n",
    "print (\"Each image is of size: (\" + str(num_px) + \", \" + str(num_px) + \", 3)\")\n",
    "print (\"train_set_x shape: \" + str(train_set_x_orig.shape))\n",
    "print (\"train_set_y shape: \" + str(train_set_y.shape))\n",
    "print (\"test_set_x shape: \" + str(test_set_x_orig.shape))\n",
    "print (\"test_set_y shape: \" + str(test_set_y.shape))"
   ]
  },
  {
   "cell_type": "markdown",
   "metadata": {},
   "source": [
    "**Expected Output for m_train, m_test and num_px**: \n",
    "<table style=\"width:15%\">\n",
    "  <tr>\n",
    "    <td>**m_train**</td>\n",
    "    <td> 209 </td> \n",
    "  </tr>\n",
    "  \n",
    "  <tr>\n",
    "    <td>**m_test**</td>\n",
    "    <td> 50 </td> \n",
    "  </tr>\n",
    "  \n",
    "  <tr>\n",
    "    <td>**num_px**</td>\n",
    "    <td> 64 </td> \n",
    "  </tr>\n",
    "  \n",
    "</table>\n"
   ]
  },
  {
   "cell_type": "markdown",
   "metadata": {},
   "source": [
    "For convenience, you should now reshape images of shape (num_px, num_px, 3) in a numpy-array of shape (num_px $*$ num_px $*$ 3, 1). After this, our training (and test) dataset is a numpy-array where each column represents a flattened image. There should be m_train (respectively m_test) columns.\n",
    "\n",
    "**Exercise:** Reshape the training and test data sets so that images of size (num_px, num_px, 3) are flattened into single vectors of shape (num\\_px $*$ num\\_px $*$ 3, 1).\n",
    "\n",
    "A trick when you want to flatten a matrix X of shape (a,b,c,d) to a matrix X_flatten of shape (b$*$c$*$d, a) is to use: \n",
    "```python\n",
    "X_flatten = X.reshape(X.shape[0], -1).T      # X.T is the transpose of X\n",
    "```"
   ]
  },
  {
   "cell_type": "code",
   "execution_count": 12,
   "metadata": {
    "collapsed": true
   },
   "outputs": [
    {
     "output_type": "stream",
     "name": "stdout",
     "text": [
      "train_set_x_flatten shape: (12288, 209)\ntrain_set_y shape: (1, 209)\ntest_set_x_flatten shape: (12288, 50)\ntest_set_y shape: (1, 50)\nsanity check after reshaping: [17 31 56 22 33]\n"
     ]
    }
   ],
   "source": [
    "# Reshape the training and test examples\n",
    "\n",
    "### START CODE HERE ### (≈ 2 lines of code)\n",
    "train_set_x_flatten = train_set_x_orig.reshape(train_set_x_orig.shape[0],-1).T\n",
    "test_set_x_flatten = test_set_x_orig.reshape(test_set_x_orig.shape[0],-1).T\n",
    "### END CODE HERE ###\n",
    "\n",
    "print (\"train_set_x_flatten shape: \" + str(train_set_x_flatten.shape))\n",
    "print (\"train_set_y shape: \" + str(train_set_y.shape))\n",
    "print (\"test_set_x_flatten shape: \" + str(test_set_x_flatten.shape))\n",
    "print (\"test_set_y shape: \" + str(test_set_y.shape))\n",
    "print (\"sanity check after reshaping: \" + str(train_set_x_flatten[0:5,0]))"
   ]
  },
  {
   "cell_type": "markdown",
   "metadata": {},
   "source": [
    "**Expected Output**: \n",
    "\n",
    "<table style=\"width:35%\">\n",
    "  <tr>\n",
    "    <td>**train_set_x_flatten shape**</td>\n",
    "    <td> (12288, 209)</td> \n",
    "  </tr>\n",
    "  <tr>\n",
    "    <td>**train_set_y shape**</td>\n",
    "    <td>(1, 209)</td> \n",
    "  </tr>\n",
    "  <tr>\n",
    "    <td>**test_set_x_flatten shape**</td>\n",
    "    <td>(12288, 50)</td> \n",
    "  </tr>\n",
    "  <tr>\n",
    "    <td>**test_set_y shape**</td>\n",
    "    <td>(1, 50)</td> \n",
    "  </tr>\n",
    "  <tr>\n",
    "  <td>**sanity check after reshaping**</td>\n",
    "  <td>[17 31 56 22 33]</td> \n",
    "  </tr>\n",
    "</table>"
   ]
  },
  {
   "cell_type": "markdown",
   "metadata": {},
   "source": [
    "To represent color images, the red, green and blue channels (RGB) must be specified for each pixel, and so the pixel value is actually a vector of three numbers ranging from 0 to 255.\n",
    "\n",
    "One common preprocessing step in machine learning is to center and standardize your dataset, meaning that you substract the mean of the whole numpy array from each example, and then divide each example by the standard deviation of the whole numpy array. But for picture datasets, it is simpler and more convenient and works almost as well to just divide every row of the dataset by 255 (the maximum value of a pixel channel).\n",
    "\n",
    "<!-- During the training of your model, you're going to multiply weights and add biases to some initial inputs in order to observe neuron activations. Then you backpropogate with the gradients to train the model. But, it is extremely important for each feature to have a similar range such that our gradients don't explode. You will see that more in detail later in the lectures. !--> \n",
    "\n",
    "Let's standardize our dataset."
   ]
  },
  {
   "cell_type": "code",
   "execution_count": 13,
   "metadata": {
    "collapsed": true
   },
   "outputs": [],
   "source": [
    "train_set_x = train_set_x_flatten/255.\n",
    "test_set_x = test_set_x_flatten/255."
   ]
  },
  {
   "cell_type": "markdown",
   "metadata": {},
   "source": [
    "<font color='blue'>\n",
    "**What you need to remember:**\n",
    "\n",
    "Common steps for pre-processing a new dataset are:\n",
    "- Figure out the dimensions and shapes of the problem (m_train, m_test, num_px, ...)\n",
    "- Reshape the datasets such that each example is now a vector of size (num_px \\* num_px \\* 3, 1)\n",
    "- \"Standardize\" the data"
   ]
  },
  {
   "cell_type": "markdown",
   "metadata": {},
   "source": [
    "## 3 - General Architecture of the learning algorithm ##\n",
    "\n",
    "It's time to design a simple algorithm to distinguish cat images from non-cat images.\n",
    "\n",
    "You will build a Logistic Regression, using a Neural Network mindset. The following Figure explains why **Logistic Regression is actually a very simple Neural Network!**\n",
    "\n",
    "<img src=\"images/LogReg_kiank.png\" style=\"width:650px;height:400px;\">\n",
    "\n",
    "**Mathematical expression of the algorithm**:\n",
    "\n",
    "For one example $x^{(i)}$:\n",
    "$$z^{(i)} = w^T x^{(i)} + b \\tag{1}$$\n",
    "$$\\hat{y}^{(i)} = a^{(i)} = sigmoid(z^{(i)})\\tag{2}$$ \n",
    "$$ \\mathcal{L}(a^{(i)}, y^{(i)}) =  - y^{(i)}  \\log(a^{(i)}) - (1-y^{(i)} )  \\log(1-a^{(i)})\\tag{3}$$\n",
    "\n",
    "The cost is then computed by summing over all training examples:\n",
    "$$ J = \\frac{1}{m} \\sum_{i=1}^m \\mathcal{L}(a^{(i)}, y^{(i)})\\tag{6}$$\n",
    "\n",
    "**Key steps**:\n",
    "In this exercise, you will carry out the following steps: \n",
    "    - Initialize the parameters of the model\n",
    "    - Learn the parameters for the model by minimizing the cost  \n",
    "    - Use the learned parameters to make predictions (on the test set)\n",
    "    - Analyse the results and conclude"
   ]
  },
  {
   "cell_type": "markdown",
   "metadata": {},
   "source": [
    "## 4 - Building the parts of our algorithm ## \n",
    "\n",
    "The main steps for building a Neural Network are:\n",
    "1. Define the model structure (such as number of input features) \n",
    "2. Initialize the model's parameters\n",
    "3. Loop:\n",
    "    - Calculate current loss (forward propagation)\n",
    "    - Calculate current gradient (backward propagation)\n",
    "    - Update parameters (gradient descent)\n",
    "\n",
    "You often build 1-3 separately and integrate them into one function we call `model()`.\n",
    "\n",
    "### 4.1 - Helper functions\n",
    "\n",
    "**Exercise**: Using your code from \"Python Basics\", implement `sigmoid()`. As you've seen in the figure above, you need to compute $sigmoid( w^T x + b) = \\frac{1}{1 + e^{-(w^T x + b)}}$ to make predictions. Use np.exp()."
   ]
  },
  {
   "cell_type": "code",
   "execution_count": 14,
   "metadata": {
    "collapsed": true
   },
   "outputs": [],
   "source": [
    "# GRADED FUNCTION: sigmoid\n",
    "\n",
    "def sigmoid(z):\n",
    "    \"\"\"\n",
    "    Compute the sigmoid of z\n",
    "\n",
    "    Arguments:\n",
    "    z -- A scalar or numpy array of any size.\n",
    "\n",
    "    Return:\n",
    "    s -- sigmoid(z)\n",
    "    \"\"\"\n",
    "\n",
    "    ### START CODE HERE ### (≈ 1 line of code)\n",
    "    s = 1.0 / (1.0 + np.exp(-z))\n",
    "    ### END CODE HERE ###\n",
    "    \n",
    "    return s"
   ]
  },
  {
   "cell_type": "code",
   "execution_count": 15,
   "metadata": {
    "collapsed": true,
    "scrolled": true
   },
   "outputs": [
    {
     "output_type": "stream",
     "name": "stdout",
     "text": [
      "sigmoid([0, 2]) = [0.5        0.88079708]\n"
     ]
    }
   ],
   "source": [
    "print (\"sigmoid([0, 2]) = \" + str(sigmoid(np.array([0,2]))))"
   ]
  },
  {
   "cell_type": "markdown",
   "metadata": {},
   "source": [
    "**Expected Output**: \n",
    "\n",
    "<table>\n",
    "  <tr>\n",
    "    <td>**sigmoid([0, 2])**</td>\n",
    "    <td> [ 0.5         0.88079708]</td> \n",
    "  </tr>\n",
    "</table>"
   ]
  },
  {
   "cell_type": "markdown",
   "metadata": {},
   "source": [
    "### 4.2 - Initializing parameters\n",
    "\n",
    "**Exercise:** Implement parameter initialization in the cell below. You have to initialize w as a vector of zeros. If you don't know what numpy function to use, look up np.zeros() in the Numpy library's documentation."
   ]
  },
  {
   "cell_type": "code",
   "execution_count": 22,
   "metadata": {
    "collapsed": true
   },
   "outputs": [],
   "source": [
    "# GRADED FUNCTION: initialize_with_zeros\n",
    "\n",
    "def initialize_with_zeros(dim):\n",
    "    \"\"\"\n",
    "    This function creates a vector of zeros of shape (dim, 1) for w and initializes b to 0.\n",
    "    \n",
    "    Argument:\n",
    "    dim -- size of the w vector we want (or number of parameters in this case)\n",
    "    \n",
    "    Returns:\n",
    "    w -- initialized vector of shape (dim, 1)\n",
    "    b -- initialized scalar (corresponds to the bias)\n",
    "    \"\"\"\n",
    "    \n",
    "    ### START CODE HERE ### (≈ 1 line of code)\n",
    "    w = np.zeros((dim,1))\n",
    "    b = 0.0\n",
    "    ### END CODE HERE ###\n",
    "\n",
    "    assert(w.shape == (dim, 1))\n",
    "    assert(isinstance(b, float) or isinstance(b, int))\n",
    "    \n",
    "    return w, b"
   ]
  },
  {
   "cell_type": "code",
   "execution_count": 24,
   "metadata": {
    "collapsed": true
   },
   "outputs": [
    {
     "output_type": "stream",
     "name": "stdout",
     "text": [
      "w = [[0.]\n [0.]]\nb = 0.0\n"
     ]
    }
   ],
   "source": [
    "dim = 2\n",
    "w, b = initialize_with_zeros(dim)\n",
    "print (\"w = \" + str(w))\n",
    "print (\"b = \" + str(b))"
   ]
  },
  {
   "cell_type": "markdown",
   "metadata": {},
   "source": [
    "**Expected Output**: \n",
    "\n",
    "\n",
    "<table style=\"width:15%\">\n",
    "    <tr>\n",
    "        <td>  ** w **  </td>\n",
    "        <td> [[ 0.]\n",
    " [ 0.]] </td>\n",
    "    </tr>\n",
    "    <tr>\n",
    "        <td>  ** b **  </td>\n",
    "        <td> 0 </td>\n",
    "    </tr>\n",
    "</table>\n",
    "\n",
    "For image inputs, w will be of shape (num_px $\\times$ num_px $\\times$ 3, 1)."
   ]
  },
  {
   "cell_type": "markdown",
   "metadata": {},
   "source": [
    "### 4.3 - Forward and Backward propagation\n",
    "\n",
    "Now that your parameters are initialized, you can do the \"forward\" and \"backward\" propagation steps for learning the parameters.\n",
    "\n",
    "**Exercise:** Implement a function `propagate()` that computes the cost function and its gradient.\n",
    "\n",
    "**Hints**:\n",
    "\n",
    "Forward Propagation:\n",
    "- You get X\n",
    "- You compute $A = \\sigma(w^T X + b) = (a^{(1)}, a^{(2)}, ..., a^{(m-1)}, a^{(m)})$\n",
    "- You calculate the cost function: $J = -\\frac{1}{m}\\sum_{i=1}^{m}y^{(i)}\\log(a^{(i)})+(1-y^{(i)})\\log(1-a^{(i)})$\n",
    "\n",
    "Here are the two formulas you will be using: \n",
    "\n",
    "$$ \\frac{\\partial J}{\\partial w} = \\frac{1}{m}X(A-Y)^T\\tag{7}$$\n",
    "$$ \\frac{\\partial J}{\\partial b} = \\frac{1}{m} \\sum_{i=1}^m (a^{(i)}-y^{(i)})\\tag{8}$$"
   ]
  },
  {
   "cell_type": "code",
   "execution_count": 25,
   "metadata": {
    "collapsed": true
   },
   "outputs": [],
   "source": [
    "# GRADED FUNCTION: propagate\n",
    "\n",
    "def propagate(w, b, X, Y):\n",
    "    \"\"\"\n",
    "    Implement the cost function and its gradient for the propagation explained above\n",
    "\n",
    "    Arguments:\n",
    "    w -- weights, a numpy array of size (num_px * num_px * 3, 1)\n",
    "    b -- bias, a scalar\n",
    "    X -- data of size (num_px * num_px * 3, number of examples)\n",
    "    Y -- true \"label\" vector (containing 0 if non-cat, 1 if cat) of size (1, number of examples)\n",
    "\n",
    "    Return:\n",
    "    cost -- negative log-likelihood cost for logistic regression\n",
    "    dw -- gradient of the loss with respect to w, thus same shape as w\n",
    "    db -- gradient of the loss with respect to b, thus same shape as b\n",
    "    \n",
    "    Tips:\n",
    "    - Write your code step by step for the propagation. np.log(), np.dot()\n",
    "    \"\"\"\n",
    "    \n",
    "    m = X.shape[1]\n",
    "    \n",
    "    # FORWARD PROPAGATION (FROM X TO COST)\n",
    "    ### START CODE HERE ### (≈ 2 lines of code)\n",
    "    Z = w.T.dot(X) + b\n",
    "    A = sigmoid(Z)            # compute activation\n",
    "    cost = (-1/m) * (np.dot(Y,np.log(A).T) + np.dot((1-Y),np.log(1 - A).T))                   # compute cost\n",
    "    ### END CODE HERE ###\n",
    "    \n",
    "    # BACKWARD PROPAGATION (TO FIND GRAD)\n",
    "    ### START CODE HERE ### (≈ 2 lines of code)\n",
    "    dZ = A - Y\n",
    "    dw = 1.0 / m*X.dot(dZ.T)\n",
    "    db = 1.0 / m*np.sum(dZ)\n",
    "    ### END CODE HERE ###\n",
    "\n",
    "    assert(dw.shape == w.shape)\n",
    "    assert(db.dtype == float)\n",
    "    cost = np.squeeze(cost)\n",
    "    assert(cost.shape == ())\n",
    "    \n",
    "    grads = {\"dw\": dw,\n",
    "             \"db\": db}\n",
    "    \n",
    "    return grads, cost"
   ]
  },
  {
   "cell_type": "code",
   "execution_count": 26,
   "metadata": {
    "collapsed": true
   },
   "outputs": [
    {
     "output_type": "stream",
     "name": "stdout",
     "text": [
      "dw = [[0.99845601]\n [2.39507239]]\ndb = 0.001455578136784208\ncost = 5.801545319394553\n"
     ]
    }
   ],
   "source": [
    "w, b, X, Y = np.array([[1.],[2.]]), 2., np.array([[1.,2.,-1.],[3.,4.,-3.2]]), np.array([[1,0,1]])\n",
    "grads, cost = propagate(w, b, X, Y)\n",
    "print (\"dw = \" + str(grads[\"dw\"]))\n",
    "print (\"db = \" + str(grads[\"db\"]))\n",
    "print (\"cost = \" + str(cost))"
   ]
  },
  {
   "cell_type": "markdown",
   "metadata": {},
   "source": [
    "**Expected Output**:\n",
    "\n",
    "<table style=\"width:50%\">\n",
    "    <tr>\n",
    "        <td>  ** dw **  </td>\n",
    "      <td> [[ 0.99845601]\n",
    "     [ 2.39507239]]</td>\n",
    "    </tr>\n",
    "    <tr>\n",
    "        <td>  ** db **  </td>\n",
    "        <td> 0.00145557813678 </td>\n",
    "    </tr>\n",
    "    <tr>\n",
    "        <td>  ** cost **  </td>\n",
    "        <td> 5.801545319394553 </td>\n",
    "    </tr>\n",
    "\n",
    "</table>"
   ]
  },
  {
   "cell_type": "markdown",
   "metadata": {},
   "source": [
    "### 4.4 - Optimization\n",
    "- You have initialized your parameters.\n",
    "- You are also able to compute a cost function and its gradient.\n",
    "- Now, you want to update the parameters using gradient descent.\n",
    "\n",
    "**Exercise:** Write down the optimization function. The goal is to learn $w$ and $b$ by minimizing the cost function $J$. For a parameter $\\theta$, the update rule is $ \\theta = \\theta - \\alpha \\text{ } d\\theta$, where $\\alpha$ is the learning rate."
   ]
  },
  {
   "cell_type": "code",
   "execution_count": 27,
   "metadata": {
    "collapsed": true
   },
   "outputs": [],
   "source": [
    "# GRADED FUNCTION: optimize\n",
    "\n",
    "def optimize(w, b, X, Y, num_iterations, learning_rate, print_cost = False):\n",
    "    \"\"\"\n",
    "    This function optimizes w and b by running a gradient descent algorithm\n",
    "    \n",
    "    Arguments:\n",
    "    w -- weights, a numpy array of size (num_px * num_px * 3, 1)\n",
    "    b -- bias, a scalar\n",
    "    X -- data of shape (num_px * num_px * 3, number of examples)\n",
    "    Y -- true \"label\" vector (containing 0 if non-cat, 1 if cat), of shape (1, number of examples)\n",
    "    num_iterations -- number of iterations of the optimization loop\n",
    "    learning_rate -- learning rate of the gradient descent update rule\n",
    "    print_cost -- True to print the loss every 100 steps\n",
    "    \n",
    "    Returns:\n",
    "    params -- dictionary containing the weights w and bias b\n",
    "    grads -- dictionary containing the gradients of the weights and bias with respect to the cost function\n",
    "    costs -- list of all the costs computed during the optimization, this will be used to plot the learning curve.\n",
    "    \n",
    "    Tips:\n",
    "    You basically need to write down two steps and iterate through them:\n",
    "        1) Calculate the cost and the gradient for the current parameters. Use propagate().\n",
    "        2) Update the parameters using gradient descent rule for w and b.\n",
    "    \"\"\"\n",
    "    \n",
    "    costs = []\n",
    "    \n",
    "    for i in range(num_iterations):\n",
    "        \n",
    "        \n",
    "        # Cost and gradient calculation (≈ 1-4 lines of code)\n",
    "        ### START CODE HERE ### \n",
    "        grads, cost = propagate(w,b,X,Y)\n",
    "        ### END CODE HERE ###\n",
    "        \n",
    "        # Retrieve derivatives from grads\n",
    "        dw = grads[\"dw\"]\n",
    "        db = grads[\"db\"]\n",
    "        \n",
    "        # update rule (≈ 2 lines of code)\n",
    "        ### START CODE HERE ###\n",
    "        w = w - learning_rate * dw\n",
    "        b = b - learning_rate * db\n",
    "        ### END CODE HERE ###\n",
    "        \n",
    "        # Record the costs\n",
    "        if i % 100 == 0:\n",
    "            costs.append(cost)\n",
    "        \n",
    "        # Print the cost every 100 training iterations\n",
    "        if print_cost and i % 100 == 0:\n",
    "            print (\"Cost after iteration %i: %f\" %(i, cost))\n",
    "    \n",
    "    params = {\"w\": w,\n",
    "              \"b\": b}\n",
    "    \n",
    "    grads = {\"dw\": dw,\n",
    "             \"db\": db}\n",
    "    \n",
    "    return params, grads, costs"
   ]
  },
  {
   "cell_type": "code",
   "execution_count": 28,
   "metadata": {
    "collapsed": true
   },
   "outputs": [
    {
     "output_type": "stream",
     "name": "stdout",
     "text": [
      "w = [[0.19033591]\n [0.12259159]]\nb = 1.9253598300845747\ndw = [[0.67752042]\n [1.41625495]]\ndb = 0.21919450454067657\n"
     ]
    }
   ],
   "source": [
    "params, grads, costs = optimize(w, b, X, Y, num_iterations= 100, learning_rate = 0.009, print_cost = False)\n",
    "\n",
    "print (\"w = \" + str(params[\"w\"]))\n",
    "print (\"b = \" + str(params[\"b\"]))\n",
    "print (\"dw = \" + str(grads[\"dw\"]))\n",
    "print (\"db = \" + str(grads[\"db\"]))"
   ]
  },
  {
   "cell_type": "markdown",
   "metadata": {},
   "source": [
    "**Expected Output**: \n",
    "\n",
    "<table style=\"width:40%\">\n",
    "    <tr>\n",
    "       <td> **w** </td>\n",
    "       <td>[[ 0.19033591]\n",
    " [ 0.12259159]] </td>\n",
    "    </tr>\n",
    "    \n",
    "    <tr>\n",
    "       <td> **b** </td>\n",
    "       <td> 1.92535983008 </td>\n",
    "    </tr>\n",
    "    <tr>\n",
    "       <td> **dw** </td>\n",
    "       <td> [[ 0.67752042]\n",
    " [ 1.41625495]] </td>\n",
    "    </tr>\n",
    "    <tr>\n",
    "       <td> **db** </td>\n",
    "       <td> 0.219194504541 </td>\n",
    "    </tr>\n",
    "\n",
    "</table>"
   ]
  },
  {
   "cell_type": "markdown",
   "metadata": {},
   "source": [
    "**Exercise:** The previous function will output the learned w and b. We are able to use w and b to predict the labels for a dataset X. Implement the `predict()` function. There are two steps to computing predictions:\n",
    "\n",
    "1. Calculate $\\hat{Y} = A = \\sigma(w^T X + b)$\n",
    "\n",
    "2. Convert the entries of a into 0 (if activation <= 0.5) or 1 (if activation > 0.5), stores the predictions in a vector `Y_prediction`. If you wish, you can use an `if`/`else` statement in a `for` loop (though there is also a way to vectorize this). "
   ]
  },
  {
   "cell_type": "code",
   "execution_count": 29,
   "metadata": {
    "collapsed": true
   },
   "outputs": [],
   "source": [
    "# GRADED FUNCTION: predict\n",
    "\n",
    "def predict(w, b, X):\n",
    "    '''\n",
    "    Predict whether the label is 0 or 1 using learned logistic regression parameters (w, b)\n",
    "    \n",
    "    Arguments:\n",
    "    w -- weights, a numpy array of size (num_px * num_px * 3, 1)\n",
    "    b -- bias, a scalar\n",
    "    X -- data of size (num_px * num_px * 3, number of examples)\n",
    "    \n",
    "    Returns:\n",
    "    Y_prediction -- a numpy array (vector) containing all predictions (0/1) for the examples in X\n",
    "    '''\n",
    "    \n",
    "    m = X.shape[1]\n",
    "    Y_prediction = np.zeros((1,m))\n",
    "    w = w.reshape(X.shape[0], 1)\n",
    "    \n",
    "    # Compute vector \"A\" predicting the probabilities of a cat being present in the picture\n",
    "    ### START CODE HERE ### (≈ 1 line of code)\n",
    "    A = sigmoid(w.T.dot(X)+b)\n",
    "    ### END CODE HERE ###\n",
    "    \n",
    "    for i in range(A.shape[1]):\n",
    "        \n",
    "        # Convert probabilities A[0,i] to actual predictions p[0,i]\n",
    "        ### START CODE HERE ### (≈ 4 lines of code)\n",
    "        Y_prediction[0,i] = 1.0 if A[0][i] >= 0.5 else 0.0\n",
    "        ### END CODE HERE ###\n",
    "    \n",
    "    assert(Y_prediction.shape == (1, m))\n",
    "    \n",
    "    return Y_prediction"
   ]
  },
  {
   "cell_type": "code",
   "execution_count": 30,
   "metadata": {
    "collapsed": true
   },
   "outputs": [
    {
     "output_type": "stream",
     "name": "stdout",
     "text": [
      "predictions = [[1. 1. 0.]]\n"
     ]
    }
   ],
   "source": [
    "w = np.array([[0.1124579],[0.23106775]])\n",
    "b = -0.3\n",
    "X = np.array([[1.,-1.1,-3.2],[1.2,2.,0.1]])\n",
    "print (\"predictions = \" + str(predict(w, b, X)))"
   ]
  },
  {
   "cell_type": "markdown",
   "metadata": {},
   "source": [
    "**Expected Output**: \n",
    "\n",
    "<table style=\"width:30%\">\n",
    "    <tr>\n",
    "         <td>\n",
    "             **predictions**\n",
    "         </td>\n",
    "          <td>\n",
    "            [[ 1.  1.  0.]]\n",
    "         </td>  \n",
    "   </tr>\n",
    "\n",
    "</table>\n"
   ]
  },
  {
   "cell_type": "markdown",
   "metadata": {},
   "source": [
    "<font color='blue'>\n",
    "**What to remember:**\n",
    "You've implemented several functions that:\n",
    "- Initialize (w,b)\n",
    "- Optimize the loss iteratively to learn parameters (w,b):\n",
    "    - computing the cost and its gradient \n",
    "    - updating the parameters using gradient descent\n",
    "- Use the learned (w,b) to predict the labels for a given set of examples"
   ]
  },
  {
   "cell_type": "markdown",
   "metadata": {},
   "source": [
    "## 5 - Merge all functions into a model ##\n",
    "\n",
    "You will now see how the overall model is structured by putting together all the building blocks (functions implemented in the previous parts) together, in the right order.\n",
    "\n",
    "**Exercise:** Implement the model function. Use the following notation:\n",
    "    - Y_prediction_test for your predictions on the test set\n",
    "    - Y_prediction_train for your predictions on the train set\n",
    "    - w, costs, grads for the outputs of optimize()"
   ]
  },
  {
   "cell_type": "code",
   "execution_count": 33,
   "metadata": {
    "collapsed": true
   },
   "outputs": [],
   "source": [
    "# GRADED FUNCTION: model\n",
    "\n",
    "def model(X_train, Y_train, X_test, Y_test, num_iterations = 2000, learning_rate = 0.5, print_cost = False):\n",
    "    \"\"\"\n",
    "    Builds the logistic regression model by calling the function you've implemented previously\n",
    "    \n",
    "    Arguments:\n",
    "    X_train -- training set represented by a numpy array of shape (num_px * num_px * 3, m_train)\n",
    "    Y_train -- training labels represented by a numpy array (vector) of shape (1, m_train)\n",
    "    X_test -- test set represented by a numpy array of shape (num_px * num_px * 3, m_test)\n",
    "    Y_test -- test labels represented by a numpy array (vector) of shape (1, m_test)\n",
    "    num_iterations -- hyperparameter representing the number of iterations to optimize the parameters\n",
    "    learning_rate -- hyperparameter representing the learning rate used in the update rule of optimize()\n",
    "    print_cost -- Set to true to print the cost every 100 iterations\n",
    "    \n",
    "    Returns:\n",
    "    d -- dictionary containing information about the model.\n",
    "    \"\"\"\n",
    "    \n",
    "    ### START CODE HERE ###\n",
    "    \n",
    "    # initialize parameters with zeros (≈ 1 line of code)\n",
    "    w, b = initialize_with_zeros(X_train.shape[0])\n",
    "\n",
    "    # Gradient descent (≈ 1 line of code)\n",
    "    parameters, grads, costs = optimize(w, b, X_train, Y_train, num_iterations, learning_rate, print_cost)\n",
    "    \n",
    "    # Retrieve parameters w and b from dictionary \"parameters\"\n",
    "    w = parameters[\"w\"]\n",
    "    b = parameters[\"b\"]\n",
    "    \n",
    "    # Predict test/train set examples (≈ 2 lines of code)\n",
    "    Y_prediction_test = predict(w, b, X_test)\n",
    "    Y_prediction_train = predict(w, b, X_train)\n",
    "\n",
    "    ### END CODE HERE ###\n",
    "\n",
    "    # Print train/test Errors\n",
    "    print(\"train accuracy: {} %\".format(100 - np.mean(np.abs(Y_prediction_train - Y_train)) * 100))\n",
    "    print(\"test accuracy: {} %\".format(100 - np.mean(np.abs(Y_prediction_test - Y_test)) * 100))\n",
    "\n",
    "    \n",
    "    d = {\"costs\": costs,\n",
    "         \"Y_prediction_test\": Y_prediction_test, \n",
    "         \"Y_prediction_train\" : Y_prediction_train, \n",
    "         \"w\" : w, \n",
    "         \"b\" : b,\n",
    "         \"learning_rate\" : learning_rate,\n",
    "         \"num_iterations\": num_iterations}\n",
    "    \n",
    "    return d"
   ]
  },
  {
   "cell_type": "markdown",
   "metadata": {},
   "source": [
    "Run the following cell to train your model."
   ]
  },
  {
   "cell_type": "code",
   "execution_count": 34,
   "metadata": {
    "collapsed": true
   },
   "outputs": [
    {
     "output_type": "stream",
     "name": "stdout",
     "text": [
      "Cost after iteration 0: 0.693147\n",
      "Cost after iteration 100: 0.584508\n",
      "Cost after iteration 200: 0.466949\n",
      "Cost after iteration 300: 0.376007\n",
      "Cost after iteration 400: 0.331463\n",
      "Cost after iteration 500: 0.303273\n",
      "Cost after iteration 600: 0.279880\n",
      "Cost after iteration 700: 0.260042\n",
      "Cost after iteration 800: 0.242941\n",
      "Cost after iteration 900: 0.228004\n",
      "Cost after iteration 1000: 0.214820\n",
      "Cost after iteration 1100: 0.203078\n",
      "Cost after iteration 1200: 0.192544\n",
      "Cost after iteration 1300: 0.183033\n",
      "Cost after iteration 1400: 0.174399\n",
      "Cost after iteration 1500: 0.166521\n",
      "Cost after iteration 1600: 0.159305\n",
      "Cost after iteration 1700: 0.152667\n",
      "Cost after iteration 1800: 0.146542\n",
      "Cost after iteration 1900: 0.140872\n",
      "train accuracy: 99.04306220095694 %\n",
      "test accuracy: 70.0 %\n"
     ]
    }
   ],
   "source": [
    "d = model(train_set_x, train_set_y, test_set_x, test_set_y, num_iterations = 2000, learning_rate = 0.005, print_cost = True)"
   ]
  },
  {
   "cell_type": "markdown",
   "metadata": {},
   "source": [
    "**Expected Output**: \n",
    "\n",
    "<table style=\"width:40%\"> \n",
    "\n",
    "    <tr>\n",
    "        <td> **Cost after iteration 0 **  </td> \n",
    "        <td> 0.693147 </td>\n",
    "    </tr>\n",
    "      <tr>\n",
    "        <td> <center> $\\vdots$ </center> </td> \n",
    "        <td> <center> $\\vdots$ </center> </td> \n",
    "    </tr>  \n",
    "    <tr>\n",
    "        <td> **Train Accuracy**  </td> \n",
    "        <td> 99.04306220095694 % </td>\n",
    "    </tr>\n",
    "\n",
    "    <tr>\n",
    "        <td>**Test Accuracy** </td> \n",
    "        <td> 70.0 % </td>\n",
    "    </tr>\n",
    "</table> \n",
    "\n",
    "\n"
   ]
  },
  {
   "cell_type": "markdown",
   "metadata": {},
   "source": [
    "**Comment**: Training accuracy is close to 100%. This is a good sanity check: your model is working and has high enough capacity to fit the training data. Test accuracy is 68%. It is actually not bad for this simple model, given the small dataset we used and that logistic regression is a linear classifier. But no worries, you'll build an even better classifier next week!\n",
    "\n",
    "Also, you see that the model is clearly overfitting the training data. Later in this specialization you will learn how to reduce overfitting, for example by using regularization. Using the code below (and changing the `index` variable) you can look at predictions on pictures of the test set."
   ]
  },
  {
   "cell_type": "code",
   "execution_count": 38,
   "metadata": {
    "collapsed": true
   },
   "outputs": [
    {
     "output_type": "stream",
     "name": "stdout",
     "text": [
      "(1, 50)\ny = 1, you predicted that it is a \"cat\" picture.\n"
     ]
    },
    {
     "output_type": "display_data",
     "data": {
      "text/plain": "<Figure size 432x288 with 1 Axes>",
      "image/svg+xml": "<?xml version=\"1.0\" encoding=\"utf-8\" standalone=\"no\"?>\r\n<!DOCTYPE svg PUBLIC \"-//W3C//DTD SVG 1.1//EN\"\r\n  \"http://www.w3.org/Graphics/SVG/1.1/DTD/svg11.dtd\">\r\n<svg height=\"250.618594pt\" version=\"1.1\" viewBox=\"0 0 251.565 250.618594\" width=\"251.565pt\" xmlns=\"http://www.w3.org/2000/svg\" xmlns:xlink=\"http://www.w3.org/1999/xlink\">\r\n <metadata>\r\n  <rdf:RDF xmlns:cc=\"http://creativecommons.org/ns#\" xmlns:dc=\"http://purl.org/dc/elements/1.1/\" xmlns:rdf=\"http://www.w3.org/1999/02/22-rdf-syntax-ns#\">\r\n   <cc:Work>\r\n    <dc:type rdf:resource=\"http://purl.org/dc/dcmitype/StillImage\"/>\r\n    <dc:date>2021-07-03T22:25:06.964007</dc:date>\r\n    <dc:format>image/svg+xml</dc:format>\r\n    <dc:creator>\r\n     <cc:Agent>\r\n      <dc:title>Matplotlib v3.4.2, https://matplotlib.org/</dc:title>\r\n     </cc:Agent>\r\n    </dc:creator>\r\n   </cc:Work>\r\n  </rdf:RDF>\r\n </metadata>\r\n <defs>\r\n  <style type=\"text/css\">*{stroke-linecap:butt;stroke-linejoin:round;}</style>\r\n </defs>\r\n <g id=\"figure_1\">\r\n  <g id=\"patch_1\">\r\n   <path d=\"M 0 250.618594 \r\nL 251.565 250.618594 \r\nL 251.565 0 \r\nL 0 0 \r\nz\r\n\" style=\"fill:none;\"/>\r\n  </g>\r\n  <g id=\"axes_1\">\r\n   <g id=\"patch_2\">\r\n    <path d=\"M 26.925 226.740469 \r\nL 244.365 226.740469 \r\nL 244.365 9.300469 \r\nL 26.925 9.300469 \r\nz\r\n\" style=\"fill:#ffffff;\"/>\r\n   </g>\r\n   <g clip-path=\"url(#pafc831d85d)\">\r\n    <image height=\"218\" id=\"image5714866490\" transform=\"scale(1 -1)translate(0 -218)\" width=\"218\" x=\"26.925\" xlink:href=\"data:image/png;base64,\r\niVBORw0KGgoAAAANSUhEUgAAANoAAADaCAYAAADAHVzbAAAyr0lEQVR4nO19V88k2ZXcTVP28777az/dPcMx9CAIcSWAwC6wEqQn/VNBD9JKFLCrFZdLaunJ8dPTPe0/b8pXZpYeRqoTEfVl7kiayacTT7c687uVlVW3M865ceJE/+m//N0s/G+sriwHxNJSZz5uNlI6Fs1sPCsyG88CnwcnxnFMx5Ikmo/TxOZP4gafF9nfxUnC86c2fxrbsSgKfB7MkSR8HXxeVHoMMdMP+jWci+fp3+R5/pXmo2NyWlFMr5wvyzI6D+9B1f2IG835uNVq8TH4nvR6h0O7jkeffjwfj0cXdN7ezvX5eH1zg461l+y3mqT825wVNi5ye5EVOZ2XZfa6KPgaI7h5UWzz54Hvx2AwnI+Pjk/p2OGRvS7/xTkcjq8NvtAcjhqQtpr2+G82mbI14JEcC4WYBXg+w7FkgWkADalY1/iojpXzVFCZmB7lNla6gn+3SG9LL0v+rpwGV9G5oihKj33VOcooXPXn5PdFeoR0Ua8vEXqOQEqIdFF/HwXQsjjl+QqgrUVu15HETAFjoPj6+YnezuS3WXYfF+ghzsfHEvh+Gy1bI8WMv/fp1K6/CWsphBBasJ78ieZw1ABfaA5HDfCF5nDUgLSVGq9sSJoU4xDlsBHGQ3QevwGm1RcA586QZ2scVn6IuTpeR9DY5avNUYWq82bA/3NJI5fFDF/1favmmGncAVPmOaftC7mu/4OqeFPjtUbD4jJ876nMnUK8oiHqeDyyY3CNjQbnCPC69BopJtTbCK8x/ly4hxhzy++00cDcBaT35RbimmlpjAaxnT/RHI4a4AvN4agBaZKWKybwab2Q3qft9/K0dAyUMwrlKdoYVB1xLOfFONbcPB6MrhqGEDhdu5AqRjGF/F1Zal7//f8lNV+FmVBffDWj9+bzMIWv11j2WZSW4fUmiagu4HsvcnsvTIF/OafNMZ0w3xoMB3BNphJBWhoCp/cVUcV3zSfC/dGQAa4xFdrawNQ8UlGZI4VrVPWUp/cdjprhC83hqAG+0ByOGpA2QB6jcVhcMg4hhBmcW0SQQpXzCpBqJVF5ijaKK9K1dCFyEGO2Cj5OMU+FmF5USxTXVKaKAQsxWdnnrIhtZxoT40XDHLNc467y+A1fVSn0cZuk6j42QIKl2wB4r6bZhI6NIEbD+TVOSiBuD7oFQS8Wf3U2f/nvKoXf/qL8EO8BrJEZb5lgXiOV7bFWy2M0h6NW+EJzOGpAio/8hXRqVQEg8ZDi6n//8iAMdX571EYlafoFVClDWI5N5xVYVKlpb9juVzWFnjufXlPiQHMS3Z5ART3OreoVqnQop3OUppf7kefl9DYqkcfEQnmYOvLnTEExoUoOvg67p5MJU8fx2KhjgqFLUn4dVVsQ+l0wJceKC75ZeP2pVBjg98kVKAwMfxoyB1JJf6I5HDXAF5rDUQPSqh32qIL24alxsEdmIXSIMov67mVZwoosWKWwt4IeZhNTIGSSBcvFMwOB1DqCcVKRWVSBKmUJkc4tZBbxhWQMMeNZ4dGC8yvpJcUH0JokZQqIougFMW/JZynkQiZTu99DzDKGEKYZqEGALlYrh8qpo6Isu6oqlxQ+dxwrbYWsOtyPxQwt3lMVYDt1dDhqhS80h6MG+EJzOGpAypx7Qd48H8Yx809UUOBqXYzzQL2/YLBytfZEr6PK7xBTucUMvAohRtDXUzmG3n+RpICp+BXTzfJZMObJJeZBQxsqmFWRS4T3QKoD0NeRVC6q/iiPAaOSlD7eN8WiFyd8FrhX2ZjvKd7jwaDPk0K8GUOKXe+H7NeUXuPiNgaqNUChn2qMllz5N1/+A76G38fCPYX5ZHuMYsCrL93hcHyd8IXmcNSAtNLTA6AqBlaNAK3Ux3jFYxfpAM+v1BHGuRYzgqoD0saqRkD/vTxXTw98a37vFCzHo1k5ZYtgiyCO+b0TSPMi9UqEjhcR0tQKUfHVwocvX1b4OgZ4b1SXqBqm0TSxsHoV4vVnpKjhezoaWUpf0/szLAYmn5dyeri4zQA0W8+lXSlQboiSJYJ0v3qv0Hn4XlVFzrFSR0/vOxy1wheaw1EDfKE5HDUgJR4fqed6eVodffQp1BAOW1BYwzEDmf+EctV5lXV9AXKkKj/5HFv0yPxYcJg0VUZztTdfITFJDu+nkQbGlTOKSyuKWGe6nYLfRfkNwThHYwaMK7Pc4lkt2kSpUq73EV7j/Z5MxnTeaDiEYyM6xsp7jFlFBgVjlbVRjFbh14RbKws9BXBrq0LSFcF3oTkCzjuIfz9WxpTO7nA4vjb4QnM4agA9qxeKHBNUQuijGx7D6BkivosxbvdLy5soupouLqi44ZGsaWRKMQOVUfUHnqdbGrhFEOeSVo/h/UgVUa5qXyAhX7HjJ5EQtRVHGv/V3LAX3hY/J/o/6rYLqutzVajAb2QyMko4Gg3pvCGoQbIpb3c0S7xGqhT6RQVdVtV8mWJfqeOsfEdpoQplfo0yB66DKIgtOvQw8yeaw1EDfKE5HDUgjSizqIcrunmgHRcJe8sVDVVWIFWC2pxUDPx4xuzfZGwUZTJltQM+8htt7frRno9TEQRTdxYoGFU1RZXnCXVFQfVHlQ/Lgp/I1Re1UOBaodaYYoErzNGFxushcCFoljEFR0o4xsziuDzruGDPntj8WPipnh6kcqnwCKwKa8rGCs1042+wSjlU5bmTFPC9l76zw+H42uALzeGoAb7QHI4akCL/XHDbjspjtGhWEtvpLn3pC5mj4iKRP2cZxx1jSDGjIYyqLlBJrdbT3L6HP2e3uzQfY6oYu1aGEMLlxcV8PBWVBBUYQsq3rI3SPwfcxhgMuaiy3+/ZeblstcA9aIAqv93t0nmo8lDlPcdodg9ySeFjbKemOGUp/YXiYvhVFGp9XrFlEpeZ+mjRJo7VB7S4OrcQL6inyo2d0tRjNIejVvhCczhqQIr0JdGncZWbN75AzrkgCAaxrRYp0ongiSFzoAB2OuF08wgbj8N7pdI9Ei94pD6DY0hFC3/eu3ZjPl5ZXZuPlyQl3u4Y/epfXtKx8/MzuH57Ly1EREql6ezexel8/PjzT+fjJ48/o/P6A6OO+zfv0THc8rjsGdV96+3v0HnXrt+06xWFDapBxnDfwoLviF1/q9mmIymKh/F+CysjZYiKuCGEwOLcEMoFwouWJOX7Tdz5CL0yZdsITtOOuSgU8Seaw1EDfKE5HDXAF5rDUQPSyiJCIKALRXPouw7Fl4kWGwZMZyuPv9rjMBfZD0qrxiL1ybKrWxjlBXPp3qXFFhfnJ3Ts5bPH8/FgwPHb9vb2fLy3tzcfNyRlPYLYZXl1g46tbWxddYlh0Dvja4S46cnnHHt99OEH8/HhiV2/xpu4lXBwdEzHnjx9Ph9f9iyWOzw+pfP+4l/+dD5uNji+wq0LNF7Srx3jH2z1FEIIEaS9UzIrKlfva8yawW8pFTkcbmNEC+l4A/dBkIPU4qqiWyytnwpzodIjDofja4MvNIejBqRVmgzsXKlK8EDKECiqlMdnQpl/VeVfbeed50IdIS091RZL5DNh8x8dHtBpL198Ph8fH76mYwNQUxSipjh8/XI+/vMf/mDzv+L5P/nYUu7b2zt07F/85Mfz8dqabQtoE/VXcM1Pn/M1jmBbAwszURkTQghNoE1Pn7+kY09f2OsMtkIazd/SeTu7RpGvQ6r/y/ltS6LdAkooP6OEWiKJJwmkzpOKaoaowqMSlSeThe6r8BoLimMt2kRvUmlGX7JjpRSW7erLPUf9ieZw1ABfaA5HDfCF5nDUABKvJFrhCjxevRBRqoSeg4U2dKX2qxqjgR8+SGqyMccuE1SGS7q2AensS5ApnRxzDPX480fz8cUZp/exMrbV6tCx61vX5+P9vd35+JH8F/XxB5/Mx69fvqJjo8vz+fjhPYt/Lo97fF5icUdvmdPqL44srd7rm4Je/fsPT+0evHrF1zEAA52isO/vyZOndN4H7/9pPl5aWqJjW5sWf6KBjcbmncbVBjwLr8kov6q1rhrr2G9pKttBiCn1RCh/rixUp1BPABtnkiOY4u9Wj8Hv1p9oDkcN8IXmcNSAdJYj7WNkFY/dZIap16vT9CGIl6AU72EBYzbBlkui/oC/a3dYlT/oGS17+eKL+fj58yd03uWFnTcYckocDXl2N7fp2O0dS8dHhf3dz3/+Szrv/MzmH0lx6s/+29/Px3d2jYq1Gnw/uk1Lzd/Z5uqAy77RvtMLu/dn8LlCCOHgwCjzxSVTUxJCQDp7NOL7fQr0M5uqCdHVXTiTVNo7oc26dNqMSXEE5jxV7k0Lh8qV/Ugk45ICzhCqU/Nl92oh/AFlUiF2+GiU5E80h6MG+EJzOGoAPdPVwwJf6454DnSuAFFn1SNYba7zkm4kYyk2XFpesb+ZMu07O4NM48mRjQ+P6LwJNTMv91Nc7zLNaeVG2f7054/hT/j/qO+885b9Tcrzv375Yj7+5He/mY83Nzmj18uNfl27fYOO3dy2cz/54tl8fHB4yHMM8P5Idxa4rKKi0BYLUtWrEOkdZjxTEVk3sQuPKjLKCjOrRMULDeFxDvndYuegCFRL/xe+jtx5ZwJj/g2z74hev439ieZw1ABfaA5HDfCF5nDUgDSqMtaBeCsR55SClPdwQLz3Kb0vO+eTiXFf9CNUT8Zh38xuLi8v6Njhoakfjo8sXtEtAooTZnwdq11Tg6Q5/92zzyxdfvjUtgzeu7tL522tmXFPNuEWRmev7P0++MiqCPYlhf/yAtQfPU7bb+3atsP1TYtZXx+yyiVNwPNROm2i+iauKOrFGE2NdRqg+Eghpa9GQ+gbqSEZqkiovpJPo1hu0UgH0/bShgvPAvVRVOEFuXgE48Pya6Q8hmxtzTxGczjqhS80h6MGUE62SgWgolE+D3fOy/33lM71wP/wFFLzanON4uZM/CEOD4w6np+aR8ZQvD9Q/KkMYrVt1OmLR4/p2Fpk73dwYDRthwUkoblqlKrI+HNi0eyzI6O+d/ZW6Lzv3rVJm8zEQjq2e/Jgy+jc4RbP8Rm0S0pFkYEEia24peMnfE8qWm5A2h79SZR+4px6jLw+1TAUQdSxIvUviowZbV2gckNUSxV+H7SdRe+twmf4G21ZBvP7E83hqAG+0ByOGuALzeGoAWTOo/EVhnCqWsaWvJi2H0+4aHMMKeZsyvNjC6bh0OKCF8+5EBELNVUhjfP3Li2OmUgbIYzRWpKKLvom4+pknJrH9PDJpcV926tcILrWsPnXmhwb3QL51EnP5hhO+bOswi0uJBY9em0x7KODs/m4f8Hx4PWdTXuvC1bvH5/a32Eco2ZIWDR7esImQWjWg17zi/GgoUo+RRKvSGMc9A7l3x/GfVqUTH8HUsFcYjTKLVTFbxW5CjxPPSTxqvyJ5nDUAF9oDkcNSHNs2ySpXCyoU5tupDbY7fHinBUNSyvr8/HGxiod6wHduIQixShiGnJyYtTu4uKMjqEnBNJF9W+YQGHpzjLTvqQN3S8TpigHYJe93LHzum0uQIVMd2ivrNGx+/dBadEGGnnG92oWytPZuCexArn/Rs70MM/s2NYqK0/QTn0Ixa/6v+0lXNcffvMrOrazZVsQN+/ctzlEeY+/nXJNB0PV+6zO0OoRmH9BGYJW86CAScvV+yESVUdhf4dper127IqbS1iTu6+jw1EvfKE5HDUgzafYTZNFqH1QOExGrLTonZkKA7OCowk/gltdUy5gAWcIIbThGCowG9LBBOc8PWeqNIVrxMziQhYJaXDMNPjizOhW1OaM5PnA6OgK+JW0hB5OEqOjjZSbr6NqZB2yq58856LN+0vrdt4+i5b7r+0eb3Ttmm5KovgcCj9HQsXWV426Y4GoFmKiVdwL6EATQgj//Wf/eT7+8V/8q/n4wVvf5jm6RpE1U4cCign4lbQ6YiffQKrHx6r8bJBm4jGln/ha6SeKWWYgqF8ojs4we8vhCoZl/kRzOGqALzSHowb4QnM4akD66UfWiuj8hG20e6AKGA3FIxB23DGFvwzjEEI4AGOal2IkU8B2Anr/nZ9zB8qnz0wpMhQPQlQnROwEROc10cJc1CuzwtL2GFOGEML6hs359MCua2Wdtyo6a/Z3rSXePpih4Q/EjqvrZ3Tes3Pj+L2UKxjWN81K/P5NU2dsXvuCzvviE+sM+vKc4+oLiA9XliwO1qLK4djit8uBxCSPrfj11u3bdk0P36bzsHtnJu2pUMkxg7ZbUVKu0I9jNRrCc0V5UjqHbAPgdUjsRXb4WD0i20ZU2CzpfZzfn2gORw3wheZw1ID0/d/84/zFBaTsQwjhyTNoLi6dJa9tWQP0uzfMgzCbiCID/BRfPONU8RevrWhzAvRiNGKqgZbdy8usdkig8TgKgFupCIdh62Ia8yO+Fxl1vL69z383NOqxvm1p7/YSp/ALSIlPtAAQXrZXbVvg5hv36by//Z/vz8dnf2JKiBT5pz/54Xz8kx+9R+etQBea9ief0LGNHaNAHz8xSj8YspB6A2jwNBMxOVC2vWt2rzY2t+i8Vsuuo9djnxfcUoqbFj5MhNIjZcP5Qgih0ShvCI+CY/KyVHHzDI/RIXo9hetVsTf5m1aoV/yJ5nDUAF9oDkcN8IXmcNSAdAtirWfPn9HB0z74DIrZDRZtYuudLGee+hy6Xz6WGO0YChNbUCx5eMLpfYzLVlc5rR4Rlzb+3FBZEdD4rR2WN+3fezgf//mRdAp9YlscP/7um/a+mhIHVddYePysALMbiHFu3b3Fc/z8t/Pxx1+8oGMF/J/48vhsPt7ZYinYd969Nx8fHfN2SgRFpxvLFmOqWdG1LSseXeryVsUA5HArq/jefD9GsEUwEmnf8pL93TLI8haKhqHzq8qb0BhowU+xRIK1YMCD/vpSnYKxFwZsscSDIQETIvlNYKzoTzSHowb4QnM4akB6HYr3Do6YahycWAHgWU+8FoFuNBu2Xpvc+DG8Pjavi6eveH4syluGYsyOFFVicV2kpXczTAHbm3fEGPH6iqnJb99/SMd+/5EpT/7hNx/QsbVVozZb0Cw+z7locwLbH1Pp+Ik0pwUKlc1N3iL43rv2Xbz/mGk8ppUvwD79F7/+PZ23u2VzvjpkCv4MlC0fP3k5H48n0iYL7v/9W9w+6tqeNYvvrhiNj8W78bJnnp3a4qrTtWuke9NiVU68bt/h+QVvEfT7/HtEoCoFr0v9H4keVliOx0RTpQIAGG0m7cbQG9KfaA5HDfCF5nDUgLQDGaCtnT06OJz8bj7eXF+nY7e27e/2dzbm41ajvJtMu81UaRUUCHFkj/Fui6ljo2mvF43J7fHcgb/b3+Ts5LUNy1xOJTP6D7/+43x8eMkqiZs37J4sdW3+6YU0Dc/Rck8oxAwKB0EB07vgrqRIHY+P2OYtbRm17o3Ar2XM1/vLX1lH0Z//+s90DItCkTbdu86qDiySPTpjynbrjTfm49XV9flYxbaYlV5a4s6mqC5BH5NICnJ3duw3tiSKoNNTK4Q9OuRMcR+E50j7GgmHEwmoS7RjKV4jfhYVSJOlnHYsjT3r6HDUCl9oDkcN8IXmcNSANId4pStFm8uQvl1ucd6+2UAzHVB1HHLc0QP/wGt7HAs8BGVED1LWr6RAFNX8I6kiwN33nU2LFdOYYyjk6p9Ia6b7d62Q8kHg1Py37lt6ezY1ZYWmeVF5jhULIYSAjtsRmAk1L7haIkotlrm7y6numxAbjTL7LOdnZ3ReD3wv711bp2NDiB17A7uOe3sczxaJfdeTnO9jZ9nObcBv4vyCtzvQI7Td5JgbPUIxtlPPRFSXrKzw/dhYt+9a204dwe9nDPFaJp1eqfBTCoXZ1Mf+vSX5g6Ulix1jiQGxNtWfaA5HDfCF5nDUgBSrEjc2dujgj3704/n4/DULgnNoiD4c2PhDUByEEEICzcbv32GVwc1dE6/2+kZDioKp1wvopDKVNDIKms/PLRWdDfj/kMEYusl0WIj7b//KPAnPXknBJSgG0PIxF3vpHOit+mNOgHsswSRr60yHjqFLzOPHfB/bQON3t4GCL3Fa+saO0fH9NT4WQ2FsH6jjRBQNF5ndu0kkUh/gQ1Ogy9OcKffqst1jLMgNgYXnRYXt9wDCiU5bbNwhZFhdEaE5jM9AoD4Y8vdSULca7XhT1h2Vv/cuqFzaHSlKBsWUP9EcjhrgC83hqAG+0ByOGpCm0P2y0dqgg++++535+OUym6OcQMz2FApG+xmnWt984+58fO8GS7xQuX0K8dVwyJye4wmJ0cDv7+krU4xnct73vmXp8R885Fh0Y9nikE+POeWOXZy+/bb5GI7HzNUvoLphIEWyIUL1t02YNvmeYoJ7OOGY4f2PzE+xCdspA1Gxd2KLV7rSebQFafuNFYsnTqATaAghrILRUD/n/4sziM37EEO12yyzmkILrd6l9GNo2+dOGxADiv89buWMRiw164K3fypGTN2ufbYC4sEo4i0I9AjNpOIC41by25c4Eq9xC1pahRDCChQp+xPN4agBvtAcjhqQNmF3v5CDnYY9+vZv3aVj05HRtOP3jb6oD2AbqGkuqfnDY1NgfwyFjoeiGA8xpnKZbrXB17HdMap05zbT4PfevAPXztTus8dGSz59yqqUt/aNZqInyZPnrK5/9so+Sy6p7vHUXqOK5tr+GZ3XbEFn0Bb/H3hyYff44MQo2+MnT+i8cd9S/w9vM1XHjpcjtFaXkgj04Ej1v2JskwXp/UIUJMcH5hXTbDC12962e7oM9CoVBQn6eAwGTJGbcG5Tqo0b8H4d8DxZsPMGGjiViosMzTixq6fMgQWpalffPbEwxJ9oDkcN8IXmcNSANAarae1miLvvS2tMxaKGPZJPL0FsK/zzHJrAj8e8M//kpdG0S+h0sioWZxc9yG41ONt3c8OyT/f3rs/HKzLHEjR6//CxWLnFRjW0aBN3988vjC7/9sPHdN4xdG7JhEZhphStvVdWOFP3w7fvzsery0yHjvp279pA93OxH3/01BQl+1usPGmgmgXokAqHc1DmzBKeH6nTGXjM9C6529DFkSkydrc5G7cEHTQToJ/ddVbsxFAoPBpw1nHcgeLOhSbzBiy+bCjFnAClVbtw7CaDhcIJ36vZzObQLrOXl0Yr/YnmcNQAX2gORw3wheZw1IAUjVi08o7Uxwnz2+V1492ra+swBafmz/vGrQ9POf7pQYHkNhZtRsx1URVwbXuTju2tGkdeB29ItSb/8OPP5uNPX7Lf4cP7pvhQvp9CTPgcfCk/e8qGMOhFednXrqQW53Q7tj3x+w8/p/Pu37K09+42xysvIKU/g0rSB7ev0Xnn4KM57PM2xgRitAgUGYV00+yPLQ6LG6KEgBZPp0fQzfXpKzpvAHH7dpdV7c0pxDlwjTPx82wuWYyZS/5gOLR0f0M8JTH+xC6wDfH6xNea+qc7AtPH/NMki/fpQmdT+LvgcDi+cfhCczhqQIqPzFjEmVTwJmtyd9dS6T/64Q/m4z/94Xd03nMo2hyIl0YTujjubhpVGkiHyDZQiqYUXK4t2zG0FR/LezVA4vDg9nU6ttaBjqJtplENoM+PnpkaRDLiYXvN6JFaT3fbRtO2odjzT4+4mPZ3H5rK484OFzOiUOTgtV3HUpeVMnj9uXZIweuCcRZzWLB32wTYL1+yUqaAOVegI83znOnyFMTHWviZpnaNDfjNqTi4CaLrTMKaERRxNhriZwOqEfwNJ0IxUdys1BG3E7AgVbsINaDwWKxLQh7D2goOh+Mbhy80h6MG+EJzOGpAiil95bAx8NFYJN5L4O/39jvvzcen0mXy8QuLJyIp7GtDenV73eY7mLLcBnn2gpo8Mo48mUruFbC9BnIniQWOTy0mXO3wsfHIYpKnr2xbYEeMdbotjPM4ZsBuplurXTiP09n/9GdL9/dvc3HqCGLO83MrYIzFh7Id7LxhT0xx4P/VFAonN27s03mz1GKXmXS4vH3XqiCa4HH4/ID9PFc7Fi9PJSc+An/FTtdic7ymEEIIIFcTm86Qg3RrKIW2aNiEMZX6RsYxVktwrIsVGBgPaoEoxrqR1L/MAq4fh8PxjcMXmsNRA0i9n2h+EqBpTaSZXaCRN2/fofP2oKCzJ/4WEaow4L1V/d7AdHCD0+/noGpvAI1qxUwUsGVPX/wnBj2jYjNRYH/wuakfngB1/P637tJ5OagCZkJSLuAaI7hvd24wPfzFHz+dj3/7EVc6rELLqJ217pX/HkIIadvmH0+k0BG+wwg8MbbRJzKEMCrsHr/z1ht0bA28Y/7r3/3TfPzL33KLqH//7/7a/uYab6dEsC2QgHdJ3Gb6hr+CQstC4B6jWiUEVunPAtJgniHDbQcJa3DrCb/NmXhDTnP0FuHfDl6zP9EcjhrgC83hqAEpNflW7wgaa0blastkpY7f+47Rsk8++ZiOvT42KtaHws9Yui/ubK3Px02hjjP4r2IIBZazmXhA5JaZ6k2Z2hWQSTo4uaRjHzw33we0r+5IZnE6sfvTE3qBnhkoON6SQse9zXW7jlNWx1we23W1IFvbG7KQNRR2Q7oJf068jtVVy/BtwfuGEEIGKtpswNfxwYdGb//D3/z9fLx/nYs7H779znx87Rb/JpZBhN6AbixBurFgweVMRMWYER9P+R4M0V8EM+cJP1d0TkQCmekWZg+FYo4Te+9MlDhoeehPNIejBvhCczhqgC80h6MGpFU755RSFfMS3DmPgMOur3Oq+L1vW0ukbMxp2IMji3/QxGdtmQsFO037/2AsKoAl6AS51bJr6h+xQgWVLZMJK81PLsHXUYpCL8GO/PquFae2JFbs9wv4G47R1lfs3NcnFrO+ucbqkvs3d+165b/Az5/Z5zk6s3t1fZ1NiAqIw4biL9kFJcomxGUSuoQ+ehVeso323/ztr+bjGSg8/uovf0rn3X3jzfl4dXWdjnU6Fh/GcL36+8OtlkIqAHC3KZLkAio5EtgaakrXWorf5IajqiNKr1aahMAqFK0AwEJQf6I5HDXAF5rDUQNSfl7Lwxvoono2FLk9JiNQdTQbrFRY37S0742b3PFz8zPz8WjA371x7y5fBxQVvnzBVtx3bluj9+bAfDyGJ3RayMCqfCLejafga4L+kiGE0AK6sbthCpilDn/Og2ObX6kM3sezHmwzyHttApXMRR3z4sDo3MXQrv/FMfspzgqjkutLTJWQHjXBC6UpSu0M/Dh+98dP6NijR1ac+t3vvQfjH9B5G1sWQqhYPcBrfGdt2J7nWekxDAVU0TQCwTEWcGp6H1P4+pVpqDQ/Tagjbo8lsn4KELz7E83hqAG+0ByOGuALzeGoASnFZcJLqWu9yEuQMzdTi1dSadGDspSlZU5n7+1aOntrx/wJH775gM5rghL/4X1Wk690jCOfPbOY5/VLVoJPxhZ3KPtOQVaTSJp3ZcliHi72ZK6O1L0jaWQ0o0GfwddHvJXw3hsWb2arXASJ4cVFzz7npy85GI2j9fl4rSvpbPhs6C0/EjOkVy8t1v0zSK5CCGF712Kvv/7X/2Y+fuP+QzqvCb75hfral2wpaeUEpvRnGjNFGlTRX85HQ6jUSGRLpt1GeZZI+6pyF6Xn6W8Cza0cDsc3Dl9oDkcNoOelPp2xi6N2OkSb64SKRxM5z16rL0MHPCfOz0CBkJd7MjbbTE0jUCe0QQkeCQWcksiFH/ETUO/rNga1WYKUviq/h+DpodQR362ZVBRmAlVqC81pQTFjURgNHo54jlOglZOppMvh+8WumAcHTD9//8cPbL4L3j54+3vfn48fvvnWfNxdZqpbQFnFTBQqZdRR24bpd4FA78yFmlC44xkUuKq3CG53iDUkzVFOHOWaFrYI4L2+4hwOh+P/A77QHI4akNIjUrI+OfohyPM5jYx6oLBSxZkx7NqjwPPL+W3O//GLX87Hjx4/pvN++O69+fgWCHtDCGETrLixq8iG2MGdQsHl6QELZZ8cWtZNrb6pGwmw4mzKqo4eCImXpCgUBdh9UKUsiVIhhveKA1PCTht9U+xC1H58OIHvUIoUkbL1pjb+/Ycf0XmfQWeYrT3uVvPTv/zL+fjmTSvoVFvuCVC2CiuaEIAe5rlaucGXIZ+lIMGxduG012hHPh4KdVTFCh7DzjtE/kV8DN/ZTH48eI3+RHM4aoAvNIejBvhCczhqQIr8Fgv5QuAYTXk2qh0wha87+BiHFcJhcac+Te3v3n+fPQI/BVMfbI8UQgjff3hrPn77gVUHoF11CCFkUOw5FVvnKeS9p3KNYzBYOTm3VPfeJrdVmoxNMb4sWxAYsx1DkWlTrMkvIf2sYc3NbYtNz2EO9IwMgWNiLZbsQ5XCf/zZP87HZ5fiVQj//771ztt07MEDS+ljIWWi8WCoAlaFYKyllu5otz2TI/g5JUaDedBEappxXB0NIQ7TdkywnZJQvKbXATGm5jjguvyJ5nDUAF9oDkcNSLGAsxAvRFQ/pAtCWaM9KJ7UAj1KcUo6dWfHLLGv79pYV/8QCiSfv2YvkEnfUvNHR9bRRLt6klJE6zIjoDKSYu6P7L174B+ytcxegpipn0yVgts9yeCe9qUrKdJAtfq+e93EvMdA9S763DUUaXw24zv5HLwhD0+NRrZaTGH3rllK/81vvUPH1jeMwrbbJrheoH0YQkg4wYeAOsq9Rw9FVfpEIDTXLkUzsIaHr5Y7noYQxiA4VuqIIVBa2P1Z8IZE4b0WRxe4XeNwOL5x+EJzOGqALzSHowakaICiPDsGhX5DCjqxfRLS2yzn+ARjtlQkWJ0udL8EL8cXr9iAB+dfW+X0/lnfUuIfPTHp0PE5t4jahHZDQ/GrRzV/I+U4cgW8EOF2hIH462M8e95j/8oIumYuQ2uiocRyB6egyh/zses7FiNjR1E1vsGWV4MJxyT9oc3ZgO2PrU3uAfCt996dj+8/uE/H1tfX4b3t+1yUQYVSYMqd/071bxijiSkOfGdatJlAbJQnEK9xSEy+ixq44/U34BoT+X1EFAdr6h+uNzgcjm8cvtAcjhqQ5gU+T7XoEbxAUvUItMc1pThz9X1ANTk/njsdo45rq0ZfWrKVgP8baFFlF2jUBRQpPhU/jtEEVP5CYZeAHmq3UfRyXIGU+3mfVQY5NQ3nz4nqkpUlmwO9FUMIoYB2Sa9OmfpeA2XIPlQwfP6Km7Q3gd8OZPtgBF9Fq2XvtQp0MIQQHrxpdt67u6zexxACv06t/OBtHq0oBjUS/F5UVYQpd03h45y6bZRiUShcR54yHUc/G7WJn8F7o+eJhj9xXK4uwTn8ieZw1ABfaA5HDfCF5nDUgBQrdBe8ydEjXUx3kI4WFVWyyJFVRtOEVPcKtF9aW2Vl/KBn8YrGV5trdi6meQfSOmkECv2kyXNc27KYJ9YtCFDit0Gq9PSQq7SnkG5eFV9+dAbKIR3cbnK8OYZr7I3V/Ae2YSCOxFZMIXBl81RT7BjzwPe5JXHY9p7J19Snk7/rDMaa3p9dOf7yH6Cig9L76ouIQWAQRFcOQwghghR8Cv5TrSbfK4yrJxOpYIDXuEZyMU1idwE+hr93f6I5HDXAF5rDUQNSTI2mqXoyws58JLves6sL9lRdgqlRTdFi25yNzc35eHebu4a+RvV7xqoO7LyJqotClNpofJPJsS7Qw9ZAqCPQjWYTrc+ZhqQZpIPlc6ZAEVFRPxBfxyi5uiIihBAmGRZL2li9ITOg7m2hSkixloGqb+7u0Wkb0Gqr02EvTiwsZeooIUOFsQ4e49ClgjpGukWAryWtjkeAIqdyP9pYdcKzh2w6uXKsn7OR2uskZfocJU4dHY5a4QvN4agBaRNozcLmO0AzR2WZxsXsk42VDrVA2LoN9OX46IDOOz+34s520qVjKK5AmtqU7FCelSsVMvAQQf+QEEJ4fmIZz5SysExX8LOMp2JpDvcYadOF+Aw2IcHXlszoKQiVE6JU0rw8Ri8Xvt9doIG7e9bJZ3+fO7HGFEKIWoO8OsoVQZhZVP+QHI/BQb1e9AhVtU1RwSrxzKIq602+MqLmASH4BGmk2NXj5061cBUy2P5EczhqgC80h6MG+EJzOGpAimrsfKZFm1igpwnQq2O0RY89GysHD8E4cqdrbX80DYuqlJb42i+BWuMSfAvPLy/pvD7wbN3BRyOclQ4rIc4G9tkOLkzhrS2FurC1kEv/HmzpNAHP/qGo69s5qEuW+B6cQDumTgr9ElR0AUHPmahjlkFxc/vO3fn4xs1bfB60v1K1ejHDeBx/HxXbOloQCXNgQacWscYUf0rqH88LDO4iCgqVoIXN9tmaotKh4BFiu9lIFCRQAZCNpT0VVG34E83hqAG+0ByOGkC8QC278fmMj/sQQsBMZpZVKASwFZEs6ySOrjxvWZrKr4FwOJcCvSZQx801o5+9PhdO5pDCHwrN6eAcK9y58rRv4uFL8AnBJvIhcNuiltDss0vbnsDC0iiI3wdQjaZsYxxd2lZAaxW8Vrqs3MD5u12eY/+GpfF3r5uQGFUiIYTQgH0GbcNVKiouyr1iqgxEkC4qdUQOuCBMrgT8riJUsshvE1pj6efkAlcQY+tlwHXptg7a0PsTzeGoAb7QHI4a4AvN4agBKbdVkvQkpOMX0/ughs/KCwBZgyUSG+C+KGG6tse++cOeme68ev6Mjk2glSz6My54SELckY+5AgA99dtNTu/jjgTdA0nvH5xZHLbc4vdOcRK4B5m0j8JU90j4/hgKP0cTe++tFY7DElDA37rJ9/Hhw4fz8Q4Ue2qxK1ZxaGyE3zWOF30dMa0ulRQQD+H3pBI9knjJ74+8IRfCN9xauPqa9PoTidESVP1jel/MoXAbQ9R7YTr11roOR63wheZw1IC0qniPfUFUvY8KgaqujYZYFBNIIdotS5fP1piGbG1bS6eLM/Fr7ButRPbSkp1+tHJOpkJR4PrPL2X7AGgfKvsnGaez+0A/Z4XYpwOdG47tPLVZj2ALZSrzoyID1SVrm+t03vaG+WPeuXePjt0CNcjGhhXaNit9Qcop4Veljgr83mNQyQf5fczIW0RT85DC198m+ZXg3zDykgLUEEKYwWUhjdQtCNwKUU/Q8QQ65gaHw/GNwxeaw1ED0rxC1YGPeH10l1HOyjmETuAqR6s77CQZQgh71/fn47GIOp89fnTlsVirWOF1quJmoBCF2KLjK2yMudB5B+jFSMTC2CweVQaxFG0iNHnbAorSBBrcabMyZBNo9p4UdG5umhfL8gpYpAt1xFxdldKnyiuGks3yvYN2mroPJSL2rrKsw5eFdpmFm8cZTyliRVqpv2/8q4rvDH/fC6Lo2As/HY5a4QvN4agBvtAcjhqQZhWp+Rl4EKo6u0wh8FXTuiFIOxyIodDvMYQQVqCl03UpUhwOTNV+AcWeuaRrO+itWOFBGElwNBqAigSUG62U52/AR1sokYV714SizVgVE+Qqw+qVNsRlO9BKam1rm85b3zGTo3VI4YcQQrtjsW8zLVfok0Jd7mNO2zoV6fEKVQd+76NgcXVDWoNhPLtQ4FqRty/C1XGkXiNZk0uch0Ea7joUcq8wBlzQTmHtaHA4HN84fKE5HDUgxWLDEGm3TktPsi8i068q6oipY1UPoJCTbJzVqxBozuraBh27eefOfDwaGw3Js8d03nRiVEyFwylwNlVkTNATAi4/lY4xSYRehdKBEj4O+n3gFkkI3L1UfSk7y1aQev8NU3zcuXObztvAFP7yMh1jRQYUM4ZyVPl5FlXKihKKGUIIBShsMripmXTkTKvoLW3fqJ9IideI0EOitwvbB0A5YbcmTsobwqsoHz+3P9EcjhrgC83hqAG+0ByOGpBiTBLHwqUrOnlmUJiYox+5xFd5ga2f5BjMST59Fd1FVS6Eyn4yShkN6byTMzPZiZXTA9FuSREkdu8861sMWMh2B8YQk7z8GBeB0mmhu2Rx2I1r3Erp2r4Vce7fuGnn7e/Teejz3+1IUWiJ5GshDitRv4cgcQ3EWgsSJpRnaYwGv6sM8uhT7VnQAF97+V7IMCfS+A3z8XiNch1V1QG4exDh/eD3wmLPyZS/d/w8/kRzOGqALzSHowak45E93ppNUW408FHLj/Uc0t5YAaCtcbD75Uwe8WUloonwlaQkLR1CCM2WqdfXILV9HehVCCEcHB3Px69evKRjA1CXKFdCrxG08E4qcuJKP1G9n8CxRou3CPbBa/GtN9+kY3fuWkof/VU2Nni7A2n3giof7l3B8nc6bVYmiwjl6f0qeqiUDakq+m1OxTQR6WeaSZEsUUdV1GN7Lfj9VapX9PqxUy2GUPwbxmLgkXjRDLGaJDgcjm8cvtAcjhqQDrHrZMSizgZQySLnxzM20MYdcS3yK+jRrYJMA9FI3aWHsdqC4VVhM/drUvQ4BmVIKgV6XzwzC7uLiws6NoHMEdqw5aIyaELr0a2NdTq2u23CX7Q739zaovP2rhl13Bfqu7dnWUi8fu2Cwp1UysXTmDGMpNgV6eKCQDpHGgX0cKFAVOYERCXn5Qt+M1dnOP85IJVMkqtpZAjMmKs8cagQVq5xjFbzkunuDey1P9EcjhrgC83hqAG+0ByOGpBegt12nHDLoha60Ug6e0oFdcazpfFOZQqVuDrECdGsPJbT+C0uUQig+UwIIdwBT8NlaWe0uWkFkh9/+hkdOzk5gQu2T6cp5e1tm+MBqOtDCGFnx9Qra+vrV45D4K6nS13+LlYgtktA2a9xB6ptphPeksH4KotQxcDbETHc/wUvRDJisvk1RqNKAVH6kIU8quS1ayg+B+LyLYIFT0n4LcVQmRHF2lG0/HMWNL+NpxJGonfjcMjGUX1oteVPNIejBvhCczhqQNrr2eOtLaniaRu6YagVYkbtGG0oD+ECCvvySKjj7OpxLunmGFOvkpontQlMosLhJaCLDUn9L0Fz9DUpLL28NGpN3SlF/bG9Yyn8GzdY6NsG9QoqWZpagApdQxsyfwOKIJOKDix46zJV8yDtBuFzITSYrEs07Q3p7BkWySr3Qr8PoXZYbJyD2mah60wDqbo+E8q7cGJqfgqdd1Twjj/qRWGyjZEVT4U7TkBZNewLdYSus/5EczhqgC80h6MG+EJzOGpAOgLZyGTMnvcZ8Oe0KS11SiQqC0ptMPxRhU0BaWU0VImEq3Mql4vrkFtjHKniekzHq2xpHRTw3aUVOobzoxpefdY7Xbt3bfHDJ7/9Cq/2JMH55f9AkEVh3DuTGogCWylJR9GMinwrCifh7mnqnNL7cB2LNaXlPR2wKHcMhkpqahRXtEsi+x1574ikVbClMSvfXqqKAXNs1zXhzzIambRvMGAJ1rDv6X2Ho1b4QnM4asD/AthWj0SjEWotAAAAAElFTkSuQmCC\" y=\"-8.740469\"/>\r\n   </g>\r\n   <g id=\"matplotlib.axis_1\">\r\n    <g id=\"xtick_1\">\r\n     <g id=\"line2d_1\">\r\n      <defs>\r\n       <path d=\"M 0 0 \r\nL 0 3.5 \r\n\" id=\"m51e994f39b\" style=\"stroke:#000000;stroke-width:0.8;\"/>\r\n      </defs>\r\n      <g>\r\n       <use style=\"stroke:#000000;stroke-width:0.8;\" x=\"28.62375\" xlink:href=\"#m51e994f39b\" y=\"226.740469\"/>\r\n      </g>\r\n     </g>\r\n     <g id=\"text_1\">\r\n      <!-- 0 -->\r\n      <g transform=\"translate(25.4425 241.338906)scale(0.1 -0.1)\">\r\n       <defs>\r\n        <path d=\"M 2034 4250 \r\nQ 1547 4250 1301 3770 \r\nQ 1056 3291 1056 2328 \r\nQ 1056 1369 1301 889 \r\nQ 1547 409 2034 409 \r\nQ 2525 409 2770 889 \r\nQ 3016 1369 3016 2328 \r\nQ 3016 3291 2770 3770 \r\nQ 2525 4250 2034 4250 \r\nz\r\nM 2034 4750 \r\nQ 2819 4750 3233 4129 \r\nQ 3647 3509 3647 2328 \r\nQ 3647 1150 3233 529 \r\nQ 2819 -91 2034 -91 \r\nQ 1250 -91 836 529 \r\nQ 422 1150 422 2328 \r\nQ 422 3509 836 4129 \r\nQ 1250 4750 2034 4750 \r\nz\r\n\" id=\"DejaVuSans-30\" transform=\"scale(0.015625)\"/>\r\n       </defs>\r\n       <use xlink:href=\"#DejaVuSans-30\"/>\r\n      </g>\r\n     </g>\r\n    </g>\r\n    <g id=\"xtick_2\">\r\n     <g id=\"line2d_2\">\r\n      <g>\r\n       <use style=\"stroke:#000000;stroke-width:0.8;\" x=\"62.59875\" xlink:href=\"#m51e994f39b\" y=\"226.740469\"/>\r\n      </g>\r\n     </g>\r\n     <g id=\"text_2\">\r\n      <!-- 10 -->\r\n      <g transform=\"translate(56.23625 241.338906)scale(0.1 -0.1)\">\r\n       <defs>\r\n        <path d=\"M 794 531 \r\nL 1825 531 \r\nL 1825 4091 \r\nL 703 3866 \r\nL 703 4441 \r\nL 1819 4666 \r\nL 2450 4666 \r\nL 2450 531 \r\nL 3481 531 \r\nL 3481 0 \r\nL 794 0 \r\nL 794 531 \r\nz\r\n\" id=\"DejaVuSans-31\" transform=\"scale(0.015625)\"/>\r\n       </defs>\r\n       <use xlink:href=\"#DejaVuSans-31\"/>\r\n       <use x=\"63.623047\" xlink:href=\"#DejaVuSans-30\"/>\r\n      </g>\r\n     </g>\r\n    </g>\r\n    <g id=\"xtick_3\">\r\n     <g id=\"line2d_3\">\r\n      <g>\r\n       <use style=\"stroke:#000000;stroke-width:0.8;\" x=\"96.57375\" xlink:href=\"#m51e994f39b\" y=\"226.740469\"/>\r\n      </g>\r\n     </g>\r\n     <g id=\"text_3\">\r\n      <!-- 20 -->\r\n      <g transform=\"translate(90.21125 241.338906)scale(0.1 -0.1)\">\r\n       <defs>\r\n        <path d=\"M 1228 531 \r\nL 3431 531 \r\nL 3431 0 \r\nL 469 0 \r\nL 469 531 \r\nQ 828 903 1448 1529 \r\nQ 2069 2156 2228 2338 \r\nQ 2531 2678 2651 2914 \r\nQ 2772 3150 2772 3378 \r\nQ 2772 3750 2511 3984 \r\nQ 2250 4219 1831 4219 \r\nQ 1534 4219 1204 4116 \r\nQ 875 4013 500 3803 \r\nL 500 4441 \r\nQ 881 4594 1212 4672 \r\nQ 1544 4750 1819 4750 \r\nQ 2544 4750 2975 4387 \r\nQ 3406 4025 3406 3419 \r\nQ 3406 3131 3298 2873 \r\nQ 3191 2616 2906 2266 \r\nQ 2828 2175 2409 1742 \r\nQ 1991 1309 1228 531 \r\nz\r\n\" id=\"DejaVuSans-32\" transform=\"scale(0.015625)\"/>\r\n       </defs>\r\n       <use xlink:href=\"#DejaVuSans-32\"/>\r\n       <use x=\"63.623047\" xlink:href=\"#DejaVuSans-30\"/>\r\n      </g>\r\n     </g>\r\n    </g>\r\n    <g id=\"xtick_4\">\r\n     <g id=\"line2d_4\">\r\n      <g>\r\n       <use style=\"stroke:#000000;stroke-width:0.8;\" x=\"130.54875\" xlink:href=\"#m51e994f39b\" y=\"226.740469\"/>\r\n      </g>\r\n     </g>\r\n     <g id=\"text_4\">\r\n      <!-- 30 -->\r\n      <g transform=\"translate(124.18625 241.338906)scale(0.1 -0.1)\">\r\n       <defs>\r\n        <path d=\"M 2597 2516 \r\nQ 3050 2419 3304 2112 \r\nQ 3559 1806 3559 1356 \r\nQ 3559 666 3084 287 \r\nQ 2609 -91 1734 -91 \r\nQ 1441 -91 1130 -33 \r\nQ 819 25 488 141 \r\nL 488 750 \r\nQ 750 597 1062 519 \r\nQ 1375 441 1716 441 \r\nQ 2309 441 2620 675 \r\nQ 2931 909 2931 1356 \r\nQ 2931 1769 2642 2001 \r\nQ 2353 2234 1838 2234 \r\nL 1294 2234 \r\nL 1294 2753 \r\nL 1863 2753 \r\nQ 2328 2753 2575 2939 \r\nQ 2822 3125 2822 3475 \r\nQ 2822 3834 2567 4026 \r\nQ 2313 4219 1838 4219 \r\nQ 1578 4219 1281 4162 \r\nQ 984 4106 628 3988 \r\nL 628 4550 \r\nQ 988 4650 1302 4700 \r\nQ 1616 4750 1894 4750 \r\nQ 2613 4750 3031 4423 \r\nQ 3450 4097 3450 3541 \r\nQ 3450 3153 3228 2886 \r\nQ 3006 2619 2597 2516 \r\nz\r\n\" id=\"DejaVuSans-33\" transform=\"scale(0.015625)\"/>\r\n       </defs>\r\n       <use xlink:href=\"#DejaVuSans-33\"/>\r\n       <use x=\"63.623047\" xlink:href=\"#DejaVuSans-30\"/>\r\n      </g>\r\n     </g>\r\n    </g>\r\n    <g id=\"xtick_5\">\r\n     <g id=\"line2d_5\">\r\n      <g>\r\n       <use style=\"stroke:#000000;stroke-width:0.8;\" x=\"164.52375\" xlink:href=\"#m51e994f39b\" y=\"226.740469\"/>\r\n      </g>\r\n     </g>\r\n     <g id=\"text_5\">\r\n      <!-- 40 -->\r\n      <g transform=\"translate(158.16125 241.338906)scale(0.1 -0.1)\">\r\n       <defs>\r\n        <path d=\"M 2419 4116 \r\nL 825 1625 \r\nL 2419 1625 \r\nL 2419 4116 \r\nz\r\nM 2253 4666 \r\nL 3047 4666 \r\nL 3047 1625 \r\nL 3713 1625 \r\nL 3713 1100 \r\nL 3047 1100 \r\nL 3047 0 \r\nL 2419 0 \r\nL 2419 1100 \r\nL 313 1100 \r\nL 313 1709 \r\nL 2253 4666 \r\nz\r\n\" id=\"DejaVuSans-34\" transform=\"scale(0.015625)\"/>\r\n       </defs>\r\n       <use xlink:href=\"#DejaVuSans-34\"/>\r\n       <use x=\"63.623047\" xlink:href=\"#DejaVuSans-30\"/>\r\n      </g>\r\n     </g>\r\n    </g>\r\n    <g id=\"xtick_6\">\r\n     <g id=\"line2d_6\">\r\n      <g>\r\n       <use style=\"stroke:#000000;stroke-width:0.8;\" x=\"198.49875\" xlink:href=\"#m51e994f39b\" y=\"226.740469\"/>\r\n      </g>\r\n     </g>\r\n     <g id=\"text_6\">\r\n      <!-- 50 -->\r\n      <g transform=\"translate(192.13625 241.338906)scale(0.1 -0.1)\">\r\n       <defs>\r\n        <path d=\"M 691 4666 \r\nL 3169 4666 \r\nL 3169 4134 \r\nL 1269 4134 \r\nL 1269 2991 \r\nQ 1406 3038 1543 3061 \r\nQ 1681 3084 1819 3084 \r\nQ 2600 3084 3056 2656 \r\nQ 3513 2228 3513 1497 \r\nQ 3513 744 3044 326 \r\nQ 2575 -91 1722 -91 \r\nQ 1428 -91 1123 -41 \r\nQ 819 9 494 109 \r\nL 494 744 \r\nQ 775 591 1075 516 \r\nQ 1375 441 1709 441 \r\nQ 2250 441 2565 725 \r\nQ 2881 1009 2881 1497 \r\nQ 2881 1984 2565 2268 \r\nQ 2250 2553 1709 2553 \r\nQ 1456 2553 1204 2497 \r\nQ 953 2441 691 2322 \r\nL 691 4666 \r\nz\r\n\" id=\"DejaVuSans-35\" transform=\"scale(0.015625)\"/>\r\n       </defs>\r\n       <use xlink:href=\"#DejaVuSans-35\"/>\r\n       <use x=\"63.623047\" xlink:href=\"#DejaVuSans-30\"/>\r\n      </g>\r\n     </g>\r\n    </g>\r\n    <g id=\"xtick_7\">\r\n     <g id=\"line2d_7\">\r\n      <g>\r\n       <use style=\"stroke:#000000;stroke-width:0.8;\" x=\"232.47375\" xlink:href=\"#m51e994f39b\" y=\"226.740469\"/>\r\n      </g>\r\n     </g>\r\n     <g id=\"text_7\">\r\n      <!-- 60 -->\r\n      <g transform=\"translate(226.11125 241.338906)scale(0.1 -0.1)\">\r\n       <defs>\r\n        <path d=\"M 2113 2584 \r\nQ 1688 2584 1439 2293 \r\nQ 1191 2003 1191 1497 \r\nQ 1191 994 1439 701 \r\nQ 1688 409 2113 409 \r\nQ 2538 409 2786 701 \r\nQ 3034 994 3034 1497 \r\nQ 3034 2003 2786 2293 \r\nQ 2538 2584 2113 2584 \r\nz\r\nM 3366 4563 \r\nL 3366 3988 \r\nQ 3128 4100 2886 4159 \r\nQ 2644 4219 2406 4219 \r\nQ 1781 4219 1451 3797 \r\nQ 1122 3375 1075 2522 \r\nQ 1259 2794 1537 2939 \r\nQ 1816 3084 2150 3084 \r\nQ 2853 3084 3261 2657 \r\nQ 3669 2231 3669 1497 \r\nQ 3669 778 3244 343 \r\nQ 2819 -91 2113 -91 \r\nQ 1303 -91 875 529 \r\nQ 447 1150 447 2328 \r\nQ 447 3434 972 4092 \r\nQ 1497 4750 2381 4750 \r\nQ 2619 4750 2861 4703 \r\nQ 3103 4656 3366 4563 \r\nz\r\n\" id=\"DejaVuSans-36\" transform=\"scale(0.015625)\"/>\r\n       </defs>\r\n       <use xlink:href=\"#DejaVuSans-36\"/>\r\n       <use x=\"63.623047\" xlink:href=\"#DejaVuSans-30\"/>\r\n      </g>\r\n     </g>\r\n    </g>\r\n   </g>\r\n   <g id=\"matplotlib.axis_2\">\r\n    <g id=\"ytick_1\">\r\n     <g id=\"line2d_8\">\r\n      <defs>\r\n       <path d=\"M 0 0 \r\nL -3.5 0 \r\n\" id=\"mb9b7a09fa9\" style=\"stroke:#000000;stroke-width:0.8;\"/>\r\n      </defs>\r\n      <g>\r\n       <use style=\"stroke:#000000;stroke-width:0.8;\" x=\"26.925\" xlink:href=\"#mb9b7a09fa9\" y=\"10.999219\"/>\r\n      </g>\r\n     </g>\r\n     <g id=\"text_8\">\r\n      <!-- 0 -->\r\n      <g transform=\"translate(13.5625 14.798437)scale(0.1 -0.1)\">\r\n       <use xlink:href=\"#DejaVuSans-30\"/>\r\n      </g>\r\n     </g>\r\n    </g>\r\n    <g id=\"ytick_2\">\r\n     <g id=\"line2d_9\">\r\n      <g>\r\n       <use style=\"stroke:#000000;stroke-width:0.8;\" x=\"26.925\" xlink:href=\"#mb9b7a09fa9\" y=\"44.974219\"/>\r\n      </g>\r\n     </g>\r\n     <g id=\"text_9\">\r\n      <!-- 10 -->\r\n      <g transform=\"translate(7.2 48.773437)scale(0.1 -0.1)\">\r\n       <use xlink:href=\"#DejaVuSans-31\"/>\r\n       <use x=\"63.623047\" xlink:href=\"#DejaVuSans-30\"/>\r\n      </g>\r\n     </g>\r\n    </g>\r\n    <g id=\"ytick_3\">\r\n     <g id=\"line2d_10\">\r\n      <g>\r\n       <use style=\"stroke:#000000;stroke-width:0.8;\" x=\"26.925\" xlink:href=\"#mb9b7a09fa9\" y=\"78.949219\"/>\r\n      </g>\r\n     </g>\r\n     <g id=\"text_10\">\r\n      <!-- 20 -->\r\n      <g transform=\"translate(7.2 82.748437)scale(0.1 -0.1)\">\r\n       <use xlink:href=\"#DejaVuSans-32\"/>\r\n       <use x=\"63.623047\" xlink:href=\"#DejaVuSans-30\"/>\r\n      </g>\r\n     </g>\r\n    </g>\r\n    <g id=\"ytick_4\">\r\n     <g id=\"line2d_11\">\r\n      <g>\r\n       <use style=\"stroke:#000000;stroke-width:0.8;\" x=\"26.925\" xlink:href=\"#mb9b7a09fa9\" y=\"112.924219\"/>\r\n      </g>\r\n     </g>\r\n     <g id=\"text_11\">\r\n      <!-- 30 -->\r\n      <g transform=\"translate(7.2 116.723437)scale(0.1 -0.1)\">\r\n       <use xlink:href=\"#DejaVuSans-33\"/>\r\n       <use x=\"63.623047\" xlink:href=\"#DejaVuSans-30\"/>\r\n      </g>\r\n     </g>\r\n    </g>\r\n    <g id=\"ytick_5\">\r\n     <g id=\"line2d_12\">\r\n      <g>\r\n       <use style=\"stroke:#000000;stroke-width:0.8;\" x=\"26.925\" xlink:href=\"#mb9b7a09fa9\" y=\"146.899219\"/>\r\n      </g>\r\n     </g>\r\n     <g id=\"text_12\">\r\n      <!-- 40 -->\r\n      <g transform=\"translate(7.2 150.698437)scale(0.1 -0.1)\">\r\n       <use xlink:href=\"#DejaVuSans-34\"/>\r\n       <use x=\"63.623047\" xlink:href=\"#DejaVuSans-30\"/>\r\n      </g>\r\n     </g>\r\n    </g>\r\n    <g id=\"ytick_6\">\r\n     <g id=\"line2d_13\">\r\n      <g>\r\n       <use style=\"stroke:#000000;stroke-width:0.8;\" x=\"26.925\" xlink:href=\"#mb9b7a09fa9\" y=\"180.874219\"/>\r\n      </g>\r\n     </g>\r\n     <g id=\"text_13\">\r\n      <!-- 50 -->\r\n      <g transform=\"translate(7.2 184.673437)scale(0.1 -0.1)\">\r\n       <use xlink:href=\"#DejaVuSans-35\"/>\r\n       <use x=\"63.623047\" xlink:href=\"#DejaVuSans-30\"/>\r\n      </g>\r\n     </g>\r\n    </g>\r\n    <g id=\"ytick_7\">\r\n     <g id=\"line2d_14\">\r\n      <g>\r\n       <use style=\"stroke:#000000;stroke-width:0.8;\" x=\"26.925\" xlink:href=\"#mb9b7a09fa9\" y=\"214.849219\"/>\r\n      </g>\r\n     </g>\r\n     <g id=\"text_14\">\r\n      <!-- 60 -->\r\n      <g transform=\"translate(7.2 218.648437)scale(0.1 -0.1)\">\r\n       <use xlink:href=\"#DejaVuSans-36\"/>\r\n       <use x=\"63.623047\" xlink:href=\"#DejaVuSans-30\"/>\r\n      </g>\r\n     </g>\r\n    </g>\r\n   </g>\r\n   <g id=\"patch_3\">\r\n    <path d=\"M 26.925 226.740469 \r\nL 26.925 9.300469 \r\n\" style=\"fill:none;stroke:#000000;stroke-linecap:square;stroke-linejoin:miter;stroke-width:0.8;\"/>\r\n   </g>\r\n   <g id=\"patch_4\">\r\n    <path d=\"M 244.365 226.740469 \r\nL 244.365 9.300469 \r\n\" style=\"fill:none;stroke:#000000;stroke-linecap:square;stroke-linejoin:miter;stroke-width:0.8;\"/>\r\n   </g>\r\n   <g id=\"patch_5\">\r\n    <path d=\"M 26.925 226.740469 \r\nL 244.365 226.740469 \r\n\" style=\"fill:none;stroke:#000000;stroke-linecap:square;stroke-linejoin:miter;stroke-width:0.8;\"/>\r\n   </g>\r\n   <g id=\"patch_6\">\r\n    <path d=\"M 26.925 9.300469 \r\nL 244.365 9.300469 \r\n\" style=\"fill:none;stroke:#000000;stroke-linecap:square;stroke-linejoin:miter;stroke-width:0.8;\"/>\r\n   </g>\r\n  </g>\r\n </g>\r\n <defs>\r\n  <clipPath id=\"pafc831d85d\">\r\n   <rect height=\"217.44\" width=\"217.44\" x=\"26.925\" y=\"9.300469\"/>\r\n  </clipPath>\r\n </defs>\r\n</svg>\r\n",
      "image/png": "[encoded data removed]"
     },
     "metadata": {
      "needs_background": "light"
     }
    }
   ],
   "source": [
    "# Example of a picture that was wrongly classified.\n",
    "print(test_set_y.shape)\n",
    "index = 1\n",
    "plt.imshow(test_set_x[:,index].reshape((num_px, num_px, 3)))\n",
    "print (\"y = \" + str(test_set_y[0,index]) + \", you predicted that it is a \\\"\" + classes[int(d[\"Y_prediction_test\"][0,index])].decode(\"utf-8\") +  \"\\\" picture.\")"
   ]
  },
  {
   "cell_type": "markdown",
   "metadata": {},
   "source": [
    "Let's also plot the cost function and the gradients."
   ]
  },
  {
   "cell_type": "code",
   "execution_count": 39,
   "metadata": {
    "collapsed": true
   },
   "outputs": [
    {
     "output_type": "display_data",
     "data": {
      "text/plain": "<Figure size 432x288 with 1 Axes>",
      "image/svg+xml": "<?xml version=\"1.0\" encoding=\"utf-8\" standalone=\"no\"?>\r\n<!DOCTYPE svg PUBLIC \"-//W3C//DTD SVG 1.1//EN\"\r\n  \"http://www.w3.org/Graphics/SVG/1.1/DTD/svg11.dtd\">\r\n<svg height=\"277.314375pt\" version=\"1.1\" viewBox=\"0 0 385.78125 277.314375\" width=\"385.78125pt\" xmlns=\"http://www.w3.org/2000/svg\" xmlns:xlink=\"http://www.w3.org/1999/xlink\">\r\n <metadata>\r\n  <rdf:RDF xmlns:cc=\"http://creativecommons.org/ns#\" xmlns:dc=\"http://purl.org/dc/elements/1.1/\" xmlns:rdf=\"http://www.w3.org/1999/02/22-rdf-syntax-ns#\">\r\n   <cc:Work>\r\n    <dc:type rdf:resource=\"http://purl.org/dc/dcmitype/StillImage\"/>\r\n    <dc:date>2021-07-03T22:25:22.311502</dc:date>\r\n    <dc:format>image/svg+xml</dc:format>\r\n    <dc:creator>\r\n     <cc:Agent>\r\n      <dc:title>Matplotlib v3.4.2, https://matplotlib.org/</dc:title>\r\n     </cc:Agent>\r\n    </dc:creator>\r\n   </cc:Work>\r\n  </rdf:RDF>\r\n </metadata>\r\n <defs>\r\n  <style type=\"text/css\">*{stroke-linecap:butt;stroke-linejoin:round;}</style>\r\n </defs>\r\n <g id=\"figure_1\">\r\n  <g id=\"patch_1\">\r\n   <path d=\"M 0 277.314375 \r\nL 385.78125 277.314375 \r\nL 385.78125 0 \r\nL 0 0 \r\nz\r\n\" style=\"fill:none;\"/>\r\n  </g>\r\n  <g id=\"axes_1\">\r\n   <g id=\"patch_2\">\r\n    <path d=\"M 43.78125 239.758125 \r\nL 378.58125 239.758125 \r\nL 378.58125 22.318125 \r\nL 43.78125 22.318125 \r\nz\r\n\" style=\"fill:#ffffff;\"/>\r\n   </g>\r\n   <g id=\"matplotlib.axis_1\">\r\n    <g id=\"xtick_1\">\r\n     <g id=\"line2d_1\">\r\n      <defs>\r\n       <path d=\"M 0 0 \r\nL 0 3.5 \r\n\" id=\"m167dc0a4b6\" style=\"stroke:#000000;stroke-width:0.8;\"/>\r\n      </defs>\r\n      <g>\r\n       <use style=\"stroke:#000000;stroke-width:0.8;\" x=\"58.999432\" xlink:href=\"#m167dc0a4b6\" y=\"239.758125\"/>\r\n      </g>\r\n     </g>\r\n     <g id=\"text_1\">\r\n      <!-- 0.0 -->\r\n      <g transform=\"translate(51.047869 254.356562)scale(0.1 -0.1)\">\r\n       <defs>\r\n        <path d=\"M 2034 4250 \r\nQ 1547 4250 1301 3770 \r\nQ 1056 3291 1056 2328 \r\nQ 1056 1369 1301 889 \r\nQ 1547 409 2034 409 \r\nQ 2525 409 2770 889 \r\nQ 3016 1369 3016 2328 \r\nQ 3016 3291 2770 3770 \r\nQ 2525 4250 2034 4250 \r\nz\r\nM 2034 4750 \r\nQ 2819 4750 3233 4129 \r\nQ 3647 3509 3647 2328 \r\nQ 3647 1150 3233 529 \r\nQ 2819 -91 2034 -91 \r\nQ 1250 -91 836 529 \r\nQ 422 1150 422 2328 \r\nQ 422 3509 836 4129 \r\nQ 1250 4750 2034 4750 \r\nz\r\n\" id=\"DejaVuSans-30\" transform=\"scale(0.015625)\"/>\r\n        <path d=\"M 684 794 \r\nL 1344 794 \r\nL 1344 0 \r\nL 684 0 \r\nL 684 794 \r\nz\r\n\" id=\"DejaVuSans-2e\" transform=\"scale(0.015625)\"/>\r\n       </defs>\r\n       <use xlink:href=\"#DejaVuSans-30\"/>\r\n       <use x=\"63.623047\" xlink:href=\"#DejaVuSans-2e\"/>\r\n       <use x=\"95.410156\" xlink:href=\"#DejaVuSans-30\"/>\r\n      </g>\r\n     </g>\r\n    </g>\r\n    <g id=\"xtick_2\">\r\n     <g id=\"line2d_2\">\r\n      <g>\r\n       <use style=\"stroke:#000000;stroke-width:0.8;\" x=\"99.047279\" xlink:href=\"#m167dc0a4b6\" y=\"239.758125\"/>\r\n      </g>\r\n     </g>\r\n     <g id=\"text_2\">\r\n      <!-- 2.5 -->\r\n      <g transform=\"translate(91.095716 254.356562)scale(0.1 -0.1)\">\r\n       <defs>\r\n        <path d=\"M 1228 531 \r\nL 3431 531 \r\nL 3431 0 \r\nL 469 0 \r\nL 469 531 \r\nQ 828 903 1448 1529 \r\nQ 2069 2156 2228 2338 \r\nQ 2531 2678 2651 2914 \r\nQ 2772 3150 2772 3378 \r\nQ 2772 3750 2511 3984 \r\nQ 2250 4219 1831 4219 \r\nQ 1534 4219 1204 4116 \r\nQ 875 4013 500 3803 \r\nL 500 4441 \r\nQ 881 4594 1212 4672 \r\nQ 1544 4750 1819 4750 \r\nQ 2544 4750 2975 4387 \r\nQ 3406 4025 3406 3419 \r\nQ 3406 3131 3298 2873 \r\nQ 3191 2616 2906 2266 \r\nQ 2828 2175 2409 1742 \r\nQ 1991 1309 1228 531 \r\nz\r\n\" id=\"DejaVuSans-32\" transform=\"scale(0.015625)\"/>\r\n        <path d=\"M 691 4666 \r\nL 3169 4666 \r\nL 3169 4134 \r\nL 1269 4134 \r\nL 1269 2991 \r\nQ 1406 3038 1543 3061 \r\nQ 1681 3084 1819 3084 \r\nQ 2600 3084 3056 2656 \r\nQ 3513 2228 3513 1497 \r\nQ 3513 744 3044 326 \r\nQ 2575 -91 1722 -91 \r\nQ 1428 -91 1123 -41 \r\nQ 819 9 494 109 \r\nL 494 744 \r\nQ 775 591 1075 516 \r\nQ 1375 441 1709 441 \r\nQ 2250 441 2565 725 \r\nQ 2881 1009 2881 1497 \r\nQ 2881 1984 2565 2268 \r\nQ 2250 2553 1709 2553 \r\nQ 1456 2553 1204 2497 \r\nQ 953 2441 691 2322 \r\nL 691 4666 \r\nz\r\n\" id=\"DejaVuSans-35\" transform=\"scale(0.015625)\"/>\r\n       </defs>\r\n       <use xlink:href=\"#DejaVuSans-32\"/>\r\n       <use x=\"63.623047\" xlink:href=\"#DejaVuSans-2e\"/>\r\n       <use x=\"95.410156\" xlink:href=\"#DejaVuSans-35\"/>\r\n      </g>\r\n     </g>\r\n    </g>\r\n    <g id=\"xtick_3\">\r\n     <g id=\"line2d_3\">\r\n      <g>\r\n       <use style=\"stroke:#000000;stroke-width:0.8;\" x=\"139.095126\" xlink:href=\"#m167dc0a4b6\" y=\"239.758125\"/>\r\n      </g>\r\n     </g>\r\n     <g id=\"text_3\">\r\n      <!-- 5.0 -->\r\n      <g transform=\"translate(131.143563 254.356562)scale(0.1 -0.1)\">\r\n       <use xlink:href=\"#DejaVuSans-35\"/>\r\n       <use x=\"63.623047\" xlink:href=\"#DejaVuSans-2e\"/>\r\n       <use x=\"95.410156\" xlink:href=\"#DejaVuSans-30\"/>\r\n      </g>\r\n     </g>\r\n    </g>\r\n    <g id=\"xtick_4\">\r\n     <g id=\"line2d_4\">\r\n      <g>\r\n       <use style=\"stroke:#000000;stroke-width:0.8;\" x=\"179.142972\" xlink:href=\"#m167dc0a4b6\" y=\"239.758125\"/>\r\n      </g>\r\n     </g>\r\n     <g id=\"text_4\">\r\n      <!-- 7.5 -->\r\n      <g transform=\"translate(171.19141 254.356562)scale(0.1 -0.1)\">\r\n       <defs>\r\n        <path d=\"M 525 4666 \r\nL 3525 4666 \r\nL 3525 4397 \r\nL 1831 0 \r\nL 1172 0 \r\nL 2766 4134 \r\nL 525 4134 \r\nL 525 4666 \r\nz\r\n\" id=\"DejaVuSans-37\" transform=\"scale(0.015625)\"/>\r\n       </defs>\r\n       <use xlink:href=\"#DejaVuSans-37\"/>\r\n       <use x=\"63.623047\" xlink:href=\"#DejaVuSans-2e\"/>\r\n       <use x=\"95.410156\" xlink:href=\"#DejaVuSans-35\"/>\r\n      </g>\r\n     </g>\r\n    </g>\r\n    <g id=\"xtick_5\">\r\n     <g id=\"line2d_5\">\r\n      <g>\r\n       <use style=\"stroke:#000000;stroke-width:0.8;\" x=\"219.190819\" xlink:href=\"#m167dc0a4b6\" y=\"239.758125\"/>\r\n      </g>\r\n     </g>\r\n     <g id=\"text_5\">\r\n      <!-- 10.0 -->\r\n      <g transform=\"translate(208.058007 254.356562)scale(0.1 -0.1)\">\r\n       <defs>\r\n        <path d=\"M 794 531 \r\nL 1825 531 \r\nL 1825 4091 \r\nL 703 3866 \r\nL 703 4441 \r\nL 1819 4666 \r\nL 2450 4666 \r\nL 2450 531 \r\nL 3481 531 \r\nL 3481 0 \r\nL 794 0 \r\nL 794 531 \r\nz\r\n\" id=\"DejaVuSans-31\" transform=\"scale(0.015625)\"/>\r\n       </defs>\r\n       <use xlink:href=\"#DejaVuSans-31\"/>\r\n       <use x=\"63.623047\" xlink:href=\"#DejaVuSans-30\"/>\r\n       <use x=\"127.246094\" xlink:href=\"#DejaVuSans-2e\"/>\r\n       <use x=\"159.033203\" xlink:href=\"#DejaVuSans-30\"/>\r\n      </g>\r\n     </g>\r\n    </g>\r\n    <g id=\"xtick_6\">\r\n     <g id=\"line2d_6\">\r\n      <g>\r\n       <use style=\"stroke:#000000;stroke-width:0.8;\" x=\"259.238666\" xlink:href=\"#m167dc0a4b6\" y=\"239.758125\"/>\r\n      </g>\r\n     </g>\r\n     <g id=\"text_6\">\r\n      <!-- 12.5 -->\r\n      <g transform=\"translate(248.105854 254.356562)scale(0.1 -0.1)\">\r\n       <use xlink:href=\"#DejaVuSans-31\"/>\r\n       <use x=\"63.623047\" xlink:href=\"#DejaVuSans-32\"/>\r\n       <use x=\"127.246094\" xlink:href=\"#DejaVuSans-2e\"/>\r\n       <use x=\"159.033203\" xlink:href=\"#DejaVuSans-35\"/>\r\n      </g>\r\n     </g>\r\n    </g>\r\n    <g id=\"xtick_7\">\r\n     <g id=\"line2d_7\">\r\n      <g>\r\n       <use style=\"stroke:#000000;stroke-width:0.8;\" x=\"299.286513\" xlink:href=\"#m167dc0a4b6\" y=\"239.758125\"/>\r\n      </g>\r\n     </g>\r\n     <g id=\"text_7\">\r\n      <!-- 15.0 -->\r\n      <g transform=\"translate(288.153701 254.356562)scale(0.1 -0.1)\">\r\n       <use xlink:href=\"#DejaVuSans-31\"/>\r\n       <use x=\"63.623047\" xlink:href=\"#DejaVuSans-35\"/>\r\n       <use x=\"127.246094\" xlink:href=\"#DejaVuSans-2e\"/>\r\n       <use x=\"159.033203\" xlink:href=\"#DejaVuSans-30\"/>\r\n      </g>\r\n     </g>\r\n    </g>\r\n    <g id=\"xtick_8\">\r\n     <g id=\"line2d_8\">\r\n      <g>\r\n       <use style=\"stroke:#000000;stroke-width:0.8;\" x=\"339.33436\" xlink:href=\"#m167dc0a4b6\" y=\"239.758125\"/>\r\n      </g>\r\n     </g>\r\n     <g id=\"text_8\">\r\n      <!-- 17.5 -->\r\n      <g transform=\"translate(328.201548 254.356562)scale(0.1 -0.1)\">\r\n       <use xlink:href=\"#DejaVuSans-31\"/>\r\n       <use x=\"63.623047\" xlink:href=\"#DejaVuSans-37\"/>\r\n       <use x=\"127.246094\" xlink:href=\"#DejaVuSans-2e\"/>\r\n       <use x=\"159.033203\" xlink:href=\"#DejaVuSans-35\"/>\r\n      </g>\r\n     </g>\r\n    </g>\r\n    <g id=\"text_9\">\r\n     <!-- iterations (per hundreds) -->\r\n     <g transform=\"translate(148.589063 268.034687)scale(0.1 -0.1)\">\r\n      <defs>\r\n       <path d=\"M 603 3500 \r\nL 1178 3500 \r\nL 1178 0 \r\nL 603 0 \r\nL 603 3500 \r\nz\r\nM 603 4863 \r\nL 1178 4863 \r\nL 1178 4134 \r\nL 603 4134 \r\nL 603 4863 \r\nz\r\n\" id=\"DejaVuSans-69\" transform=\"scale(0.015625)\"/>\r\n       <path d=\"M 1172 4494 \r\nL 1172 3500 \r\nL 2356 3500 \r\nL 2356 3053 \r\nL 1172 3053 \r\nL 1172 1153 \r\nQ 1172 725 1289 603 \r\nQ 1406 481 1766 481 \r\nL 2356 481 \r\nL 2356 0 \r\nL 1766 0 \r\nQ 1100 0 847 248 \r\nQ 594 497 594 1153 \r\nL 594 3053 \r\nL 172 3053 \r\nL 172 3500 \r\nL 594 3500 \r\nL 594 4494 \r\nL 1172 4494 \r\nz\r\n\" id=\"DejaVuSans-74\" transform=\"scale(0.015625)\"/>\r\n       <path d=\"M 3597 1894 \r\nL 3597 1613 \r\nL 953 1613 \r\nQ 991 1019 1311 708 \r\nQ 1631 397 2203 397 \r\nQ 2534 397 2845 478 \r\nQ 3156 559 3463 722 \r\nL 3463 178 \r\nQ 3153 47 2828 -22 \r\nQ 2503 -91 2169 -91 \r\nQ 1331 -91 842 396 \r\nQ 353 884 353 1716 \r\nQ 353 2575 817 3079 \r\nQ 1281 3584 2069 3584 \r\nQ 2775 3584 3186 3129 \r\nQ 3597 2675 3597 1894 \r\nz\r\nM 3022 2063 \r\nQ 3016 2534 2758 2815 \r\nQ 2500 3097 2075 3097 \r\nQ 1594 3097 1305 2825 \r\nQ 1016 2553 972 2059 \r\nL 3022 2063 \r\nz\r\n\" id=\"DejaVuSans-65\" transform=\"scale(0.015625)\"/>\r\n       <path d=\"M 2631 2963 \r\nQ 2534 3019 2420 3045 \r\nQ 2306 3072 2169 3072 \r\nQ 1681 3072 1420 2755 \r\nQ 1159 2438 1159 1844 \r\nL 1159 0 \r\nL 581 0 \r\nL 581 3500 \r\nL 1159 3500 \r\nL 1159 2956 \r\nQ 1341 3275 1631 3429 \r\nQ 1922 3584 2338 3584 \r\nQ 2397 3584 2469 3576 \r\nQ 2541 3569 2628 3553 \r\nL 2631 2963 \r\nz\r\n\" id=\"DejaVuSans-72\" transform=\"scale(0.015625)\"/>\r\n       <path d=\"M 2194 1759 \r\nQ 1497 1759 1228 1600 \r\nQ 959 1441 959 1056 \r\nQ 959 750 1161 570 \r\nQ 1363 391 1709 391 \r\nQ 2188 391 2477 730 \r\nQ 2766 1069 2766 1631 \r\nL 2766 1759 \r\nL 2194 1759 \r\nz\r\nM 3341 1997 \r\nL 3341 0 \r\nL 2766 0 \r\nL 2766 531 \r\nQ 2569 213 2275 61 \r\nQ 1981 -91 1556 -91 \r\nQ 1019 -91 701 211 \r\nQ 384 513 384 1019 \r\nQ 384 1609 779 1909 \r\nQ 1175 2209 1959 2209 \r\nL 2766 2209 \r\nL 2766 2266 \r\nQ 2766 2663 2505 2880 \r\nQ 2244 3097 1772 3097 \r\nQ 1472 3097 1187 3025 \r\nQ 903 2953 641 2809 \r\nL 641 3341 \r\nQ 956 3463 1253 3523 \r\nQ 1550 3584 1831 3584 \r\nQ 2591 3584 2966 3190 \r\nQ 3341 2797 3341 1997 \r\nz\r\n\" id=\"DejaVuSans-61\" transform=\"scale(0.015625)\"/>\r\n       <path d=\"M 1959 3097 \r\nQ 1497 3097 1228 2736 \r\nQ 959 2375 959 1747 \r\nQ 959 1119 1226 758 \r\nQ 1494 397 1959 397 \r\nQ 2419 397 2687 759 \r\nQ 2956 1122 2956 1747 \r\nQ 2956 2369 2687 2733 \r\nQ 2419 3097 1959 3097 \r\nz\r\nM 1959 3584 \r\nQ 2709 3584 3137 3096 \r\nQ 3566 2609 3566 1747 \r\nQ 3566 888 3137 398 \r\nQ 2709 -91 1959 -91 \r\nQ 1206 -91 779 398 \r\nQ 353 888 353 1747 \r\nQ 353 2609 779 3096 \r\nQ 1206 3584 1959 3584 \r\nz\r\n\" id=\"DejaVuSans-6f\" transform=\"scale(0.015625)\"/>\r\n       <path d=\"M 3513 2113 \r\nL 3513 0 \r\nL 2938 0 \r\nL 2938 2094 \r\nQ 2938 2591 2744 2837 \r\nQ 2550 3084 2163 3084 \r\nQ 1697 3084 1428 2787 \r\nQ 1159 2491 1159 1978 \r\nL 1159 0 \r\nL 581 0 \r\nL 581 3500 \r\nL 1159 3500 \r\nL 1159 2956 \r\nQ 1366 3272 1645 3428 \r\nQ 1925 3584 2291 3584 \r\nQ 2894 3584 3203 3211 \r\nQ 3513 2838 3513 2113 \r\nz\r\n\" id=\"DejaVuSans-6e\" transform=\"scale(0.015625)\"/>\r\n       <path d=\"M 2834 3397 \r\nL 2834 2853 \r\nQ 2591 2978 2328 3040 \r\nQ 2066 3103 1784 3103 \r\nQ 1356 3103 1142 2972 \r\nQ 928 2841 928 2578 \r\nQ 928 2378 1081 2264 \r\nQ 1234 2150 1697 2047 \r\nL 1894 2003 \r\nQ 2506 1872 2764 1633 \r\nQ 3022 1394 3022 966 \r\nQ 3022 478 2636 193 \r\nQ 2250 -91 1575 -91 \r\nQ 1294 -91 989 -36 \r\nQ 684 19 347 128 \r\nL 347 722 \r\nQ 666 556 975 473 \r\nQ 1284 391 1588 391 \r\nQ 1994 391 2212 530 \r\nQ 2431 669 2431 922 \r\nQ 2431 1156 2273 1281 \r\nQ 2116 1406 1581 1522 \r\nL 1381 1569 \r\nQ 847 1681 609 1914 \r\nQ 372 2147 372 2553 \r\nQ 372 3047 722 3315 \r\nQ 1072 3584 1716 3584 \r\nQ 2034 3584 2315 3537 \r\nQ 2597 3491 2834 3397 \r\nz\r\n\" id=\"DejaVuSans-73\" transform=\"scale(0.015625)\"/>\r\n       <path id=\"DejaVuSans-20\" transform=\"scale(0.015625)\"/>\r\n       <path d=\"M 1984 4856 \r\nQ 1566 4138 1362 3434 \r\nQ 1159 2731 1159 2009 \r\nQ 1159 1288 1364 580 \r\nQ 1569 -128 1984 -844 \r\nL 1484 -844 \r\nQ 1016 -109 783 600 \r\nQ 550 1309 550 2009 \r\nQ 550 2706 781 3412 \r\nQ 1013 4119 1484 4856 \r\nL 1984 4856 \r\nz\r\n\" id=\"DejaVuSans-28\" transform=\"scale(0.015625)\"/>\r\n       <path d=\"M 1159 525 \r\nL 1159 -1331 \r\nL 581 -1331 \r\nL 581 3500 \r\nL 1159 3500 \r\nL 1159 2969 \r\nQ 1341 3281 1617 3432 \r\nQ 1894 3584 2278 3584 \r\nQ 2916 3584 3314 3078 \r\nQ 3713 2572 3713 1747 \r\nQ 3713 922 3314 415 \r\nQ 2916 -91 2278 -91 \r\nQ 1894 -91 1617 61 \r\nQ 1341 213 1159 525 \r\nz\r\nM 3116 1747 \r\nQ 3116 2381 2855 2742 \r\nQ 2594 3103 2138 3103 \r\nQ 1681 3103 1420 2742 \r\nQ 1159 2381 1159 1747 \r\nQ 1159 1113 1420 752 \r\nQ 1681 391 2138 391 \r\nQ 2594 391 2855 752 \r\nQ 3116 1113 3116 1747 \r\nz\r\n\" id=\"DejaVuSans-70\" transform=\"scale(0.015625)\"/>\r\n       <path d=\"M 3513 2113 \r\nL 3513 0 \r\nL 2938 0 \r\nL 2938 2094 \r\nQ 2938 2591 2744 2837 \r\nQ 2550 3084 2163 3084 \r\nQ 1697 3084 1428 2787 \r\nQ 1159 2491 1159 1978 \r\nL 1159 0 \r\nL 581 0 \r\nL 581 4863 \r\nL 1159 4863 \r\nL 1159 2956 \r\nQ 1366 3272 1645 3428 \r\nQ 1925 3584 2291 3584 \r\nQ 2894 3584 3203 3211 \r\nQ 3513 2838 3513 2113 \r\nz\r\n\" id=\"DejaVuSans-68\" transform=\"scale(0.015625)\"/>\r\n       <path d=\"M 544 1381 \r\nL 544 3500 \r\nL 1119 3500 \r\nL 1119 1403 \r\nQ 1119 906 1312 657 \r\nQ 1506 409 1894 409 \r\nQ 2359 409 2629 706 \r\nQ 2900 1003 2900 1516 \r\nL 2900 3500 \r\nL 3475 3500 \r\nL 3475 0 \r\nL 2900 0 \r\nL 2900 538 \r\nQ 2691 219 2414 64 \r\nQ 2138 -91 1772 -91 \r\nQ 1169 -91 856 284 \r\nQ 544 659 544 1381 \r\nz\r\nM 1991 3584 \r\nL 1991 3584 \r\nz\r\n\" id=\"DejaVuSans-75\" transform=\"scale(0.015625)\"/>\r\n       <path d=\"M 2906 2969 \r\nL 2906 4863 \r\nL 3481 4863 \r\nL 3481 0 \r\nL 2906 0 \r\nL 2906 525 \r\nQ 2725 213 2448 61 \r\nQ 2172 -91 1784 -91 \r\nQ 1150 -91 751 415 \r\nQ 353 922 353 1747 \r\nQ 353 2572 751 3078 \r\nQ 1150 3584 1784 3584 \r\nQ 2172 3584 2448 3432 \r\nQ 2725 3281 2906 2969 \r\nz\r\nM 947 1747 \r\nQ 947 1113 1208 752 \r\nQ 1469 391 1925 391 \r\nQ 2381 391 2643 752 \r\nQ 2906 1113 2906 1747 \r\nQ 2906 2381 2643 2742 \r\nQ 2381 3103 1925 3103 \r\nQ 1469 3103 1208 2742 \r\nQ 947 2381 947 1747 \r\nz\r\n\" id=\"DejaVuSans-64\" transform=\"scale(0.015625)\"/>\r\n       <path d=\"M 513 4856 \r\nL 1013 4856 \r\nQ 1481 4119 1714 3412 \r\nQ 1947 2706 1947 2009 \r\nQ 1947 1309 1714 600 \r\nQ 1481 -109 1013 -844 \r\nL 513 -844 \r\nQ 928 -128 1133 580 \r\nQ 1338 1288 1338 2009 \r\nQ 1338 2731 1133 3434 \r\nQ 928 4138 513 4856 \r\nz\r\n\" id=\"DejaVuSans-29\" transform=\"scale(0.015625)\"/>\r\n      </defs>\r\n      <use xlink:href=\"#DejaVuSans-69\"/>\r\n      <use x=\"27.783203\" xlink:href=\"#DejaVuSans-74\"/>\r\n      <use x=\"66.992188\" xlink:href=\"#DejaVuSans-65\"/>\r\n      <use x=\"128.515625\" xlink:href=\"#DejaVuSans-72\"/>\r\n      <use x=\"169.628906\" xlink:href=\"#DejaVuSans-61\"/>\r\n      <use x=\"230.908203\" xlink:href=\"#DejaVuSans-74\"/>\r\n      <use x=\"270.117188\" xlink:href=\"#DejaVuSans-69\"/>\r\n      <use x=\"297.900391\" xlink:href=\"#DejaVuSans-6f\"/>\r\n      <use x=\"359.082031\" xlink:href=\"#DejaVuSans-6e\"/>\r\n      <use x=\"422.460938\" xlink:href=\"#DejaVuSans-73\"/>\r\n      <use x=\"474.560547\" xlink:href=\"#DejaVuSans-20\"/>\r\n      <use x=\"506.347656\" xlink:href=\"#DejaVuSans-28\"/>\r\n      <use x=\"545.361328\" xlink:href=\"#DejaVuSans-70\"/>\r\n      <use x=\"608.837891\" xlink:href=\"#DejaVuSans-65\"/>\r\n      <use x=\"670.361328\" xlink:href=\"#DejaVuSans-72\"/>\r\n      <use x=\"711.474609\" xlink:href=\"#DejaVuSans-20\"/>\r\n      <use x=\"743.261719\" xlink:href=\"#DejaVuSans-68\"/>\r\n      <use x=\"806.640625\" xlink:href=\"#DejaVuSans-75\"/>\r\n      <use x=\"870.019531\" xlink:href=\"#DejaVuSans-6e\"/>\r\n      <use x=\"933.398438\" xlink:href=\"#DejaVuSans-64\"/>\r\n      <use x=\"996.875\" xlink:href=\"#DejaVuSans-72\"/>\r\n      <use x=\"1035.738281\" xlink:href=\"#DejaVuSans-65\"/>\r\n      <use x=\"1097.261719\" xlink:href=\"#DejaVuSans-64\"/>\r\n      <use x=\"1160.738281\" xlink:href=\"#DejaVuSans-73\"/>\r\n      <use x=\"1212.837891\" xlink:href=\"#DejaVuSans-29\"/>\r\n     </g>\r\n    </g>\r\n   </g>\r\n   <g id=\"matplotlib.axis_2\">\r\n    <g id=\"ytick_1\">\r\n     <g id=\"line2d_9\">\r\n      <defs>\r\n       <path d=\"M 0 0 \r\nL -3.5 0 \r\n\" id=\"mf1971f8c92\" style=\"stroke:#000000;stroke-width:0.8;\"/>\r\n      </defs>\r\n      <g>\r\n       <use style=\"stroke:#000000;stroke-width:0.8;\" x=\"43.78125\" xlink:href=\"#mf1971f8c92\" y=\"208.711163\"/>\r\n      </g>\r\n     </g>\r\n     <g id=\"text_10\">\r\n      <!-- 0.2 -->\r\n      <g transform=\"translate(20.878125 212.510381)scale(0.1 -0.1)\">\r\n       <use xlink:href=\"#DejaVuSans-30\"/>\r\n       <use x=\"63.623047\" xlink:href=\"#DejaVuSans-2e\"/>\r\n       <use x=\"95.410156\" xlink:href=\"#DejaVuSans-32\"/>\r\n      </g>\r\n     </g>\r\n    </g>\r\n    <g id=\"ytick_2\">\r\n     <g id=\"line2d_10\">\r\n      <g>\r\n       <use style=\"stroke:#000000;stroke-width:0.8;\" x=\"43.78125\" xlink:href=\"#mf1971f8c92\" y=\"172.918724\"/>\r\n      </g>\r\n     </g>\r\n     <g id=\"text_11\">\r\n      <!-- 0.3 -->\r\n      <g transform=\"translate(20.878125 176.717943)scale(0.1 -0.1)\">\r\n       <defs>\r\n        <path d=\"M 2597 2516 \r\nQ 3050 2419 3304 2112 \r\nQ 3559 1806 3559 1356 \r\nQ 3559 666 3084 287 \r\nQ 2609 -91 1734 -91 \r\nQ 1441 -91 1130 -33 \r\nQ 819 25 488 141 \r\nL 488 750 \r\nQ 750 597 1062 519 \r\nQ 1375 441 1716 441 \r\nQ 2309 441 2620 675 \r\nQ 2931 909 2931 1356 \r\nQ 2931 1769 2642 2001 \r\nQ 2353 2234 1838 2234 \r\nL 1294 2234 \r\nL 1294 2753 \r\nL 1863 2753 \r\nQ 2328 2753 2575 2939 \r\nQ 2822 3125 2822 3475 \r\nQ 2822 3834 2567 4026 \r\nQ 2313 4219 1838 4219 \r\nQ 1578 4219 1281 4162 \r\nQ 984 4106 628 3988 \r\nL 628 4550 \r\nQ 988 4650 1302 4700 \r\nQ 1616 4750 1894 4750 \r\nQ 2613 4750 3031 4423 \r\nQ 3450 4097 3450 3541 \r\nQ 3450 3153 3228 2886 \r\nQ 3006 2619 2597 2516 \r\nz\r\n\" id=\"DejaVuSans-33\" transform=\"scale(0.015625)\"/>\r\n       </defs>\r\n       <use xlink:href=\"#DejaVuSans-30\"/>\r\n       <use x=\"63.623047\" xlink:href=\"#DejaVuSans-2e\"/>\r\n       <use x=\"95.410156\" xlink:href=\"#DejaVuSans-33\"/>\r\n      </g>\r\n     </g>\r\n    </g>\r\n    <g id=\"ytick_3\">\r\n     <g id=\"line2d_11\">\r\n      <g>\r\n       <use style=\"stroke:#000000;stroke-width:0.8;\" x=\"43.78125\" xlink:href=\"#mf1971f8c92\" y=\"137.126286\"/>\r\n      </g>\r\n     </g>\r\n     <g id=\"text_12\">\r\n      <!-- 0.4 -->\r\n      <g transform=\"translate(20.878125 140.925504)scale(0.1 -0.1)\">\r\n       <defs>\r\n        <path d=\"M 2419 4116 \r\nL 825 1625 \r\nL 2419 1625 \r\nL 2419 4116 \r\nz\r\nM 2253 4666 \r\nL 3047 4666 \r\nL 3047 1625 \r\nL 3713 1625 \r\nL 3713 1100 \r\nL 3047 1100 \r\nL 3047 0 \r\nL 2419 0 \r\nL 2419 1100 \r\nL 313 1100 \r\nL 313 1709 \r\nL 2253 4666 \r\nz\r\n\" id=\"DejaVuSans-34\" transform=\"scale(0.015625)\"/>\r\n       </defs>\r\n       <use xlink:href=\"#DejaVuSans-30\"/>\r\n       <use x=\"63.623047\" xlink:href=\"#DejaVuSans-2e\"/>\r\n       <use x=\"95.410156\" xlink:href=\"#DejaVuSans-34\"/>\r\n      </g>\r\n     </g>\r\n    </g>\r\n    <g id=\"ytick_4\">\r\n     <g id=\"line2d_12\">\r\n      <g>\r\n       <use style=\"stroke:#000000;stroke-width:0.8;\" x=\"43.78125\" xlink:href=\"#mf1971f8c92\" y=\"101.333847\"/>\r\n      </g>\r\n     </g>\r\n     <g id=\"text_13\">\r\n      <!-- 0.5 -->\r\n      <g transform=\"translate(20.878125 105.133066)scale(0.1 -0.1)\">\r\n       <use xlink:href=\"#DejaVuSans-30\"/>\r\n       <use x=\"63.623047\" xlink:href=\"#DejaVuSans-2e\"/>\r\n       <use x=\"95.410156\" xlink:href=\"#DejaVuSans-35\"/>\r\n      </g>\r\n     </g>\r\n    </g>\r\n    <g id=\"ytick_5\">\r\n     <g id=\"line2d_13\">\r\n      <g>\r\n       <use style=\"stroke:#000000;stroke-width:0.8;\" x=\"43.78125\" xlink:href=\"#mf1971f8c92\" y=\"65.541409\"/>\r\n      </g>\r\n     </g>\r\n     <g id=\"text_14\">\r\n      <!-- 0.6 -->\r\n      <g transform=\"translate(20.878125 69.340627)scale(0.1 -0.1)\">\r\n       <defs>\r\n        <path d=\"M 2113 2584 \r\nQ 1688 2584 1439 2293 \r\nQ 1191 2003 1191 1497 \r\nQ 1191 994 1439 701 \r\nQ 1688 409 2113 409 \r\nQ 2538 409 2786 701 \r\nQ 3034 994 3034 1497 \r\nQ 3034 2003 2786 2293 \r\nQ 2538 2584 2113 2584 \r\nz\r\nM 3366 4563 \r\nL 3366 3988 \r\nQ 3128 4100 2886 4159 \r\nQ 2644 4219 2406 4219 \r\nQ 1781 4219 1451 3797 \r\nQ 1122 3375 1075 2522 \r\nQ 1259 2794 1537 2939 \r\nQ 1816 3084 2150 3084 \r\nQ 2853 3084 3261 2657 \r\nQ 3669 2231 3669 1497 \r\nQ 3669 778 3244 343 \r\nQ 2819 -91 2113 -91 \r\nQ 1303 -91 875 529 \r\nQ 447 1150 447 2328 \r\nQ 447 3434 972 4092 \r\nQ 1497 4750 2381 4750 \r\nQ 2619 4750 2861 4703 \r\nQ 3103 4656 3366 4563 \r\nz\r\n\" id=\"DejaVuSans-36\" transform=\"scale(0.015625)\"/>\r\n       </defs>\r\n       <use xlink:href=\"#DejaVuSans-30\"/>\r\n       <use x=\"63.623047\" xlink:href=\"#DejaVuSans-2e\"/>\r\n       <use x=\"95.410156\" xlink:href=\"#DejaVuSans-36\"/>\r\n      </g>\r\n     </g>\r\n    </g>\r\n    <g id=\"ytick_6\">\r\n     <g id=\"line2d_14\">\r\n      <g>\r\n       <use style=\"stroke:#000000;stroke-width:0.8;\" x=\"43.78125\" xlink:href=\"#mf1971f8c92\" y=\"29.74897\"/>\r\n      </g>\r\n     </g>\r\n     <g id=\"text_15\">\r\n      <!-- 0.7 -->\r\n      <g transform=\"translate(20.878125 33.548189)scale(0.1 -0.1)\">\r\n       <use xlink:href=\"#DejaVuSans-30\"/>\r\n       <use x=\"63.623047\" xlink:href=\"#DejaVuSans-2e\"/>\r\n       <use x=\"95.410156\" xlink:href=\"#DejaVuSans-37\"/>\r\n      </g>\r\n     </g>\r\n    </g>\r\n    <g id=\"text_16\">\r\n     <!-- cost -->\r\n     <g transform=\"translate(14.798438 141.411562)rotate(-90)scale(0.1 -0.1)\">\r\n      <defs>\r\n       <path d=\"M 3122 3366 \r\nL 3122 2828 \r\nQ 2878 2963 2633 3030 \r\nQ 2388 3097 2138 3097 \r\nQ 1578 3097 1268 2742 \r\nQ 959 2388 959 1747 \r\nQ 959 1106 1268 751 \r\nQ 1578 397 2138 397 \r\nQ 2388 397 2633 464 \r\nQ 2878 531 3122 666 \r\nL 3122 134 \r\nQ 2881 22 2623 -34 \r\nQ 2366 -91 2075 -91 \r\nQ 1284 -91 818 406 \r\nQ 353 903 353 1747 \r\nQ 353 2603 823 3093 \r\nQ 1294 3584 2113 3584 \r\nQ 2378 3584 2631 3529 \r\nQ 2884 3475 3122 3366 \r\nz\r\n\" id=\"DejaVuSans-63\" transform=\"scale(0.015625)\"/>\r\n      </defs>\r\n      <use xlink:href=\"#DejaVuSans-63\"/>\r\n      <use x=\"54.980469\" xlink:href=\"#DejaVuSans-6f\"/>\r\n      <use x=\"116.162109\" xlink:href=\"#DejaVuSans-73\"/>\r\n      <use x=\"168.261719\" xlink:href=\"#DejaVuSans-74\"/>\r\n     </g>\r\n    </g>\r\n   </g>\r\n   <g id=\"line2d_15\">\r\n    <path clip-path=\"url(#pff5ee2541c)\" d=\"M 58.999432 32.201761 \r\nL 75.018571 71.086243 \r\nL 91.037709 113.163591 \r\nL 107.056848 145.714013 \r\nL 123.075987 161.657246 \r\nL 139.095126 171.747214 \r\nL 155.114264 180.120311 \r\nL 171.133403 187.220618 \r\nL 187.152542 193.341645 \r\nL 203.171681 198.687769 \r\nL 219.190819 203.406897 \r\nL 235.209958 207.609403 \r\nL 251.229097 211.379748 \r\nL 267.248236 214.783945 \r\nL 283.267374 217.87453 \r\nL 299.286513 220.693971 \r\nL 315.305652 223.277068 \r\nL 331.324791 225.652681 \r\nL 347.343929 227.845 \r\nL 363.363068 229.874489 \r\n\" style=\"fill:none;stroke:#1f77b4;stroke-linecap:square;stroke-width:1.5;\"/>\r\n   </g>\r\n   <g id=\"patch_3\">\r\n    <path d=\"M 43.78125 239.758125 \r\nL 43.78125 22.318125 \r\n\" style=\"fill:none;stroke:#000000;stroke-linecap:square;stroke-linejoin:miter;stroke-width:0.8;\"/>\r\n   </g>\r\n   <g id=\"patch_4\">\r\n    <path d=\"M 378.58125 239.758125 \r\nL 378.58125 22.318125 \r\n\" style=\"fill:none;stroke:#000000;stroke-linecap:square;stroke-linejoin:miter;stroke-width:0.8;\"/>\r\n   </g>\r\n   <g id=\"patch_5\">\r\n    <path d=\"M 43.78125 239.758125 \r\nL 378.58125 239.758125 \r\n\" style=\"fill:none;stroke:#000000;stroke-linecap:square;stroke-linejoin:miter;stroke-width:0.8;\"/>\r\n   </g>\r\n   <g id=\"patch_6\">\r\n    <path d=\"M 43.78125 22.318125 \r\nL 378.58125 22.318125 \r\n\" style=\"fill:none;stroke:#000000;stroke-linecap:square;stroke-linejoin:miter;stroke-width:0.8;\"/>\r\n   </g>\r\n   <g id=\"text_17\">\r\n    <!-- Learning rate =0.005 -->\r\n    <g transform=\"translate(146.925938 16.318125)scale(0.12 -0.12)\">\r\n     <defs>\r\n      <path d=\"M 628 4666 \r\nL 1259 4666 \r\nL 1259 531 \r\nL 3531 531 \r\nL 3531 0 \r\nL 628 0 \r\nL 628 4666 \r\nz\r\n\" id=\"DejaVuSans-4c\" transform=\"scale(0.015625)\"/>\r\n      <path d=\"M 2906 1791 \r\nQ 2906 2416 2648 2759 \r\nQ 2391 3103 1925 3103 \r\nQ 1463 3103 1205 2759 \r\nQ 947 2416 947 1791 \r\nQ 947 1169 1205 825 \r\nQ 1463 481 1925 481 \r\nQ 2391 481 2648 825 \r\nQ 2906 1169 2906 1791 \r\nz\r\nM 3481 434 \r\nQ 3481 -459 3084 -895 \r\nQ 2688 -1331 1869 -1331 \r\nQ 1566 -1331 1297 -1286 \r\nQ 1028 -1241 775 -1147 \r\nL 775 -588 \r\nQ 1028 -725 1275 -790 \r\nQ 1522 -856 1778 -856 \r\nQ 2344 -856 2625 -561 \r\nQ 2906 -266 2906 331 \r\nL 2906 616 \r\nQ 2728 306 2450 153 \r\nQ 2172 0 1784 0 \r\nQ 1141 0 747 490 \r\nQ 353 981 353 1791 \r\nQ 353 2603 747 3093 \r\nQ 1141 3584 1784 3584 \r\nQ 2172 3584 2450 3431 \r\nQ 2728 3278 2906 2969 \r\nL 2906 3500 \r\nL 3481 3500 \r\nL 3481 434 \r\nz\r\n\" id=\"DejaVuSans-67\" transform=\"scale(0.015625)\"/>\r\n      <path d=\"M 678 2906 \r\nL 4684 2906 \r\nL 4684 2381 \r\nL 678 2381 \r\nL 678 2906 \r\nz\r\nM 678 1631 \r\nL 4684 1631 \r\nL 4684 1100 \r\nL 678 1100 \r\nL 678 1631 \r\nz\r\n\" id=\"DejaVuSans-3d\" transform=\"scale(0.015625)\"/>\r\n     </defs>\r\n     <use xlink:href=\"#DejaVuSans-4c\"/>\r\n     <use x=\"53.962891\" xlink:href=\"#DejaVuSans-65\"/>\r\n     <use x=\"115.486328\" xlink:href=\"#DejaVuSans-61\"/>\r\n     <use x=\"176.765625\" xlink:href=\"#DejaVuSans-72\"/>\r\n     <use x=\"216.128906\" xlink:href=\"#DejaVuSans-6e\"/>\r\n     <use x=\"279.507812\" xlink:href=\"#DejaVuSans-69\"/>\r\n     <use x=\"307.291016\" xlink:href=\"#DejaVuSans-6e\"/>\r\n     <use x=\"370.669922\" xlink:href=\"#DejaVuSans-67\"/>\r\n     <use x=\"434.146484\" xlink:href=\"#DejaVuSans-20\"/>\r\n     <use x=\"465.933594\" xlink:href=\"#DejaVuSans-72\"/>\r\n     <use x=\"507.046875\" xlink:href=\"#DejaVuSans-61\"/>\r\n     <use x=\"568.326172\" xlink:href=\"#DejaVuSans-74\"/>\r\n     <use x=\"607.535156\" xlink:href=\"#DejaVuSans-65\"/>\r\n     <use x=\"669.058594\" xlink:href=\"#DejaVuSans-20\"/>\r\n     <use x=\"700.845703\" xlink:href=\"#DejaVuSans-3d\"/>\r\n     <use x=\"784.634766\" xlink:href=\"#DejaVuSans-30\"/>\r\n     <use x=\"848.257812\" xlink:href=\"#DejaVuSans-2e\"/>\r\n     <use x=\"880.044922\" xlink:href=\"#DejaVuSans-30\"/>\r\n     <use x=\"943.667969\" xlink:href=\"#DejaVuSans-30\"/>\r\n     <use x=\"1007.291016\" xlink:href=\"#DejaVuSans-35\"/>\r\n    </g>\r\n   </g>\r\n  </g>\r\n </g>\r\n <defs>\r\n  <clipPath id=\"pff5ee2541c\">\r\n   <rect height=\"217.44\" width=\"334.8\" x=\"43.78125\" y=\"22.318125\"/>\r\n  </clipPath>\r\n </defs>\r\n</svg>\r\n",
      "image/png": "[encoded data removed]"
     },
     "metadata": {
      "needs_background": "light"
     }
    }
   ],
   "source": [
    "# Plot learning curve (with costs)\n",
    "costs = np.squeeze(d['costs'])\n",
    "plt.plot(costs)\n",
    "plt.ylabel('cost')\n",
    "plt.xlabel('iterations (per hundreds)')\n",
    "plt.title(\"Learning rate =\" + str(d[\"learning_rate\"]))\n",
    "plt.show()"
   ]
  },
  {
   "cell_type": "markdown",
   "metadata": {},
   "source": [
    "**Interpretation**:\n",
    "You can see the cost decreasing. It shows that the parameters are being learned. However, you see that you could train the model even more on the training set. Try to increase the number of iterations in the cell above and rerun the cells. You might see that the training set accuracy goes up, but the test set accuracy goes down. This is called overfitting. "
   ]
  },
  {
   "cell_type": "markdown",
   "metadata": {},
   "source": [
    "## 6 - Further analysis (optional/ungraded exercise) ##\n",
    "\n",
    "Congratulations on building your first image classification model. Let's analyze it further, and examine possible choices for the learning rate $\\alpha$. "
   ]
  },
  {
   "cell_type": "markdown",
   "metadata": {},
   "source": [
    "#### Choice of learning rate ####\n",
    "\n",
    "**Reminder**:\n",
    "In order for Gradient Descent to work you must choose the learning rate wisely. The learning rate $\\alpha$  determines how rapidly we update the parameters. If the learning rate is too large we may \"overshoot\" the optimal value. Similarly, if it is too small we will need too many iterations to converge to the best values. That's why it is crucial to use a well-tuned learning rate.\n",
    "\n",
    "Let's compare the learning curve of our model with several choices of learning rates. Run the cell below. This should take about 1 minute. Feel free also to try different values than the three we have initialized the `learning_rates` variable to contain, and see what happens. "
   ]
  },
  {
   "cell_type": "code",
   "execution_count": 40,
   "metadata": {
    "collapsed": true
   },
   "outputs": [
    {
     "output_type": "stream",
     "name": "stdout",
     "text": [
      "learning rate is: 0.01\n",
      "train accuracy: 99.52153110047847 %\n",
      "test accuracy: 68.0 %\n",
      "\n",
      "-------------------------------------------------------\n",
      "\n",
      "learning rate is: 0.001\n",
      "train accuracy: 88.99521531100478 %\n",
      "test accuracy: 64.0 %\n",
      "\n",
      "-------------------------------------------------------\n",
      "\n",
      "learning rate is: 0.0001\n",
      "train accuracy: 68.42105263157895 %\n",
      "test accuracy: 36.0 %\n",
      "\n",
      "-------------------------------------------------------\n",
      "\n"
     ]
    },
    {
     "output_type": "display_data",
     "data": {
      "text/plain": "<Figure size 432x288 with 1 Axes>",
      "image/svg+xml": "<?xml version=\"1.0\" encoding=\"utf-8\" standalone=\"no\"?>\r\n<!DOCTYPE svg PUBLIC \"-//W3C//DTD SVG 1.1//EN\"\r\n  \"http://www.w3.org/Graphics/SVG/1.1/DTD/svg11.dtd\">\r\n<svg height=\"262.19625pt\" version=\"1.1\" viewBox=\"0 0 385.78125 262.19625\" width=\"385.78125pt\" xmlns=\"http://www.w3.org/2000/svg\" xmlns:xlink=\"http://www.w3.org/1999/xlink\">\r\n <metadata>\r\n  <rdf:RDF xmlns:cc=\"http://creativecommons.org/ns#\" xmlns:dc=\"http://purl.org/dc/elements/1.1/\" xmlns:rdf=\"http://www.w3.org/1999/02/22-rdf-syntax-ns#\">\r\n   <cc:Work>\r\n    <dc:type rdf:resource=\"http://purl.org/dc/dcmitype/StillImage\"/>\r\n    <dc:date>2021-07-03T22:27:13.729643</dc:date>\r\n    <dc:format>image/svg+xml</dc:format>\r\n    <dc:creator>\r\n     <cc:Agent>\r\n      <dc:title>Matplotlib v3.4.2, https://matplotlib.org/</dc:title>\r\n     </cc:Agent>\r\n    </dc:creator>\r\n   </cc:Work>\r\n  </rdf:RDF>\r\n </metadata>\r\n <defs>\r\n  <style type=\"text/css\">*{stroke-linecap:butt;stroke-linejoin:round;}</style>\r\n </defs>\r\n <g id=\"figure_1\">\r\n  <g id=\"patch_1\">\r\n   <path d=\"M 0 262.19625 \r\nL 385.78125 262.19625 \r\nL 385.78125 0 \r\nL 0 0 \r\nz\r\n\" style=\"fill:none;\"/>\r\n  </g>\r\n  <g id=\"axes_1\">\r\n   <g id=\"patch_2\">\r\n    <path d=\"M 43.78125 224.64 \r\nL 378.58125 224.64 \r\nL 378.58125 7.2 \r\nL 43.78125 7.2 \r\nz\r\n\" style=\"fill:#ffffff;\"/>\r\n   </g>\r\n   <g id=\"matplotlib.axis_1\">\r\n    <g id=\"xtick_1\">\r\n     <g id=\"line2d_1\">\r\n      <defs>\r\n       <path d=\"M 0 0 \r\nL 0 3.5 \r\n\" id=\"ma1eef3426a\" style=\"stroke:#000000;stroke-width:0.8;\"/>\r\n      </defs>\r\n      <g>\r\n       <use style=\"stroke:#000000;stroke-width:0.8;\" x=\"58.999432\" xlink:href=\"#ma1eef3426a\" y=\"224.64\"/>\r\n      </g>\r\n     </g>\r\n     <g id=\"text_1\">\r\n      <!-- 0 -->\r\n      <g transform=\"translate(55.818182 239.238437)scale(0.1 -0.1)\">\r\n       <defs>\r\n        <path d=\"M 2034 4250 \r\nQ 1547 4250 1301 3770 \r\nQ 1056 3291 1056 2328 \r\nQ 1056 1369 1301 889 \r\nQ 1547 409 2034 409 \r\nQ 2525 409 2770 889 \r\nQ 3016 1369 3016 2328 \r\nQ 3016 3291 2770 3770 \r\nQ 2525 4250 2034 4250 \r\nz\r\nM 2034 4750 \r\nQ 2819 4750 3233 4129 \r\nQ 3647 3509 3647 2328 \r\nQ 3647 1150 3233 529 \r\nQ 2819 -91 2034 -91 \r\nQ 1250 -91 836 529 \r\nQ 422 1150 422 2328 \r\nQ 422 3509 836 4129 \r\nQ 1250 4750 2034 4750 \r\nz\r\n\" id=\"DejaVuSans-30\" transform=\"scale(0.015625)\"/>\r\n       </defs>\r\n       <use xlink:href=\"#DejaVuSans-30\"/>\r\n      </g>\r\n     </g>\r\n    </g>\r\n    <g id=\"xtick_2\">\r\n     <g id=\"line2d_2\">\r\n      <g>\r\n       <use style=\"stroke:#000000;stroke-width:0.8;\" x=\"102.479951\" xlink:href=\"#ma1eef3426a\" y=\"224.64\"/>\r\n      </g>\r\n     </g>\r\n     <g id=\"text_2\">\r\n      <!-- 2 -->\r\n      <g transform=\"translate(99.298701 239.238437)scale(0.1 -0.1)\">\r\n       <defs>\r\n        <path d=\"M 1228 531 \r\nL 3431 531 \r\nL 3431 0 \r\nL 469 0 \r\nL 469 531 \r\nQ 828 903 1448 1529 \r\nQ 2069 2156 2228 2338 \r\nQ 2531 2678 2651 2914 \r\nQ 2772 3150 2772 3378 \r\nQ 2772 3750 2511 3984 \r\nQ 2250 4219 1831 4219 \r\nQ 1534 4219 1204 4116 \r\nQ 875 4013 500 3803 \r\nL 500 4441 \r\nQ 881 4594 1212 4672 \r\nQ 1544 4750 1819 4750 \r\nQ 2544 4750 2975 4387 \r\nQ 3406 4025 3406 3419 \r\nQ 3406 3131 3298 2873 \r\nQ 3191 2616 2906 2266 \r\nQ 2828 2175 2409 1742 \r\nQ 1991 1309 1228 531 \r\nz\r\n\" id=\"DejaVuSans-32\" transform=\"scale(0.015625)\"/>\r\n       </defs>\r\n       <use xlink:href=\"#DejaVuSans-32\"/>\r\n      </g>\r\n     </g>\r\n    </g>\r\n    <g id=\"xtick_3\">\r\n     <g id=\"line2d_3\">\r\n      <g>\r\n       <use style=\"stroke:#000000;stroke-width:0.8;\" x=\"145.960471\" xlink:href=\"#ma1eef3426a\" y=\"224.64\"/>\r\n      </g>\r\n     </g>\r\n     <g id=\"text_3\">\r\n      <!-- 4 -->\r\n      <g transform=\"translate(142.779221 239.238437)scale(0.1 -0.1)\">\r\n       <defs>\r\n        <path d=\"M 2419 4116 \r\nL 825 1625 \r\nL 2419 1625 \r\nL 2419 4116 \r\nz\r\nM 2253 4666 \r\nL 3047 4666 \r\nL 3047 1625 \r\nL 3713 1625 \r\nL 3713 1100 \r\nL 3047 1100 \r\nL 3047 0 \r\nL 2419 0 \r\nL 2419 1100 \r\nL 313 1100 \r\nL 313 1709 \r\nL 2253 4666 \r\nz\r\n\" id=\"DejaVuSans-34\" transform=\"scale(0.015625)\"/>\r\n       </defs>\r\n       <use xlink:href=\"#DejaVuSans-34\"/>\r\n      </g>\r\n     </g>\r\n    </g>\r\n    <g id=\"xtick_4\">\r\n     <g id=\"line2d_4\">\r\n      <g>\r\n       <use style=\"stroke:#000000;stroke-width:0.8;\" x=\"189.44099\" xlink:href=\"#ma1eef3426a\" y=\"224.64\"/>\r\n      </g>\r\n     </g>\r\n     <g id=\"text_4\">\r\n      <!-- 6 -->\r\n      <g transform=\"translate(186.25974 239.238437)scale(0.1 -0.1)\">\r\n       <defs>\r\n        <path d=\"M 2113 2584 \r\nQ 1688 2584 1439 2293 \r\nQ 1191 2003 1191 1497 \r\nQ 1191 994 1439 701 \r\nQ 1688 409 2113 409 \r\nQ 2538 409 2786 701 \r\nQ 3034 994 3034 1497 \r\nQ 3034 2003 2786 2293 \r\nQ 2538 2584 2113 2584 \r\nz\r\nM 3366 4563 \r\nL 3366 3988 \r\nQ 3128 4100 2886 4159 \r\nQ 2644 4219 2406 4219 \r\nQ 1781 4219 1451 3797 \r\nQ 1122 3375 1075 2522 \r\nQ 1259 2794 1537 2939 \r\nQ 1816 3084 2150 3084 \r\nQ 2853 3084 3261 2657 \r\nQ 3669 2231 3669 1497 \r\nQ 3669 778 3244 343 \r\nQ 2819 -91 2113 -91 \r\nQ 1303 -91 875 529 \r\nQ 447 1150 447 2328 \r\nQ 447 3434 972 4092 \r\nQ 1497 4750 2381 4750 \r\nQ 2619 4750 2861 4703 \r\nQ 3103 4656 3366 4563 \r\nz\r\n\" id=\"DejaVuSans-36\" transform=\"scale(0.015625)\"/>\r\n       </defs>\r\n       <use xlink:href=\"#DejaVuSans-36\"/>\r\n      </g>\r\n     </g>\r\n    </g>\r\n    <g id=\"xtick_5\">\r\n     <g id=\"line2d_5\">\r\n      <g>\r\n       <use style=\"stroke:#000000;stroke-width:0.8;\" x=\"232.92151\" xlink:href=\"#ma1eef3426a\" y=\"224.64\"/>\r\n      </g>\r\n     </g>\r\n     <g id=\"text_5\">\r\n      <!-- 8 -->\r\n      <g transform=\"translate(229.74026 239.238437)scale(0.1 -0.1)\">\r\n       <defs>\r\n        <path d=\"M 2034 2216 \r\nQ 1584 2216 1326 1975 \r\nQ 1069 1734 1069 1313 \r\nQ 1069 891 1326 650 \r\nQ 1584 409 2034 409 \r\nQ 2484 409 2743 651 \r\nQ 3003 894 3003 1313 \r\nQ 3003 1734 2745 1975 \r\nQ 2488 2216 2034 2216 \r\nz\r\nM 1403 2484 \r\nQ 997 2584 770 2862 \r\nQ 544 3141 544 3541 \r\nQ 544 4100 942 4425 \r\nQ 1341 4750 2034 4750 \r\nQ 2731 4750 3128 4425 \r\nQ 3525 4100 3525 3541 \r\nQ 3525 3141 3298 2862 \r\nQ 3072 2584 2669 2484 \r\nQ 3125 2378 3379 2068 \r\nQ 3634 1759 3634 1313 \r\nQ 3634 634 3220 271 \r\nQ 2806 -91 2034 -91 \r\nQ 1263 -91 848 271 \r\nQ 434 634 434 1313 \r\nQ 434 1759 690 2068 \r\nQ 947 2378 1403 2484 \r\nz\r\nM 1172 3481 \r\nQ 1172 3119 1398 2916 \r\nQ 1625 2713 2034 2713 \r\nQ 2441 2713 2670 2916 \r\nQ 2900 3119 2900 3481 \r\nQ 2900 3844 2670 4047 \r\nQ 2441 4250 2034 4250 \r\nQ 1625 4250 1398 4047 \r\nQ 1172 3844 1172 3481 \r\nz\r\n\" id=\"DejaVuSans-38\" transform=\"scale(0.015625)\"/>\r\n       </defs>\r\n       <use xlink:href=\"#DejaVuSans-38\"/>\r\n      </g>\r\n     </g>\r\n    </g>\r\n    <g id=\"xtick_6\">\r\n     <g id=\"line2d_6\">\r\n      <g>\r\n       <use style=\"stroke:#000000;stroke-width:0.8;\" x=\"276.402029\" xlink:href=\"#ma1eef3426a\" y=\"224.64\"/>\r\n      </g>\r\n     </g>\r\n     <g id=\"text_6\">\r\n      <!-- 10 -->\r\n      <g transform=\"translate(270.039529 239.238437)scale(0.1 -0.1)\">\r\n       <defs>\r\n        <path d=\"M 794 531 \r\nL 1825 531 \r\nL 1825 4091 \r\nL 703 3866 \r\nL 703 4441 \r\nL 1819 4666 \r\nL 2450 4666 \r\nL 2450 531 \r\nL 3481 531 \r\nL 3481 0 \r\nL 794 0 \r\nL 794 531 \r\nz\r\n\" id=\"DejaVuSans-31\" transform=\"scale(0.015625)\"/>\r\n       </defs>\r\n       <use xlink:href=\"#DejaVuSans-31\"/>\r\n       <use x=\"63.623047\" xlink:href=\"#DejaVuSans-30\"/>\r\n      </g>\r\n     </g>\r\n    </g>\r\n    <g id=\"xtick_7\">\r\n     <g id=\"line2d_7\">\r\n      <g>\r\n       <use style=\"stroke:#000000;stroke-width:0.8;\" x=\"319.882549\" xlink:href=\"#ma1eef3426a\" y=\"224.64\"/>\r\n      </g>\r\n     </g>\r\n     <g id=\"text_7\">\r\n      <!-- 12 -->\r\n      <g transform=\"translate(313.520049 239.238437)scale(0.1 -0.1)\">\r\n       <use xlink:href=\"#DejaVuSans-31\"/>\r\n       <use x=\"63.623047\" xlink:href=\"#DejaVuSans-32\"/>\r\n      </g>\r\n     </g>\r\n    </g>\r\n    <g id=\"xtick_8\">\r\n     <g id=\"line2d_8\">\r\n      <g>\r\n       <use style=\"stroke:#000000;stroke-width:0.8;\" x=\"363.363068\" xlink:href=\"#ma1eef3426a\" y=\"224.64\"/>\r\n      </g>\r\n     </g>\r\n     <g id=\"text_8\">\r\n      <!-- 14 -->\r\n      <g transform=\"translate(357.000568 239.238437)scale(0.1 -0.1)\">\r\n       <use xlink:href=\"#DejaVuSans-31\"/>\r\n       <use x=\"63.623047\" xlink:href=\"#DejaVuSans-34\"/>\r\n      </g>\r\n     </g>\r\n    </g>\r\n    <g id=\"text_9\">\r\n     <!-- iterations (hundreds) -->\r\n     <g transform=\"translate(158.484375 252.916562)scale(0.1 -0.1)\">\r\n      <defs>\r\n       <path d=\"M 603 3500 \r\nL 1178 3500 \r\nL 1178 0 \r\nL 603 0 \r\nL 603 3500 \r\nz\r\nM 603 4863 \r\nL 1178 4863 \r\nL 1178 4134 \r\nL 603 4134 \r\nL 603 4863 \r\nz\r\n\" id=\"DejaVuSans-69\" transform=\"scale(0.015625)\"/>\r\n       <path d=\"M 1172 4494 \r\nL 1172 3500 \r\nL 2356 3500 \r\nL 2356 3053 \r\nL 1172 3053 \r\nL 1172 1153 \r\nQ 1172 725 1289 603 \r\nQ 1406 481 1766 481 \r\nL 2356 481 \r\nL 2356 0 \r\nL 1766 0 \r\nQ 1100 0 847 248 \r\nQ 594 497 594 1153 \r\nL 594 3053 \r\nL 172 3053 \r\nL 172 3500 \r\nL 594 3500 \r\nL 594 4494 \r\nL 1172 4494 \r\nz\r\n\" id=\"DejaVuSans-74\" transform=\"scale(0.015625)\"/>\r\n       <path d=\"M 3597 1894 \r\nL 3597 1613 \r\nL 953 1613 \r\nQ 991 1019 1311 708 \r\nQ 1631 397 2203 397 \r\nQ 2534 397 2845 478 \r\nQ 3156 559 3463 722 \r\nL 3463 178 \r\nQ 3153 47 2828 -22 \r\nQ 2503 -91 2169 -91 \r\nQ 1331 -91 842 396 \r\nQ 353 884 353 1716 \r\nQ 353 2575 817 3079 \r\nQ 1281 3584 2069 3584 \r\nQ 2775 3584 3186 3129 \r\nQ 3597 2675 3597 1894 \r\nz\r\nM 3022 2063 \r\nQ 3016 2534 2758 2815 \r\nQ 2500 3097 2075 3097 \r\nQ 1594 3097 1305 2825 \r\nQ 1016 2553 972 2059 \r\nL 3022 2063 \r\nz\r\n\" id=\"DejaVuSans-65\" transform=\"scale(0.015625)\"/>\r\n       <path d=\"M 2631 2963 \r\nQ 2534 3019 2420 3045 \r\nQ 2306 3072 2169 3072 \r\nQ 1681 3072 1420 2755 \r\nQ 1159 2438 1159 1844 \r\nL 1159 0 \r\nL 581 0 \r\nL 581 3500 \r\nL 1159 3500 \r\nL 1159 2956 \r\nQ 1341 3275 1631 3429 \r\nQ 1922 3584 2338 3584 \r\nQ 2397 3584 2469 3576 \r\nQ 2541 3569 2628 3553 \r\nL 2631 2963 \r\nz\r\n\" id=\"DejaVuSans-72\" transform=\"scale(0.015625)\"/>\r\n       <path d=\"M 2194 1759 \r\nQ 1497 1759 1228 1600 \r\nQ 959 1441 959 1056 \r\nQ 959 750 1161 570 \r\nQ 1363 391 1709 391 \r\nQ 2188 391 2477 730 \r\nQ 2766 1069 2766 1631 \r\nL 2766 1759 \r\nL 2194 1759 \r\nz\r\nM 3341 1997 \r\nL 3341 0 \r\nL 2766 0 \r\nL 2766 531 \r\nQ 2569 213 2275 61 \r\nQ 1981 -91 1556 -91 \r\nQ 1019 -91 701 211 \r\nQ 384 513 384 1019 \r\nQ 384 1609 779 1909 \r\nQ 1175 2209 1959 2209 \r\nL 2766 2209 \r\nL 2766 2266 \r\nQ 2766 2663 2505 2880 \r\nQ 2244 3097 1772 3097 \r\nQ 1472 3097 1187 3025 \r\nQ 903 2953 641 2809 \r\nL 641 3341 \r\nQ 956 3463 1253 3523 \r\nQ 1550 3584 1831 3584 \r\nQ 2591 3584 2966 3190 \r\nQ 3341 2797 3341 1997 \r\nz\r\n\" id=\"DejaVuSans-61\" transform=\"scale(0.015625)\"/>\r\n       <path d=\"M 1959 3097 \r\nQ 1497 3097 1228 2736 \r\nQ 959 2375 959 1747 \r\nQ 959 1119 1226 758 \r\nQ 1494 397 1959 397 \r\nQ 2419 397 2687 759 \r\nQ 2956 1122 2956 1747 \r\nQ 2956 2369 2687 2733 \r\nQ 2419 3097 1959 3097 \r\nz\r\nM 1959 3584 \r\nQ 2709 3584 3137 3096 \r\nQ 3566 2609 3566 1747 \r\nQ 3566 888 3137 398 \r\nQ 2709 -91 1959 -91 \r\nQ 1206 -91 779 398 \r\nQ 353 888 353 1747 \r\nQ 353 2609 779 3096 \r\nQ 1206 3584 1959 3584 \r\nz\r\n\" id=\"DejaVuSans-6f\" transform=\"scale(0.015625)\"/>\r\n       <path d=\"M 3513 2113 \r\nL 3513 0 \r\nL 2938 0 \r\nL 2938 2094 \r\nQ 2938 2591 2744 2837 \r\nQ 2550 3084 2163 3084 \r\nQ 1697 3084 1428 2787 \r\nQ 1159 2491 1159 1978 \r\nL 1159 0 \r\nL 581 0 \r\nL 581 3500 \r\nL 1159 3500 \r\nL 1159 2956 \r\nQ 1366 3272 1645 3428 \r\nQ 1925 3584 2291 3584 \r\nQ 2894 3584 3203 3211 \r\nQ 3513 2838 3513 2113 \r\nz\r\n\" id=\"DejaVuSans-6e\" transform=\"scale(0.015625)\"/>\r\n       <path d=\"M 2834 3397 \r\nL 2834 2853 \r\nQ 2591 2978 2328 3040 \r\nQ 2066 3103 1784 3103 \r\nQ 1356 3103 1142 2972 \r\nQ 928 2841 928 2578 \r\nQ 928 2378 1081 2264 \r\nQ 1234 2150 1697 2047 \r\nL 1894 2003 \r\nQ 2506 1872 2764 1633 \r\nQ 3022 1394 3022 966 \r\nQ 3022 478 2636 193 \r\nQ 2250 -91 1575 -91 \r\nQ 1294 -91 989 -36 \r\nQ 684 19 347 128 \r\nL 347 722 \r\nQ 666 556 975 473 \r\nQ 1284 391 1588 391 \r\nQ 1994 391 2212 530 \r\nQ 2431 669 2431 922 \r\nQ 2431 1156 2273 1281 \r\nQ 2116 1406 1581 1522 \r\nL 1381 1569 \r\nQ 847 1681 609 1914 \r\nQ 372 2147 372 2553 \r\nQ 372 3047 722 3315 \r\nQ 1072 3584 1716 3584 \r\nQ 2034 3584 2315 3537 \r\nQ 2597 3491 2834 3397 \r\nz\r\n\" id=\"DejaVuSans-73\" transform=\"scale(0.015625)\"/>\r\n       <path id=\"DejaVuSans-20\" transform=\"scale(0.015625)\"/>\r\n       <path d=\"M 1984 4856 \r\nQ 1566 4138 1362 3434 \r\nQ 1159 2731 1159 2009 \r\nQ 1159 1288 1364 580 \r\nQ 1569 -128 1984 -844 \r\nL 1484 -844 \r\nQ 1016 -109 783 600 \r\nQ 550 1309 550 2009 \r\nQ 550 2706 781 3412 \r\nQ 1013 4119 1484 4856 \r\nL 1984 4856 \r\nz\r\n\" id=\"DejaVuSans-28\" transform=\"scale(0.015625)\"/>\r\n       <path d=\"M 3513 2113 \r\nL 3513 0 \r\nL 2938 0 \r\nL 2938 2094 \r\nQ 2938 2591 2744 2837 \r\nQ 2550 3084 2163 3084 \r\nQ 1697 3084 1428 2787 \r\nQ 1159 2491 1159 1978 \r\nL 1159 0 \r\nL 581 0 \r\nL 581 4863 \r\nL 1159 4863 \r\nL 1159 2956 \r\nQ 1366 3272 1645 3428 \r\nQ 1925 3584 2291 3584 \r\nQ 2894 3584 3203 3211 \r\nQ 3513 2838 3513 2113 \r\nz\r\n\" id=\"DejaVuSans-68\" transform=\"scale(0.015625)\"/>\r\n       <path d=\"M 544 1381 \r\nL 544 3500 \r\nL 1119 3500 \r\nL 1119 1403 \r\nQ 1119 906 1312 657 \r\nQ 1506 409 1894 409 \r\nQ 2359 409 2629 706 \r\nQ 2900 1003 2900 1516 \r\nL 2900 3500 \r\nL 3475 3500 \r\nL 3475 0 \r\nL 2900 0 \r\nL 2900 538 \r\nQ 2691 219 2414 64 \r\nQ 2138 -91 1772 -91 \r\nQ 1169 -91 856 284 \r\nQ 544 659 544 1381 \r\nz\r\nM 1991 3584 \r\nL 1991 3584 \r\nz\r\n\" id=\"DejaVuSans-75\" transform=\"scale(0.015625)\"/>\r\n       <path d=\"M 2906 2969 \r\nL 2906 4863 \r\nL 3481 4863 \r\nL 3481 0 \r\nL 2906 0 \r\nL 2906 525 \r\nQ 2725 213 2448 61 \r\nQ 2172 -91 1784 -91 \r\nQ 1150 -91 751 415 \r\nQ 353 922 353 1747 \r\nQ 353 2572 751 3078 \r\nQ 1150 3584 1784 3584 \r\nQ 2172 3584 2448 3432 \r\nQ 2725 3281 2906 2969 \r\nz\r\nM 947 1747 \r\nQ 947 1113 1208 752 \r\nQ 1469 391 1925 391 \r\nQ 2381 391 2643 752 \r\nQ 2906 1113 2906 1747 \r\nQ 2906 2381 2643 2742 \r\nQ 2381 3103 1925 3103 \r\nQ 1469 3103 1208 2742 \r\nQ 947 2381 947 1747 \r\nz\r\n\" id=\"DejaVuSans-64\" transform=\"scale(0.015625)\"/>\r\n       <path d=\"M 513 4856 \r\nL 1013 4856 \r\nQ 1481 4119 1714 3412 \r\nQ 1947 2706 1947 2009 \r\nQ 1947 1309 1714 600 \r\nQ 1481 -109 1013 -844 \r\nL 513 -844 \r\nQ 928 -128 1133 580 \r\nQ 1338 1288 1338 2009 \r\nQ 1338 2731 1133 3434 \r\nQ 928 4138 513 4856 \r\nz\r\n\" id=\"DejaVuSans-29\" transform=\"scale(0.015625)\"/>\r\n      </defs>\r\n      <use xlink:href=\"#DejaVuSans-69\"/>\r\n      <use x=\"27.783203\" xlink:href=\"#DejaVuSans-74\"/>\r\n      <use x=\"66.992188\" xlink:href=\"#DejaVuSans-65\"/>\r\n      <use x=\"128.515625\" xlink:href=\"#DejaVuSans-72\"/>\r\n      <use x=\"169.628906\" xlink:href=\"#DejaVuSans-61\"/>\r\n      <use x=\"230.908203\" xlink:href=\"#DejaVuSans-74\"/>\r\n      <use x=\"270.117188\" xlink:href=\"#DejaVuSans-69\"/>\r\n      <use x=\"297.900391\" xlink:href=\"#DejaVuSans-6f\"/>\r\n      <use x=\"359.082031\" xlink:href=\"#DejaVuSans-6e\"/>\r\n      <use x=\"422.460938\" xlink:href=\"#DejaVuSans-73\"/>\r\n      <use x=\"474.560547\" xlink:href=\"#DejaVuSans-20\"/>\r\n      <use x=\"506.347656\" xlink:href=\"#DejaVuSans-28\"/>\r\n      <use x=\"545.361328\" xlink:href=\"#DejaVuSans-68\"/>\r\n      <use x=\"608.740234\" xlink:href=\"#DejaVuSans-75\"/>\r\n      <use x=\"672.119141\" xlink:href=\"#DejaVuSans-6e\"/>\r\n      <use x=\"735.498047\" xlink:href=\"#DejaVuSans-64\"/>\r\n      <use x=\"798.974609\" xlink:href=\"#DejaVuSans-72\"/>\r\n      <use x=\"837.837891\" xlink:href=\"#DejaVuSans-65\"/>\r\n      <use x=\"899.361328\" xlink:href=\"#DejaVuSans-64\"/>\r\n      <use x=\"962.837891\" xlink:href=\"#DejaVuSans-73\"/>\r\n      <use x=\"1014.9375\" xlink:href=\"#DejaVuSans-29\"/>\r\n     </g>\r\n    </g>\r\n   </g>\r\n   <g id=\"matplotlib.axis_2\">\r\n    <g id=\"ytick_1\">\r\n     <g id=\"line2d_9\">\r\n      <defs>\r\n       <path d=\"M 0 0 \r\nL -3.5 0 \r\n\" id=\"md4948b5a36\" style=\"stroke:#000000;stroke-width:0.8;\"/>\r\n      </defs>\r\n      <g>\r\n       <use style=\"stroke:#000000;stroke-width:0.8;\" x=\"43.78125\" xlink:href=\"#md4948b5a36\" y=\"212.607331\"/>\r\n      </g>\r\n     </g>\r\n     <g id=\"text_10\">\r\n      <!-- 0.1 -->\r\n      <g transform=\"translate(20.878125 216.40655)scale(0.1 -0.1)\">\r\n       <defs>\r\n        <path d=\"M 684 794 \r\nL 1344 794 \r\nL 1344 0 \r\nL 684 0 \r\nL 684 794 \r\nz\r\n\" id=\"DejaVuSans-2e\" transform=\"scale(0.015625)\"/>\r\n       </defs>\r\n       <use xlink:href=\"#DejaVuSans-30\"/>\r\n       <use x=\"63.623047\" xlink:href=\"#DejaVuSans-2e\"/>\r\n       <use x=\"95.410156\" xlink:href=\"#DejaVuSans-31\"/>\r\n      </g>\r\n     </g>\r\n    </g>\r\n    <g id=\"ytick_2\">\r\n     <g id=\"line2d_10\">\r\n      <g>\r\n       <use style=\"stroke:#000000;stroke-width:0.8;\" x=\"43.78125\" xlink:href=\"#md4948b5a36\" y=\"185.598344\"/>\r\n      </g>\r\n     </g>\r\n     <g id=\"text_11\">\r\n      <!-- 0.2 -->\r\n      <g transform=\"translate(20.878125 189.397563)scale(0.1 -0.1)\">\r\n       <use xlink:href=\"#DejaVuSans-30\"/>\r\n       <use x=\"63.623047\" xlink:href=\"#DejaVuSans-2e\"/>\r\n       <use x=\"95.410156\" xlink:href=\"#DejaVuSans-32\"/>\r\n      </g>\r\n     </g>\r\n    </g>\r\n    <g id=\"ytick_3\">\r\n     <g id=\"line2d_11\">\r\n      <g>\r\n       <use style=\"stroke:#000000;stroke-width:0.8;\" x=\"43.78125\" xlink:href=\"#md4948b5a36\" y=\"158.589357\"/>\r\n      </g>\r\n     </g>\r\n     <g id=\"text_12\">\r\n      <!-- 0.3 -->\r\n      <g transform=\"translate(20.878125 162.388576)scale(0.1 -0.1)\">\r\n       <defs>\r\n        <path d=\"M 2597 2516 \r\nQ 3050 2419 3304 2112 \r\nQ 3559 1806 3559 1356 \r\nQ 3559 666 3084 287 \r\nQ 2609 -91 1734 -91 \r\nQ 1441 -91 1130 -33 \r\nQ 819 25 488 141 \r\nL 488 750 \r\nQ 750 597 1062 519 \r\nQ 1375 441 1716 441 \r\nQ 2309 441 2620 675 \r\nQ 2931 909 2931 1356 \r\nQ 2931 1769 2642 2001 \r\nQ 2353 2234 1838 2234 \r\nL 1294 2234 \r\nL 1294 2753 \r\nL 1863 2753 \r\nQ 2328 2753 2575 2939 \r\nQ 2822 3125 2822 3475 \r\nQ 2822 3834 2567 4026 \r\nQ 2313 4219 1838 4219 \r\nQ 1578 4219 1281 4162 \r\nQ 984 4106 628 3988 \r\nL 628 4550 \r\nQ 988 4650 1302 4700 \r\nQ 1616 4750 1894 4750 \r\nQ 2613 4750 3031 4423 \r\nQ 3450 4097 3450 3541 \r\nQ 3450 3153 3228 2886 \r\nQ 3006 2619 2597 2516 \r\nz\r\n\" id=\"DejaVuSans-33\" transform=\"scale(0.015625)\"/>\r\n       </defs>\r\n       <use xlink:href=\"#DejaVuSans-30\"/>\r\n       <use x=\"63.623047\" xlink:href=\"#DejaVuSans-2e\"/>\r\n       <use x=\"95.410156\" xlink:href=\"#DejaVuSans-33\"/>\r\n      </g>\r\n     </g>\r\n    </g>\r\n    <g id=\"ytick_4\">\r\n     <g id=\"line2d_12\">\r\n      <g>\r\n       <use style=\"stroke:#000000;stroke-width:0.8;\" x=\"43.78125\" xlink:href=\"#md4948b5a36\" y=\"131.58037\"/>\r\n      </g>\r\n     </g>\r\n     <g id=\"text_13\">\r\n      <!-- 0.4 -->\r\n      <g transform=\"translate(20.878125 135.379588)scale(0.1 -0.1)\">\r\n       <use xlink:href=\"#DejaVuSans-30\"/>\r\n       <use x=\"63.623047\" xlink:href=\"#DejaVuSans-2e\"/>\r\n       <use x=\"95.410156\" xlink:href=\"#DejaVuSans-34\"/>\r\n      </g>\r\n     </g>\r\n    </g>\r\n    <g id=\"ytick_5\">\r\n     <g id=\"line2d_13\">\r\n      <g>\r\n       <use style=\"stroke:#000000;stroke-width:0.8;\" x=\"43.78125\" xlink:href=\"#md4948b5a36\" y=\"104.571382\"/>\r\n      </g>\r\n     </g>\r\n     <g id=\"text_14\">\r\n      <!-- 0.5 -->\r\n      <g transform=\"translate(20.878125 108.370601)scale(0.1 -0.1)\">\r\n       <defs>\r\n        <path d=\"M 691 4666 \r\nL 3169 4666 \r\nL 3169 4134 \r\nL 1269 4134 \r\nL 1269 2991 \r\nQ 1406 3038 1543 3061 \r\nQ 1681 3084 1819 3084 \r\nQ 2600 3084 3056 2656 \r\nQ 3513 2228 3513 1497 \r\nQ 3513 744 3044 326 \r\nQ 2575 -91 1722 -91 \r\nQ 1428 -91 1123 -41 \r\nQ 819 9 494 109 \r\nL 494 744 \r\nQ 775 591 1075 516 \r\nQ 1375 441 1709 441 \r\nQ 2250 441 2565 725 \r\nQ 2881 1009 2881 1497 \r\nQ 2881 1984 2565 2268 \r\nQ 2250 2553 1709 2553 \r\nQ 1456 2553 1204 2497 \r\nQ 953 2441 691 2322 \r\nL 691 4666 \r\nz\r\n\" id=\"DejaVuSans-35\" transform=\"scale(0.015625)\"/>\r\n       </defs>\r\n       <use xlink:href=\"#DejaVuSans-30\"/>\r\n       <use x=\"63.623047\" xlink:href=\"#DejaVuSans-2e\"/>\r\n       <use x=\"95.410156\" xlink:href=\"#DejaVuSans-35\"/>\r\n      </g>\r\n     </g>\r\n    </g>\r\n    <g id=\"ytick_6\">\r\n     <g id=\"line2d_14\">\r\n      <g>\r\n       <use style=\"stroke:#000000;stroke-width:0.8;\" x=\"43.78125\" xlink:href=\"#md4948b5a36\" y=\"77.562395\"/>\r\n      </g>\r\n     </g>\r\n     <g id=\"text_15\">\r\n      <!-- 0.6 -->\r\n      <g transform=\"translate(20.878125 81.361614)scale(0.1 -0.1)\">\r\n       <use xlink:href=\"#DejaVuSans-30\"/>\r\n       <use x=\"63.623047\" xlink:href=\"#DejaVuSans-2e\"/>\r\n       <use x=\"95.410156\" xlink:href=\"#DejaVuSans-36\"/>\r\n      </g>\r\n     </g>\r\n    </g>\r\n    <g id=\"ytick_7\">\r\n     <g id=\"line2d_15\">\r\n      <g>\r\n       <use style=\"stroke:#000000;stroke-width:0.8;\" x=\"43.78125\" xlink:href=\"#md4948b5a36\" y=\"50.553408\"/>\r\n      </g>\r\n     </g>\r\n     <g id=\"text_16\">\r\n      <!-- 0.7 -->\r\n      <g transform=\"translate(20.878125 54.352627)scale(0.1 -0.1)\">\r\n       <defs>\r\n        <path d=\"M 525 4666 \r\nL 3525 4666 \r\nL 3525 4397 \r\nL 1831 0 \r\nL 1172 0 \r\nL 2766 4134 \r\nL 525 4134 \r\nL 525 4666 \r\nz\r\n\" id=\"DejaVuSans-37\" transform=\"scale(0.015625)\"/>\r\n       </defs>\r\n       <use xlink:href=\"#DejaVuSans-30\"/>\r\n       <use x=\"63.623047\" xlink:href=\"#DejaVuSans-2e\"/>\r\n       <use x=\"95.410156\" xlink:href=\"#DejaVuSans-37\"/>\r\n      </g>\r\n     </g>\r\n    </g>\r\n    <g id=\"ytick_8\">\r\n     <g id=\"line2d_16\">\r\n      <g>\r\n       <use style=\"stroke:#000000;stroke-width:0.8;\" x=\"43.78125\" xlink:href=\"#md4948b5a36\" y=\"23.544421\"/>\r\n      </g>\r\n     </g>\r\n     <g id=\"text_17\">\r\n      <!-- 0.8 -->\r\n      <g transform=\"translate(20.878125 27.343639)scale(0.1 -0.1)\">\r\n       <use xlink:href=\"#DejaVuSans-30\"/>\r\n       <use x=\"63.623047\" xlink:href=\"#DejaVuSans-2e\"/>\r\n       <use x=\"95.410156\" xlink:href=\"#DejaVuSans-38\"/>\r\n      </g>\r\n     </g>\r\n    </g>\r\n    <g id=\"text_18\">\r\n     <!-- cost -->\r\n     <g transform=\"translate(14.798438 126.293437)rotate(-90)scale(0.1 -0.1)\">\r\n      <defs>\r\n       <path d=\"M 3122 3366 \r\nL 3122 2828 \r\nQ 2878 2963 2633 3030 \r\nQ 2388 3097 2138 3097 \r\nQ 1578 3097 1268 2742 \r\nQ 959 2388 959 1747 \r\nQ 959 1106 1268 751 \r\nQ 1578 397 2138 397 \r\nQ 2388 397 2633 464 \r\nQ 2878 531 3122 666 \r\nL 3122 134 \r\nQ 2881 22 2623 -34 \r\nQ 2366 -91 2075 -91 \r\nQ 1284 -91 818 406 \r\nQ 353 903 353 1747 \r\nQ 353 2603 823 3093 \r\nQ 1294 3584 2113 3584 \r\nQ 2378 3584 2631 3529 \r\nQ 2884 3475 3122 3366 \r\nz\r\n\" id=\"DejaVuSans-63\" transform=\"scale(0.015625)\"/>\r\n      </defs>\r\n      <use xlink:href=\"#DejaVuSans-63\"/>\r\n      <use x=\"54.980469\" xlink:href=\"#DejaVuSans-6f\"/>\r\n      <use x=\"116.162109\" xlink:href=\"#DejaVuSans-73\"/>\r\n      <use x=\"168.261719\" xlink:href=\"#DejaVuSans-74\"/>\r\n     </g>\r\n    </g>\r\n   </g>\r\n   <g id=\"line2d_17\">\r\n    <path clip-path=\"url(#p60e36e9dca)\" d=\"M 58.999432 52.404285 \r\nL 80.739692 17.083636 \r\nL 102.479951 126.463853 \r\nL 124.220211 72.876415 \r\nL 145.960471 98.598138 \r\nL 167.700731 134.900113 \r\nL 189.44099 175.806382 \r\nL 211.18125 197.962482 \r\nL 232.92151 203.065643 \r\nL 254.661769 205.862787 \r\nL 276.402029 208.156701 \r\nL 298.142289 210.124527 \r\nL 319.882549 211.849874 \r\nL 341.622808 213.38254 \r\nL 363.363068 214.756364 \r\n\" style=\"fill:none;stroke:#1f77b4;stroke-linecap:square;stroke-width:1.5;\"/>\r\n   </g>\r\n   <g id=\"line2d_18\">\r\n    <path clip-path=\"url(#p60e36e9dca)\" d=\"M 58.999432 52.404285 \r\nL 80.739692 79.915033 \r\nL 102.479951 89.501418 \r\nL 124.220211 96.74512 \r\nL 145.960471 102.712815 \r\nL 167.700731 107.844908 \r\nL 189.44099 112.374744 \r\nL 211.18125 116.442964 \r\nL 232.92151 120.142002 \r\nL 254.661769 123.53663 \r\nL 276.402029 126.674505 \r\nL 298.142289 129.592035 \r\nL 319.882549 132.317858 \r\nL 341.622808 134.875032 \r\nL 363.363068 137.282472 \r\n\" style=\"fill:none;stroke:#ff7f0e;stroke-linecap:square;stroke-width:1.5;\"/>\r\n   </g>\r\n   <g id=\"line2d_19\">\r\n    <path clip-path=\"url(#p60e36e9dca)\" d=\"M 58.999432 52.404285 \r\nL 80.739692 65.765746 \r\nL 102.479951 67.910144 \r\nL 124.220211 69.845375 \r\nL 145.960471 71.609749 \r\nL 167.700731 73.233022 \r\nL 189.44099 74.738583 \r\nL 211.18125 76.144917 \r\nL 232.92151 77.466731 \r\nL 254.661769 78.715818 \r\nL 276.402029 79.901707 \r\nL 298.142289 81.032165 \r\nL 319.882549 82.113583 \r\nL 341.622808 83.151258 \r\nL 363.363068 84.149629 \r\n\" style=\"fill:none;stroke:#2ca02c;stroke-linecap:square;stroke-width:1.5;\"/>\r\n   </g>\r\n   <g id=\"patch_3\">\r\n    <path d=\"M 43.78125 224.64 \r\nL 43.78125 7.2 \r\n\" style=\"fill:none;stroke:#000000;stroke-linecap:square;stroke-linejoin:miter;stroke-width:0.8;\"/>\r\n   </g>\r\n   <g id=\"patch_4\">\r\n    <path d=\"M 378.58125 224.64 \r\nL 378.58125 7.2 \r\n\" style=\"fill:none;stroke:#000000;stroke-linecap:square;stroke-linejoin:miter;stroke-width:0.8;\"/>\r\n   </g>\r\n   <g id=\"patch_5\">\r\n    <path d=\"M 43.78125 224.64 \r\nL 378.58125 224.64 \r\n\" style=\"fill:none;stroke:#000000;stroke-linecap:square;stroke-linejoin:miter;stroke-width:0.8;\"/>\r\n   </g>\r\n   <g id=\"patch_6\">\r\n    <path d=\"M 43.78125 7.2 \r\nL 378.58125 7.2 \r\n\" style=\"fill:none;stroke:#000000;stroke-linecap:square;stroke-linejoin:miter;stroke-width:0.8;\"/>\r\n   </g>\r\n   <g id=\"legend_1\">\r\n    <g id=\"patch_7\">\r\n     <path d=\"M 179.685938 61.234375 \r\nL 246.676563 61.234375 \r\nQ 248.676563 61.234375 248.676563 59.234375 \r\nL 248.676563 16.2 \r\nQ 248.676563 14.2 246.676563 14.2 \r\nL 179.685938 14.2 \r\nQ 177.685938 14.2 177.685938 16.2 \r\nL 177.685938 59.234375 \r\nQ 177.685938 61.234375 179.685938 61.234375 \r\nz\r\n\" style=\"fill:#454545;opacity:0.5;stroke:#454545;stroke-linejoin:miter;\"/>\r\n    </g>\r\n    <g id=\"patch_8\">\r\n     <path d=\"M 177.685938 59.234375 \r\nL 244.676563 59.234375 \r\nQ 246.676563 59.234375 246.676563 57.234375 \r\nL 246.676563 14.2 \r\nQ 246.676563 12.2 244.676563 12.2 \r\nL 177.685938 12.2 \r\nQ 175.685938 12.2 175.685938 14.2 \r\nL 175.685938 57.234375 \r\nQ 175.685938 59.234375 177.685938 59.234375 \r\nz\r\n\" style=\"fill:#e6e6e6;stroke:#cccccc;stroke-linejoin:miter;\"/>\r\n    </g>\r\n    <g id=\"line2d_20\">\r\n     <path d=\"M 179.685938 20.298437 \r\nL 199.685938 20.298437 \r\n\" style=\"fill:none;stroke:#1f77b4;stroke-linecap:square;stroke-width:1.5;\"/>\r\n    </g>\r\n    <g id=\"line2d_21\"/>\r\n    <g id=\"text_19\">\r\n     <!-- 0.01 -->\r\n     <g transform=\"translate(207.685938 23.798437)scale(0.1 -0.1)\">\r\n      <use xlink:href=\"#DejaVuSans-30\"/>\r\n      <use x=\"63.623047\" xlink:href=\"#DejaVuSans-2e\"/>\r\n      <use x=\"95.410156\" xlink:href=\"#DejaVuSans-30\"/>\r\n      <use x=\"159.033203\" xlink:href=\"#DejaVuSans-31\"/>\r\n     </g>\r\n    </g>\r\n    <g id=\"line2d_22\">\r\n     <path d=\"M 179.685938 34.976562 \r\nL 199.685938 34.976562 \r\n\" style=\"fill:none;stroke:#ff7f0e;stroke-linecap:square;stroke-width:1.5;\"/>\r\n    </g>\r\n    <g id=\"line2d_23\"/>\r\n    <g id=\"text_20\">\r\n     <!-- 0.001 -->\r\n     <g transform=\"translate(207.685938 38.476562)scale(0.1 -0.1)\">\r\n      <use xlink:href=\"#DejaVuSans-30\"/>\r\n      <use x=\"63.623047\" xlink:href=\"#DejaVuSans-2e\"/>\r\n      <use x=\"95.410156\" xlink:href=\"#DejaVuSans-30\"/>\r\n      <use x=\"159.033203\" xlink:href=\"#DejaVuSans-30\"/>\r\n      <use x=\"222.65625\" xlink:href=\"#DejaVuSans-31\"/>\r\n     </g>\r\n    </g>\r\n    <g id=\"line2d_24\">\r\n     <path d=\"M 179.685938 49.654687 \r\nL 199.685938 49.654687 \r\n\" style=\"fill:none;stroke:#2ca02c;stroke-linecap:square;stroke-width:1.5;\"/>\r\n    </g>\r\n    <g id=\"line2d_25\"/>\r\n    <g id=\"text_21\">\r\n     <!-- 0.0001 -->\r\n     <g transform=\"translate(207.685938 53.154687)scale(0.1 -0.1)\">\r\n      <use xlink:href=\"#DejaVuSans-30\"/>\r\n      <use x=\"63.623047\" xlink:href=\"#DejaVuSans-2e\"/>\r\n      <use x=\"95.410156\" xlink:href=\"#DejaVuSans-30\"/>\r\n      <use x=\"159.033203\" xlink:href=\"#DejaVuSans-30\"/>\r\n      <use x=\"222.65625\" xlink:href=\"#DejaVuSans-30\"/>\r\n      <use x=\"286.279297\" xlink:href=\"#DejaVuSans-31\"/>\r\n     </g>\r\n    </g>\r\n   </g>\r\n  </g>\r\n </g>\r\n <defs>\r\n  <clipPath id=\"p60e36e9dca\">\r\n   <rect height=\"217.44\" width=\"334.8\" x=\"43.78125\" y=\"7.2\"/>\r\n  </clipPath>\r\n </defs>\r\n</svg>\r\n",
      "image/png": "[encoded data removed]"
     },
     "metadata": {
      "needs_background": "light"
     }
    }
   ],
   "source": [
    "learning_rates = [0.01, 0.001, 0.0001]\n",
    "models = {}\n",
    "for i in learning_rates:\n",
    "    print (\"learning rate is: \" + str(i))\n",
    "    models[str(i)] = model(train_set_x, train_set_y, test_set_x, test_set_y, num_iterations = 1500, learning_rate = i, print_cost = False)\n",
    "    print ('\\n' + \"-------------------------------------------------------\" + '\\n')\n",
    "\n",
    "for i in learning_rates:\n",
    "    plt.plot(np.squeeze(models[str(i)][\"costs\"]), label= str(models[str(i)][\"learning_rate\"]))\n",
    "\n",
    "plt.ylabel('cost')\n",
    "plt.xlabel('iterations (hundreds)')\n",
    "\n",
    "legend = plt.legend(loc='upper center', shadow=True)\n",
    "frame = legend.get_frame()\n",
    "frame.set_facecolor('0.90')\n",
    "plt.show()"
   ]
  },
  {
   "cell_type": "markdown",
   "metadata": {},
   "source": [
    "**Interpretation**: \n",
    "- Different learning rates give different costs and thus different predictions results.\n",
    "- If the learning rate is too large (0.01), the cost may oscillate up and down. It may even diverge (though in this example, using 0.01 still eventually ends up at a good value for the cost). \n",
    "- A lower cost doesn't mean a better model. You have to check if there is possibly overfitting. It happens when the training accuracy is a lot higher than the test accuracy.\n",
    "- In deep learning, we usually recommend that you: \n",
    "    - Choose the learning rate that better minimizes the cost function.\n",
    "    - If your model overfits, use other techniques to reduce overfitting. (We'll talk about this in later videos.) \n"
   ]
  },
  {
   "cell_type": "markdown",
   "metadata": {},
   "source": [
    "## 7 - Test with your own image (optional/ungraded exercise) ##\n",
    "\n",
    "Congratulations on finishing this assignment. You can use your own image and see the output of your model. To do that:\n",
    "    1. Click on \"File\" in the upper bar of this notebook, then click \"Open\" to go on your Coursera Hub.\n",
    "    2. Add your image to this Jupyter Notebook's directory, in the \"images\" folder\n",
    "    3. Change your image's name in the following code\n",
    "    4. Run the code and check if the algorithm is right (1 = cat, 0 = non-cat)!"
   ]
  },
  {
   "cell_type": "code",
   "execution_count": 41,
   "metadata": {
    "collapsed": true,
    "scrolled": false
   },
   "outputs": [
    {
     "output_type": "error",
     "ename": "AttributeError",
     "evalue": "module 'scipy.ndimage' has no attribute 'imread'",
     "traceback": [
      "\u001b[1;31m---------------------------------------------------------------------------\u001b[0m",
      "\u001b[1;31mAttributeError\u001b[0m                            Traceback (most recent call last)",
      "\u001b[1;32m~\\AppData\\Local\\Temp/ipykernel_12588/3659492205.py\u001b[0m in \u001b[0;36m<module>\u001b[1;34m\u001b[0m\n\u001b[0;32m      5\u001b[0m \u001b[1;31m# We preprocess the image to fit your algorithm.\u001b[0m\u001b[1;33m\u001b[0m\u001b[1;33m\u001b[0m\u001b[1;33m\u001b[0m\u001b[0m\n\u001b[0;32m      6\u001b[0m \u001b[0mfname\u001b[0m \u001b[1;33m=\u001b[0m \u001b[1;34m\"images/\"\u001b[0m \u001b[1;33m+\u001b[0m \u001b[0mmy_image\u001b[0m\u001b[1;33m\u001b[0m\u001b[1;33m\u001b[0m\u001b[0m\n\u001b[1;32m----> 7\u001b[1;33m \u001b[0mimage\u001b[0m \u001b[1;33m=\u001b[0m \u001b[0mnp\u001b[0m\u001b[1;33m.\u001b[0m\u001b[0marray\u001b[0m\u001b[1;33m(\u001b[0m\u001b[0mndimage\u001b[0m\u001b[1;33m.\u001b[0m\u001b[0mimread\u001b[0m\u001b[1;33m(\u001b[0m\u001b[0mfname\u001b[0m\u001b[1;33m,\u001b[0m \u001b[0mflatten\u001b[0m\u001b[1;33m=\u001b[0m\u001b[1;32mFalse\u001b[0m\u001b[1;33m)\u001b[0m\u001b[1;33m)\u001b[0m\u001b[1;33m\u001b[0m\u001b[1;33m\u001b[0m\u001b[0m\n\u001b[0m\u001b[0;32m      8\u001b[0m \u001b[0mimage\u001b[0m \u001b[1;33m=\u001b[0m \u001b[0mimage\u001b[0m\u001b[1;33m/\u001b[0m\u001b[1;36m255.\u001b[0m\u001b[1;33m\u001b[0m\u001b[1;33m\u001b[0m\u001b[0m\n\u001b[0;32m      9\u001b[0m \u001b[0mmy_image\u001b[0m \u001b[1;33m=\u001b[0m \u001b[0mscipy\u001b[0m\u001b[1;33m.\u001b[0m\u001b[0mmisc\u001b[0m\u001b[1;33m.\u001b[0m\u001b[0mimresize\u001b[0m\u001b[1;33m(\u001b[0m\u001b[0mimage\u001b[0m\u001b[1;33m,\u001b[0m \u001b[0msize\u001b[0m\u001b[1;33m=\u001b[0m\u001b[1;33m(\u001b[0m\u001b[0mnum_px\u001b[0m\u001b[1;33m,\u001b[0m\u001b[0mnum_px\u001b[0m\u001b[1;33m)\u001b[0m\u001b[1;33m)\u001b[0m\u001b[1;33m.\u001b[0m\u001b[0mreshape\u001b[0m\u001b[1;33m(\u001b[0m\u001b[1;33m(\u001b[0m\u001b[1;36m1\u001b[0m\u001b[1;33m,\u001b[0m \u001b[0mnum_px\u001b[0m\u001b[1;33m*\u001b[0m\u001b[0mnum_px\u001b[0m\u001b[1;33m*\u001b[0m\u001b[1;36m3\u001b[0m\u001b[1;33m)\u001b[0m\u001b[1;33m)\u001b[0m\u001b[1;33m.\u001b[0m\u001b[0mT\u001b[0m\u001b[1;33m\u001b[0m\u001b[1;33m\u001b[0m\u001b[0m\n",
      "\u001b[1;31mAttributeError\u001b[0m: module 'scipy.ndimage' has no attribute 'imread'"
     ]
    }
   ],
   "source": [
    "## START CODE HERE ## (PUT YOUR IMAGE NAME) \n",
    "my_image = \"my_image.jpg\"   # change this to the name of your image file \n",
    "## END CODE HERE ##\n",
    "\n",
    "# We preprocess the image to fit your algorithm.\n",
    "fname = \"images/\" + my_image\n",
    "image = np.array(ndimage.imread(fname, flatten=False))\n",
    "image = image/255.\n",
    "my_image = scipy.misc.imresize(image, size=(num_px,num_px)).reshape((1, num_px*num_px*3)).T\n",
    "my_predicted_image = predict(d[\"w\"], d[\"b\"], my_image)\n",
    "\n",
    "plt.imshow(image)\n",
    "print(\"y = \" + str(np.squeeze(my_predicted_image)) + \", your algorithm predicts a \\\"\" + classes[int(np.squeeze(my_predicted_image)),].decode(\"utf-8\") +  \"\\\" picture.\")"
   ]
  },
  {
   "cell_type": "markdown",
   "metadata": {},
   "source": [
    "<font color='blue'>\n",
    "**What to remember from this assignment:**\n",
    "1. Preprocessing the dataset is important.\n",
    "2. You implemented each function separately: initialize(), propagate(), optimize(). Then you built a model().\n",
    "3. Tuning the learning rate (which is an example of a \"hyperparameter\") can make a big difference to the algorithm. You will see more examples of this later in this course!"
   ]
  },
  {
   "cell_type": "markdown",
   "metadata": {},
   "source": [
    "Finally, if you'd like, we invite you to try different things on this Notebook. Make sure you submit before trying anything. Once you submit, things you can play with include:\n",
    "    - Play with the learning rate and the number of iterations\n",
    "    - Try different initialization methods and compare the results\n",
    "    - Test other preprocessings (center the data, or divide each row by its standard deviation)"
   ]
  },
  {
   "cell_type": "markdown",
   "metadata": {},
   "source": [
    "Bibliography:\n",
    "- http://www.wildml.com/2015/09/implementing-a-neural-network-from-scratch/\n",
    "- https://stats.stackexchange.com/questions/211436/why-do-we-normalize-images-by-subtracting-the-datasets-image-mean-and-not-the-c"
   ]
  }
 ],
 "metadata": {
  "coursera": {
   "course_slug": "neural-networks-deep-learning",
   "graded_item_id": "XaIWT",
   "launcher_item_id": "zAgPl"
  },
  "kernelspec": {
   "name": "python3",
   "display_name": "Python 3.9.5 64-bit (windows store)"
  },
  "language_info": {
   "codemirror_mode": {
    "name": "ipython",
    "version": 3
   },
   "file_extension": ".py",
   "mimetype": "text/x-python",
   "name": "python",
   "nbconvert_exporter": "python",
   "pygments_lexer": "ipython3",
   "version": "3.9.5"
  },
  "interpreter": {
   "hash": "6fd3feea12e6712f95acabbc1593635252bf7023c6cb8c551c888be73d3664cd"
  }
 },
 "nbformat": 4,
 "nbformat_minor": 2
}